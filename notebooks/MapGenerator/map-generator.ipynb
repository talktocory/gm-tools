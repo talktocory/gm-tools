{
 "cells": [
  {
   "attachments": {},
   "cell_type": "markdown",
   "metadata": {},
   "source": [
    "# Map Generator\n",
    "\n",
    "The Map Generator provides GMs with a way to quickly generate a map that can be incorporated into their campaign.  Simply provide the notebook with a concept and the notebook will do the rest.\n",
    "\n",
    "> [!IMPORTANT]\n",
    "> You will need an [.NET 8 SDK](https://dotnet.microsoft.com/en-us/download/dotnet/8.0) and [Polyglot](https://marketplace.visualstudio.com/items?itemName=ms-dotnettools.dotnet-interactive-vscode) to get started with this notebook using .NET Interactive.\n",
    "> \n",
    ">\n",
    "> To run the LLM prompts and semantic functions, make sure you have an\n",
    "> - [Azure OpenAI Service Key](https://learn.microsoft.com/azure/cognitive-services/openai/quickstart?pivots=rest-api) or\n",
    "> - [OpenAI API Key](https://platform.openai.com)."
   ]
  },
  {
   "cell_type": "markdown",
   "metadata": {},
   "source": [
    "## Step 1 - Define your Concept\n",
    "\n",
    "Provide your testing context information in `input/user_message.txt`."
   ]
  },
  {
   "cell_type": "code",
   "execution_count": 13,
   "metadata": {
    "dotnet_interactive": {
     "language": "csharp"
    },
    "polyglot_notebook": {
     "kernelName": "csharp"
    }
   },
   "outputs": [],
   "source": [
    "// Load all text in ../input/user_message.text\n",
    "string user_message = await System.IO.File.ReadAllTextAsync(\"input/user_message.txt\");\n",
    "\n",
    "// Load all text in ../input/system_message.text\n",
    "string system_message = await System.IO.File.ReadAllTextAsync(\"input/system_message.txt\");\n"
   ]
  },
  {
   "cell_type": "markdown",
   "metadata": {},
   "source": [
    "## Step 2 - Initial Configuration\n",
    "\n",
    "Run the following cells to configure your AI generative settings."
   ]
  },
  {
   "cell_type": "markdown",
   "metadata": {},
   "source": [
    "\n",
    "Choose whether you wish to use the OpenAI or Azure OpenAI service."
   ]
  },
  {
   "cell_type": "code",
   "execution_count": 14,
   "metadata": {
    "dotnet_interactive": {
     "language": "csharp"
    },
    "polyglot_notebook": {
     "kernelName": "csharp"
    }
   },
   "outputs": [],
   "source": [
    "bool useAzureOpenAI = false;"
   ]
  },
  {
   "cell_type": "markdown",
   "metadata": {},
   "source": [
    "Execute the following code which will ask a few questions and save the settings to a local\n",
    "`settings.json` configuration file, under the [config](config) folder. You can\n",
    "also edit the file manually if you prefer. **Please keep the file safe.**"
   ]
  },
  {
   "cell_type": "code",
   "execution_count": 15,
   "metadata": {
    "dotnet_interactive": {
     "language": "csharp"
    },
    "polyglot_notebook": {
     "kernelName": "csharp"
    }
   },
   "outputs": [
    {
     "name": "stdout",
     "output_type": "stream",
     "text": [
      "Settings: OK: AI model configured [config/settings.json]\n",
      "Settings: OK: API key configured [config/settings.json]\n"
     ]
    }
   ],
   "source": [
    "#!import config/Settings.cs\n",
    "\n",
    "await Settings.AskAzureEndpoint(useAzureOpenAI);\n",
    "await Settings.AskModel(useAzureOpenAI);\n",
    "await Settings.AskApiKey(useAzureOpenAI);\n",
    "\n",
    "// Uncomment this if you're using OpenAI and need to set the Org Id\n",
    "await Settings.AskOrg(useAzureOpenAI);"
   ]
  },
  {
   "cell_type": "markdown",
   "metadata": {},
   "source": [
    "## Step 3 - Instantiate Services"
   ]
  },
  {
   "cell_type": "code",
   "execution_count": 16,
   "metadata": {
    "dotnet_interactive": {
     "language": "csharp"
    },
    "polyglot_notebook": {
     "kernelName": "csharp"
    }
   },
   "outputs": [
    {
     "data": {
      "text/html": [
       "<div><div></div><div></div><div><strong>Installed Packages</strong><ul><li><span>Microsoft.SemanticKernel, 1.16.2</span></li><li><span>SkiaSharp, 2.88.8</span></li><li><span>System.Numerics.Tensors, 8.0.0</span></li></ul></div></div>"
      ]
     },
     "metadata": {},
     "output_type": "display_data"
    }
   ],
   "source": [
    "// Remove previously installed nuget packages\n",
    "#r \"nuget: Microsoft.SemanticKernel\"\n",
    "#r \"nuget: System.Numerics.Tensors\"\n",
    "#r \"nuget: SkiaSharp\"\n",
    "\n",
    "#!import config/Settings.cs\n",
    "#!import config/Utils.cs\n",
    "#!import config/SkiaUtils.cs\n",
    "\n",
    "using System.ComponentModel;\n",
    "using System.Numerics.Tensors;\n",
    "using Microsoft.SemanticKernel;\n",
    "using Microsoft.SemanticKernel.ChatCompletion;\n",
    "using Microsoft.SemanticKernel.Connectors.OpenAI;\n",
    "using Microsoft.SemanticKernel.Embeddings;\n",
    "using Microsoft.SemanticKernel.TextToImage;\n",
    "\n",
    "#pragma warning disable SKEXP0001, SKEXP0010\n",
    "\n",
    "var builder = Microsoft.SemanticKernel.Kernel.CreateBuilder();\n",
    "\n",
    "// Configure AI backend used by the kernel\n",
    "var (useAzureOpenAI, model, azureEndpoint, apiKey, orgId) = Settings.LoadFromFile();\n",
    "\n",
    "var httpClient = new HttpClient\n",
    "{\n",
    "    Timeout = TimeSpan.FromMinutes(10),\n",
    "};\n",
    "\n",
    "\n",
    "if (useAzureOpenAI)\n",
    "{\n",
    "    builder.AddAzureOpenAITextEmbeddingGeneration(\"text-embedding-ada-002\", azureEndpoint, apiKey);\n",
    "    builder.AddAzureOpenAIChatCompletion(model, azureEndpoint, apiKey, httpClient: httpClient);\n",
    "    builder.AddAzureOpenAITextToImage(\"dall-e-3\", azureEndpoint, apiKey);\n",
    "}\n",
    "    \n",
    "else\n",
    "{\n",
    "    builder.AddOpenAITextEmbeddingGeneration(\"text-embedding-ada-002\", apiKey, orgId);\n",
    "    builder.AddOpenAIChatCompletion(model, apiKey, orgId, httpClient: httpClient);\n",
    "    builder.AddOpenAITextToImage(apiKey, orgId);\n",
    "}\n",
    "\n",
    "var kernel = builder.Build();\n",
    "\n",
    "// Create the output directory\n",
    "var outputDirectory = Path.Combine(System.IO.Directory.GetCurrentDirectory(), \"output\");\n",
    "if (!Directory.Exists(outputDirectory))\n",
    "{\n",
    "    Directory.CreateDirectory(outputDirectory);\n",
    "}\n",
    "\n",
    "// Get AI service instance used to generate images\n",
    "var dallE = kernel.GetRequiredService<ITextToImageService>();\n",
    "\n",
    "// Get AI service instance used to extract embedding from a text\n",
    "var textEmbedding = kernel.GetRequiredService<ITextEmbeddingGenerationService>();\n"
   ]
  },
  {
   "cell_type": "markdown",
   "metadata": {},
   "source": [
    "## Step 4 - Generate the Content\n",
    "\n",
    "All generated output will be found in the `output` folder.  If no files exist in this folder post execution, expand this section and review the code execution results for failure."
   ]
  },
  {
   "cell_type": "code",
   "execution_count": 17,
   "metadata": {},
   "outputs": [],
   "source": [
    "#pragma warning disable SKEXP0001\n",
    "\n",
    "// Create an httpClient\n",
    "var httpClient = new HttpClient();\n",
    "\n",
    "var imageUrl = await dallE.GenerateImageAsync(system_message + \" \" + user_message, 1024, 1024);\n",
    "\n",
    "// Download the image to a local file\n",
    "using (Stream stream = await httpClient.GetStreamAsync(imageUrl))\n",
    "using (MemoryStream memStream = new MemoryStream())\n",
    "{\n",
    "    await stream.CopyToAsync(memStream);\n",
    "    File.WriteAllBytes(Path.Combine(outputDirectory, $\"map.png\"), memStream.ToArray());\n",
    "};"
   ]
  }
 ],
 "metadata": {
  "kernelspec": {
   "display_name": ".NET (C#)",
   "language": "C#",
   "name": ".net-csharp"
  },
  "language_info": {
   "name": "polyglot-notebook"
  },
  "polyglot_notebook": {
   "kernelInfo": {
    "defaultKernelName": "csharp",
    "items": [
     {
      "aliases": [],
      "name": "csharp"
     }
    ]
   }
  }
 },
 "nbformat": 4,
 "nbformat_minor": 2
}
