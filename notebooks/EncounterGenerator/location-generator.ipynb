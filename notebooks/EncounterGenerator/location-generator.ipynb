{
 "cells": [
  {
   "attachments": {},
   "cell_type": "markdown",
   "metadata": {},
   "source": [
    "# Encounter Generator\n",
    "\n",
    "The Encounter Generator provides GMs with a way to quickly generate an encounter that can be incorporated into their campaign.  Simply provide the notebook with a concept and the notebook will do the rest.\n",
    "\n",
    "> [!IMPORTANT]\n",
    "> You will need an [.NET 8 SDK](https://dotnet.microsoft.com/en-us/download/dotnet/8.0) and [Polyglot](https://marketplace.visualstudio.com/items?itemName=ms-dotnettools.dotnet-interactive-vscode) to get started with this notebook using .NET Interactive.\n",
    "> \n",
    ">\n",
    "> To run the LLM prompts and semantic functions, make sure you have an\n",
    "> - [Azure OpenAI Service Key](https://learn.microsoft.com/azure/cognitive-services/openai/quickstart?pivots=rest-api) or\n",
    "> - [OpenAI API Key](https://platform.openai.com)."
   ]
  },
  {
   "cell_type": "markdown",
   "metadata": {},
   "source": [
    "## Step 1 - Define your Concept\n",
    "\n",
    "Provide your testing context information in `input/user_message.txt`."
   ]
  },
  {
   "cell_type": "code",
   "execution_count": 1,
   "metadata": {},
   "outputs": [],
   "source": [
    "// Load all text in ../input/user_message.text\n",
    "string user_message = await System.IO.File.ReadAllTextAsync(\"input/user_message.txt\");\n",
    "\n",
    "// Load all text in ../input/system_message.text\n",
    "string system_message = await System.IO.File.ReadAllTextAsync(\"input/system_message.txt\");\n"
   ]
  },
  {
   "cell_type": "markdown",
   "metadata": {},
   "source": [
    "## Step 2 - Initial Configuration\n",
    "\n",
    "Run the following cells to configure your AI generative settings."
   ]
  },
  {
   "cell_type": "markdown",
   "metadata": {},
   "source": [
    "\n",
    "Choose whether you wish to use the OpenAI or Azure OpenAI service."
   ]
  },
  {
   "cell_type": "code",
   "execution_count": 2,
   "metadata": {
    "dotnet_interactive": {
     "language": "csharp"
    },
    "polyglot_notebook": {
     "kernelName": "csharp"
    }
   },
   "outputs": [],
   "source": [
    "bool useAzureOpenAI = false;"
   ]
  },
  {
   "cell_type": "markdown",
   "metadata": {},
   "source": [
    "Execute the following code which will ask a few questions and save the settings to a local\n",
    "`settings.json` configuration file, under the [config](config) folder. You can\n",
    "also edit the file manually if you prefer. **Please keep the file safe.**"
   ]
  },
  {
   "cell_type": "code",
   "execution_count": 3,
   "metadata": {
    "dotnet_interactive": {
     "language": "csharp"
    },
    "polyglot_notebook": {
     "kernelName": "csharp"
    }
   },
   "outputs": [
    {
     "name": "stdout",
     "output_type": "stream",
     "text": [
      "Settings: OK: AI model configured [config/settings.json]\n",
      "Settings: OK: API key configured [config/settings.json]\n"
     ]
    }
   ],
   "source": [
    "#!import config/Settings.cs\n",
    "\n",
    "await Settings.AskAzureEndpoint(useAzureOpenAI);\n",
    "await Settings.AskModel(useAzureOpenAI);\n",
    "await Settings.AskApiKey(useAzureOpenAI);\n",
    "\n",
    "// Uncomment this if you're using OpenAI and need to set the Org Id\n",
    "await Settings.AskOrg(useAzureOpenAI);"
   ]
  },
  {
   "cell_type": "markdown",
   "metadata": {},
   "source": [
    "## Step 3 - Instantiate Services"
   ]
  },
  {
   "cell_type": "code",
   "execution_count": 4,
   "metadata": {
    "dotnet_interactive": {
     "language": "csharp"
    },
    "polyglot_notebook": {
     "kernelName": "csharp"
    }
   },
   "outputs": [
    {
     "data": {
      "text/html": [
       "<div><div></div><div></div><div><strong>Installed Packages</strong><ul><li><span>Microsoft.SemanticKernel, 1.16.2</span></li><li><span>SkiaSharp, 2.88.8</span></li><li><span>System.Numerics.Tensors, 8.0.0</span></li></ul></div></div>"
      ]
     },
     "metadata": {},
     "output_type": "display_data"
    },
    {
     "data": {
      "text/plain": [
       "Loading extensions from `C:\\Users\\n01572960\\.nuget\\packages\\skiasharp\\2.88.8\\interactive-extensions\\dotnet\\SkiaSharp.DotNet.Interactive.dll`"
      ]
     },
     "metadata": {},
     "output_type": "display_data"
    }
   ],
   "source": [
    "// Remove previously installed nuget packages\n",
    "#r \"nuget: Microsoft.SemanticKernel\"\n",
    "#r \"nuget: System.Numerics.Tensors\"\n",
    "#r \"nuget: SkiaSharp\"\n",
    "\n",
    "#!import config/Settings.cs\n",
    "#!import config/Utils.cs\n",
    "#!import config/SkiaUtils.cs\n",
    "\n",
    "using System.ComponentModel;\n",
    "using System.Numerics.Tensors;\n",
    "using Microsoft.SemanticKernel;\n",
    "using Microsoft.SemanticKernel.ChatCompletion;\n",
    "using Microsoft.SemanticKernel.Connectors.OpenAI;\n",
    "using Microsoft.SemanticKernel.Embeddings;\n",
    "using Microsoft.SemanticKernel.TextToImage;\n",
    "\n",
    "#pragma warning disable SKEXP0001, SKEXP0010\n",
    "\n",
    "var builder = Microsoft.SemanticKernel.Kernel.CreateBuilder();\n",
    "\n",
    "// Configure AI backend used by the kernel\n",
    "var (useAzureOpenAI, model, azureEndpoint, apiKey, orgId) = Settings.LoadFromFile();\n",
    "\n",
    "var httpClient = new HttpClient\n",
    "{\n",
    "    Timeout = TimeSpan.FromMinutes(10),\n",
    "};\n",
    "\n",
    "\n",
    "if (useAzureOpenAI)\n",
    "{\n",
    "    builder.AddAzureOpenAITextEmbeddingGeneration(\"text-embedding-ada-002\", azureEndpoint, apiKey);\n",
    "    builder.AddAzureOpenAIChatCompletion(model, azureEndpoint, apiKey, httpClient: httpClient);\n",
    "    builder.AddAzureOpenAITextToImage(\"dall-e-3\", azureEndpoint, apiKey);\n",
    "}\n",
    "    \n",
    "else\n",
    "{\n",
    "    builder.AddOpenAITextEmbeddingGeneration(\"text-embedding-ada-002\", apiKey, orgId);\n",
    "    builder.AddOpenAIChatCompletion(model, apiKey, orgId, httpClient: httpClient);\n",
    "    builder.AddOpenAITextToImage(apiKey, orgId);\n",
    "}\n",
    "\n",
    "var pluginsDirectory = Path.Combine(System.IO.Directory.GetCurrentDirectory(), \"plugins\");\n",
    "\n",
    "var kernel = builder.Build();\n",
    "\n",
    "// Get plugin functions\n",
    "var pluginFunctions = kernel.ImportPluginFromPromptDirectory(Path.Combine(pluginsDirectory, \"LocationPlugin\"));\n",
    "\n",
    "// Create the output directory\n",
    "var outputDirectory = Path.Combine(System.IO.Directory.GetCurrentDirectory(), \"output\");\n",
    "if (!Directory.Exists(outputDirectory))\n",
    "{\n",
    "    Directory.CreateDirectory(outputDirectory);\n",
    "}\n",
    "\n",
    "// Get chat completion service instance\n",
    "var chatCompletionService = kernel.GetRequiredService<IChatCompletionService>();\n",
    "\n",
    "// Get AI service instance used to generate images\n",
    "var dallE = kernel.GetRequiredService<ITextToImageService>();\n",
    "\n",
    "// Get AI service instance used to extract embedding from a text\n",
    "var textEmbedding = kernel.GetRequiredService<ITextEmbeddingGenerationService>();\n",
    "\n",
    "OpenAIPromptExecutionSettings openAIPromptExecutionSettings = new() \n",
    "{\n",
    "    ToolCallBehavior = ToolCallBehavior.AutoInvokeKernelFunctions\n",
    "};\n",
    "\n",
    "var history = new ChatHistory();\n"
   ]
  },
  {
   "cell_type": "markdown",
   "metadata": {},
   "source": [
    "## Step 4 - Generate the Content\n",
    "\n",
    "All generated output will be found in the `output` folder.  If no files exist in this folder post execution, expand this section and review the code execution results for failure."
   ]
  },
  {
   "cell_type": "markdown",
   "metadata": {},
   "source": [
    "Generate the encounter."
   ]
  },
  {
   "cell_type": "code",
   "execution_count": 5,
   "metadata": {
    "dotnet_interactive": {
     "language": "csharp"
    },
    "polyglot_notebook": {
     "kernelName": "csharp"
    }
   },
   "outputs": [],
   "source": [
    "#pragma warning disable SKEXP0001\n",
    "\n",
    "// Add the system message to the chat history\n",
    "history.AddSystemMessage(system_message);\n",
    "\n",
    "// Add the user message to the chat history\n",
    "history.AddUserMessage(user_message);\n",
    "\n",
    "// 1. Get the response from the AI with automatic function calling\n",
    "var result = await chatCompletionService.GetChatMessageContentAsync(\n",
    "    history,\n",
    "    executionSettings: openAIPromptExecutionSettings,\n",
    "    kernel: kernel);\n",
    "\n",
    "// Add the message from the agent to the chat history\n",
    "history.AddMessage(result.Role, result.Content ?? string.Empty);"
   ]
  },
  {
   "cell_type": "markdown",
   "metadata": {},
   "source": [
    "The following code outputs the history to the console for debugging purposes."
   ]
  },
  {
   "cell_type": "code",
   "execution_count": 6,
   "metadata": {},
   "outputs": [
    {
     "name": "stdout",
     "output_type": "stream",
     "text": [
      "System: \n",
      "\tYou are a game master for a Dungeons and Dragons campaign that specializes in creating fantastic eco...\n",
      "User: \n",
      "\tPlease generate a location based on the following information: * The town of Hammersend is a port to...\n",
      "Assistant: \n",
      "\tCalling LocationPlugin/Location\n",
      "LocationPlugin/Location:\n",
      "\t## Location: Hammersend  ### 1. Define the Purpose of the Location - **Role in the Story**: Hammerse...\n",
      "Assistant: \n",
      "\tCalling LocationPlugin/NPC\n",
      "\tCalling LocationPlugin/Encounter\n",
      "\tCalling LocationPlugin/LootTable\n",
      "LocationPlugin/NPC:\n",
      "\t### NPC 1: Seraphina the Sea Witch   **Appearance**: Seraphina is a tall, ethereal woman with long, ...\n",
      "LocationPlugin/Encounter:\n",
      "\t## Encounter: The Cult of the Sea Witch  ### Purpose and Context - **Narrative Role**: This encounte...\n",
      "LocationPlugin/LootTable:\n",
      "\t| D20 Roll | Item Name               | Low Value Description                                   | Med...\n",
      "Assistant: \n",
      "\t# Hammersend: The Port Town of Secrets  ## Location Overview  ### Define the Purpose of the Location...\n"
     ]
    }
   ],
   "source": [
    "#pragma warning disable SKEXP0001\n",
    "\n",
    "// Examine the chat history and output a summary to the console\n",
    "foreach (var message in history.ToArray<ChatMessageContent>())\n",
    "{\n",
    "    // Limit the output to 100 characters\n",
    "    var formattedMessage = (message.Content?.Length > 100 ? message.Content.Substring(0, 100) + \"...\" : message.Content ?? string.Empty).Replace(\"\\n\", \" \").Replace(\"\\r\", \" \").Replace(\"\\t\", \" \");\n",
    "\n",
    "    if (message.Role == AuthorRole.Tool)\n",
    "    {\n",
    "        var functionResult = (FunctionResultContent) message.Items.Where<KernelContent>(x => x is Microsoft.SemanticKernel.FunctionResultContent).FirstOrDefault();\n",
    "        Console.WriteLine($\"{functionResult?.PluginName ?? string.Empty}/{functionResult?.FunctionName ?? string.Empty}:\");\n",
    "        Console.WriteLine($\"\\t{formattedMessage}\");\n",
    "    }\n",
    "    else if (message.Role == AuthorRole.System)\n",
    "    {\n",
    "        Console.WriteLine(\"System: \");\n",
    "        Console.WriteLine($\"\\t{formattedMessage}\");\n",
    "    }\n",
    "    else if (message.Role == AuthorRole.User)\n",
    "    {\n",
    "        Console.WriteLine(\"User: \");\n",
    "        Console.WriteLine($\"\\t{formattedMessage}\");\n",
    "    }\n",
    "    else if (message.Role == AuthorRole.Assistant)\n",
    "    {\n",
    "        Console.WriteLine(\"Assistant: \");\n",
    "        foreach (var item in message.Items.ToArray<KernelContent>())\n",
    "        {\n",
    "            if (item is FunctionCallContent functionResult)\n",
    "            {\n",
    "                functionResult = (FunctionCallContent) item;\n",
    "                Console.WriteLine($\"\\tCalling {functionResult.PluginName}/{functionResult.FunctionName}\");\n",
    "            }\n",
    "            else if (!string.IsNullOrEmpty(formattedMessage))\n",
    "            {\n",
    "                Console.WriteLine($\"\\t{formattedMessage}\");\n",
    "            }\n",
    "        }\n",
    "    }\n",
    "    else\n",
    "    {\n",
    "        Console.WriteLine($\"Unknown: {formattedMessage}\");\n",
    "    }\n",
    "}"
   ]
  },
  {
   "cell_type": "markdown",
   "metadata": {},
   "source": [
    "The generated content will be more useful to us if we can structure it into a data format that can be consumed by other systems."
   ]
  },
  {
   "cell_type": "code",
   "execution_count": 4,
   "metadata": {
    "dotnet_interactive": {
     "language": "csharp"
    },
    "polyglot_notebook": {
     "kernelName": "csharp"
    }
   },
   "outputs": [],
   "source": [
    "// Ensure the output directory exists\n",
    "Directory.CreateDirectory(\"output\");\n",
    "\n",
    "// Delete all files and directories in the output directory\n",
    "foreach (var file in Directory.GetFiles(\"output\"))\n",
    "{\n",
    "    File.Delete(file);\n",
    "}\n",
    "\n",
    "foreach (var dir in Directory.GetDirectories(\"output\"))\n",
    "{\n",
    "    Directory.Delete(dir, true);\n",
    "}\n",
    "\n",
    "// Save the result to the output directory\n",
    "await File.WriteAllTextAsync(Path.Combine(outputDirectory, \"encounter.md\"), result.Content);"
   ]
  }
 ],
 "metadata": {
  "kernelspec": {
   "display_name": ".NET (C#)",
   "language": "C#",
   "name": ".net-csharp"
  },
  "language_info": {
   "name": "polyglot-notebook"
  },
  "polyglot_notebook": {
   "kernelInfo": {
    "defaultKernelName": "csharp",
    "items": [
     {
      "aliases": [],
      "name": "csharp"
     }
    ]
   }
  }
 },
 "nbformat": 4,
 "nbformat_minor": 2
}
