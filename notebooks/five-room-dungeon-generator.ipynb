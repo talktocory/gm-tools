{
 "cells": [
  {
   "attachments": {},
   "cell_type": "markdown",
   "metadata": {},
   "source": [
    "# Five-Room Dungeon Generator\n",
    "\n",
    "The Five-Room Dungeon Generator provides GMs with a way to quickly generate a custom five-room dungeon that can be incorporated into their campaign.  Simply provide the notebook with a concept and the notebook will do the rest.\n",
    "\n",
    "> [!IMPORTANT]\n",
    "> You will need an [.NET 8 SDK](https://dotnet.microsoft.com/en-us/download/dotnet/8.0) and [Polyglot](https://marketplace.visualstudio.com/items?itemName=ms-dotnettools.dotnet-interactive-vscode) to get started with this notebook using .NET Interactive.\n",
    "> \n",
    ">\n",
    "> To run the LLM prompts and semantic functions, make sure you have an\n",
    "> - [Azure OpenAI Service Key](https://learn.microsoft.com/azure/cognitive-services/openai/quickstart?pivots=rest-api) or\n",
    "> - [OpenAI API Key](https://platform.openai.com)."
   ]
  },
  {
   "cell_type": "markdown",
   "metadata": {},
   "source": [
    "## Step 1 - Define Your Concept\n",
    "\n",
    "Define your five-room dungeon concept."
   ]
  },
  {
   "cell_type": "code",
   "execution_count": 2,
   "metadata": {
    "dotnet_interactive": {
     "language": "csharp"
    },
    "polyglot_notebook": {
     "kernelName": "csharp"
    }
   },
   "outputs": [],
   "source": [
    "// Modify these variables according to your five-room dungeon concept.\n",
    "var system_message = @\"\n",
    "You are a game master for a Dungeons and Dragons campaign.\n",
    "Please create a five-room dungeon for a party of 5 level 3 adventurers.\n",
    "The five-room dungeon should be of medium difficulty.\n",
    "\n",
    "Output options:\n",
    "* the five-room dungeon outline, \n",
    "* descriptive text for each room in the outline, \n",
    "* a list of NPCs and monsters that the party will encounter, \n",
    "* a rolltable of possible loot that the party can find.\n",
    "* Please output the generated information into a single consolidated markdown document.\n",
    "* please do not format results into json, csv, or other structured data formats\n",
    "\";\n",
    "\n",
    "var user_message = @\"Please generate a five-room dungeon concept based on the following details:\n",
    "* The five-room dungeon will take place in the town of Hammersend.\n",
    "* The party must deal with a powerful cult that has taken control of the town of Hammersend.\n",
    "* The cult is comprised of acolytes and clerics who worship ancient sea witches.\n",
    "* The cult has formed a partnership with one of the player's brothers, who has been corrupted by the cult's influence.\n",
    "* The party must infiltrate the cult's evil lair, an abandoned lighthouse.\n",
    "* The cult will summon a tentacle monster to destroy the party and the town if they are not stopped.\n",
    "\";"
   ]
  },
  {
   "cell_type": "markdown",
   "metadata": {},
   "source": [
    "## Step 2 - Initial Configuration\n",
    "\n",
    "Configure the OpenAI or Azure OpenAI endpoints that we will be using."
   ]
  },
  {
   "cell_type": "markdown",
   "metadata": {},
   "source": [
    "\n",
    "Choose whether you wish to use the OpenAI or Azure OpenAI service."
   ]
  },
  {
   "cell_type": "code",
   "execution_count": 3,
   "metadata": {
    "dotnet_interactive": {
     "language": "csharp"
    },
    "polyglot_notebook": {
     "kernelName": "csharp"
    }
   },
   "outputs": [],
   "source": [
    "bool useAzureOpenAI = false;"
   ]
  },
  {
   "cell_type": "markdown",
   "metadata": {},
   "source": [
    "Execute the following code which will ask a few questions and save the settings to a local\n",
    "`settings.json` configuration file, under the [config](config) folder. You can\n",
    "also edit the file manually if you prefer. **Please keep the file safe.**"
   ]
  },
  {
   "cell_type": "code",
   "execution_count": 4,
   "metadata": {
    "dotnet_interactive": {
     "language": "csharp"
    },
    "polyglot_notebook": {
     "kernelName": "csharp"
    }
   },
   "outputs": [
    {
     "name": "stdout",
     "output_type": "stream",
     "text": [
      "Settings: OK: AI model configured [config/settings.json]\n",
      "Settings: OK: API key configured [config/settings.json]\n"
     ]
    }
   ],
   "source": [
    "#!import config/Settings.cs\n",
    "\n",
    "await Settings.AskAzureEndpoint(useAzureOpenAI);\n",
    "await Settings.AskModel(useAzureOpenAI);\n",
    "await Settings.AskApiKey(useAzureOpenAI);\n",
    "\n",
    "// Uncomment this if you're using OpenAI and need to set the Org Id\n",
    "await Settings.AskOrg(useAzureOpenAI);"
   ]
  },
  {
   "cell_type": "markdown",
   "metadata": {},
   "source": [
    "## Step 3 - Instantiate Services\n",
    "\n",
    "Set up the Microsoft Semantic AI Kernel that will use for generative operations."
   ]
  },
  {
   "cell_type": "code",
   "execution_count": 5,
   "metadata": {
    "dotnet_interactive": {
     "language": "csharp"
    },
    "polyglot_notebook": {
     "kernelName": "csharp"
    }
   },
   "outputs": [
    {
     "data": {
      "text/html": [
       "<div><div></div><div></div><div><strong>Installed Packages</strong><ul><li><span>Microsoft.SemanticKernel, 1.15.1</span></li><li><span>SkiaSharp, 2.88.8</span></li><li><span>System.Numerics.Tensors, 8.0.0</span></li></ul></div></div>"
      ]
     },
     "metadata": {},
     "output_type": "display_data"
    }
   ],
   "source": [
    "// Remove previously installed nuget packages\n",
    "#r \"nuget: Microsoft.SemanticKernel, 1.15.1\"\n",
    "#r \"nuget: System.Numerics.Tensors\"\n",
    "#r \"nuget: SkiaSharp\"\n",
    "\n",
    "#!import config/Settings.cs\n",
    "#!import config/Utils.cs\n",
    "#!import config/SkiaUtils.cs\n",
    "\n",
    "using System.ComponentModel;\n",
    "using System.Numerics.Tensors;\n",
    "using Microsoft.SemanticKernel;\n",
    "using Microsoft.SemanticKernel.ChatCompletion;\n",
    "using Microsoft.SemanticKernel.Connectors.OpenAI;\n",
    "using Microsoft.SemanticKernel.Embeddings;\n",
    "using Microsoft.SemanticKernel.TextToImage;\n",
    "\n",
    "#pragma warning disable SKEXP0001, SKEXP0010\n",
    "\n",
    "var builder = Microsoft.SemanticKernel.Kernel.CreateBuilder();\n",
    "\n",
    "// Configure AI backend used by the kernel\n",
    "var (useAzureOpenAI, model, azureEndpoint, apiKey, orgId) = Settings.LoadFromFile();\n",
    "\n",
    "if (useAzureOpenAI)\n",
    "{\n",
    "    builder.AddAzureOpenAITextEmbeddingGeneration(\"text-embedding-ada-002\", azureEndpoint, apiKey);\n",
    "    builder.AddAzureOpenAIChatCompletion(model, azureEndpoint, apiKey);\n",
    "    builder.AddAzureOpenAITextToImage(\"dall-e-3\", azureEndpoint, apiKey);\n",
    "}\n",
    "    \n",
    "else\n",
    "{\n",
    "    builder.AddOpenAITextEmbeddingGeneration(\"text-embedding-ada-002\", apiKey, orgId);\n",
    "    builder.AddOpenAIChatCompletion(model, apiKey, orgId);\n",
    "    builder.AddOpenAITextToImage(apiKey, orgId);\n",
    "}\n",
    "\n",
    "var pluginsDirectory = Path.Combine(System.IO.Directory.GetCurrentDirectory(), \"..\", \"plugins\");\n",
    "\n",
    "var kernel = builder.Build();\n",
    "\n",
    "// Get chat completion service instance\n",
    "var chatCompletionService = kernel.GetRequiredService<IChatCompletionService>();\n",
    "\n",
    "// Get AI service instance used to generate images\n",
    "var dallE = kernel.GetRequiredService<ITextToImageService>();\n",
    "\n",
    "// Get AI service instance used to extract embedding from a text\n",
    "var textEmbedding = kernel.GetRequiredService<ITextEmbeddingGenerationService>();\n",
    "\n",
    "// Get plugin functions\n",
    "var pluginFunctions = kernel.ImportPluginFromPromptDirectory(Path.Combine(pluginsDirectory, \"FiveRoomDungeonPlugin\"));\n",
    "\n",
    "OpenAIPromptExecutionSettings openAIPromptExecutionSettings = new() \n",
    "{\n",
    "    ToolCallBehavior = ToolCallBehavior.AutoInvokeKernelFunctions\n",
    "};\n",
    "\n",
    "var history = new ChatHistory();\n"
   ]
  },
  {
   "attachments": {},
   "cell_type": "markdown",
   "metadata": {},
   "source": [
    "## Step 4 - Generate Outline\n",
    "Generate the five-room dungeon outline, room descriptions and loot table."
   ]
  },
  {
   "cell_type": "code",
   "execution_count": 6,
   "metadata": {
    "dotnet_interactive": {
     "language": "csharp"
    },
    "polyglot_notebook": {
     "kernelName": "csharp"
    }
   },
   "outputs": [
    {
     "name": "stdout",
     "output_type": "stream",
     "text": [
      "Assistant > # Five-Room Dungeon: The Lighthouse of Shadows\n",
      "\n",
      "## Room 1: Entrance and Guardian\n",
      "### Description\n",
      "As you approach the abandoned lighthouse, the air grows thick with the scent of salt and decay. The once-proud structure now stands as a grim sentinel over the town of Hammersend, its weathered stones slick with sea spray and algae. The entrance is flanked by two imposing statues of ancient sea witches, their eyes seemingly following your every move.\n",
      "\n",
      "The heavy wooden door creaks ominously as you push it open, revealing a dimly lit chamber. The flickering light of torches casts eerie shadows on the walls, which are adorned with grotesque carvings of tentacled horrors and arcane symbols. The air inside is damp and cold, carrying the faint, briny smell of the ocean mixed with something far more sinister.\n",
      "\n",
      "In the center of the room, a large, circular stone altar dominates the space. It is covered in dark stains and surrounded by candles that flicker with an unnatural, greenish flame. The altar is clearly a focal point for the cult's dark rituals, and you can almost feel the malevolent energy radiating from it.\n",
      "\n",
      "To one side of the room, a spiral staircase winds its way up into the darkness, leading to the upper levels of the lighthouse. The faint sound of chanting drifts down from above, a haunting melody that sends shivers down your spine. On the opposite side, a heavy iron door stands slightly ajar, revealing a glimpse of a storage room filled with crates and barrels, likely containing supplies and possibly clues about the cult's plans.\n",
      "\n",
      "As you take in the scene, you notice a figure lurking in the shadows near the altar. It is one of the cult's acolytes, clad in tattered robes and clutching a wicked-looking dagger. His eyes gleam with fanaticism as he steps forward, a twisted smile spreading across his face.\n",
      "\n",
      "\"Welcome, intruders,\" he hisses, his voice dripping with malice. \"You are too late. The ritual has already begun, and soon our master will rise from the depths to claim this town and all who dwell within it.\"\n",
      "\n",
      "The room is filled with a palpable sense of dread, and you know that you must act quickly to stop the cult's nefarious plans. The fate of Hammersend—and perhaps even the world—rests in your hands.\n",
      "\n",
      "## Room 2: Puzzle or Roleplaying Challenge\n",
      "### Description\n",
      "As you step past the entrance, the narrow corridor of the abandoned lighthouse opens up into a dimly lit chamber. The air is thick with the scent of salt and mildew, a reminder of the sea's close proximity. The walls are lined with damp, moss-covered stones, and the faint sound of dripping water echoes through the room, creating an eerie, rhythmic backdrop.\n",
      "\n",
      "In the center of the chamber stands a makeshift barricade, constructed from broken furniture and debris. A heavy, iron gate blocks your path forward, its lock glinting ominously in the sparse light. The gate is adorned with strange, arcane symbols that seem to pulse with a faint, otherworldly glow.\n",
      "\n",
      "To the side, you notice a figure slumped against the wall, bound and gagged. It's a captured cultist, his robes tattered and stained. His eyes widen as he sees you, and he begins to struggle against his bonds, muffled pleas for help escaping through the gag. He gestures frantically towards the gate, then to himself, as if trying to convey a message.\n",
      "\n",
      "The room is filled with an oppressive silence, broken only by the occasional creak of the lighthouse settling and the distant crash of waves against the shore. The atmosphere is tense, charged with the promise of danger and the weight of the decisions you must make. Will you trust the captured cultist and negotiate for his assistance, or will you find another way to bypass the gate and continue your mission to stop the cult's nefarious plans?\n",
      "\n",
      "## Room 3: Trick or Setback\n",
      "### Description\n",
      "As you step through the now-unlocked gate, you find yourselves in a seemingly tranquil clearing. The moonlight filters through the canopy above, casting an eerie glow on the scene. The air is thick with the scent of damp earth and salt, a reminder of the nearby sea. The ground is uneven, covered in patches of wild grass and scattered rocks. The silence is almost deafening, broken only by the distant crash of waves against the cliffs.\n",
      "\n",
      "But something feels off. The tranquility of the clearing is a facade, a deceptive calm before the storm. As you take a few cautious steps forward, you notice subtle signs of danger: a glint of metal hidden beneath a pile of leaves, a thin wire stretched taut between two trees. These are traps, carefully laid out to ensnare the unwary.\n",
      "\n",
      "Suddenly, a twig snaps underfoot, and the clearing erupts into chaos. Hidden snares spring to life, and tripwires trigger a series of alarms. From the shadows of the trees, a group of cultists emerges, their eyes gleaming with malevolent intent. They are clad in dark robes adorned with symbols of the ancient sea witches, and each wields a weapon with deadly precision.\n",
      "\n",
      "The cultists move with practiced coordination, their ambush well-rehearsed. You must navigate the treacherous ground, avoiding the traps while fending off the attackers. The air is filled with the clash of steel and the chanting of dark incantations, as the cultists call upon their sinister powers to aid them in battle.\n",
      "\n",
      "In the midst of the chaos, you catch a glimpse of a familiar face among the cultists. It is your brother, his eyes now cold and unrecognizable, twisted by the cult's influence. He fights with a fervor that borders on madness, his attacks relentless and brutal. The sight of him is a painful reminder of what is at stake, and the need to break the cult's hold over him.\n",
      "\n",
      "The clearing, once a place of deceptive peace, has become a battleground. Every step must be taken with care, every move calculated. The cultists are determined to stop you, but you must press on, for the fate of Hammersend—and your brother—hangs in the balance.\n",
      "\n",
      "## Room 4: Climax\n",
      "### Description\n",
      "As you step into the heart of the abandoned lighthouse, the air grows thick with the scent of salt and decay. The room is dimly lit by flickering torches mounted on the stone walls, casting eerie shadows that dance and twist like malevolent spirits. The sound of crashing waves echoes through the chamber, a constant reminder of the sea's relentless power.\n",
      "\n",
      "In the center of the room stands a towering figure, the cult leader, draped in tattered robes adorned with symbols of the ancient sea witches. His eyes burn with a fanatical light, and his voice carries an unsettling resonance as he chants in a forgotten tongue. Surrounding him are several elite cultists, their faces hidden beneath dark hoods, each clutching a wickedly curved dagger.\n",
      "\n",
      "At the far end of the room, you see a large, ornate altar, upon which rests a pulsating, otherworldly artifact. Tendrils of dark energy emanate from it, snaking through the air and converging on the cult leader, who seems to draw power from its malevolent aura. The artifact's glow casts an unnatural light, illuminating the twisted features of the cultists and the grotesque carvings on the walls.\n",
      "\n",
      "Suddenly, the ground trembles, and a deep, guttural roar reverberates through the chamber. From the shadows, a massive tentacle emerges, its surface slick and glistening with a dark, viscous substance. More tentacles follow, writhing and thrashing as they rise from the depths below, summoned by the cult's dark ritual.\n",
      "\n",
      "The cult leader's voice rises to a fevered pitch, and the cultists join in, their chants growing louder and more frenzied. The room seems to pulse with dark energy, and you can feel the oppressive weight of the cult's malevolent power bearing down on you.\n",
      "\n",
      "This is the final confrontation. The fate of Hammersend hangs in the balance, and the corrupted brother stands among the cultists, his eyes filled with a mix of rage and sorrow. You must summon all your courage and strength to face this dire threat, for the very soul of the town—and perhaps your own—depends on it.\n",
      "\n",
      "## Room 5: Reward or Revelation\n",
      "### Description\n",
      "As you step into the final chamber of the abandoned lighthouse, the air grows thick with an oppressive, salty tang, reminiscent of the sea. The room is dimly lit by flickering torches mounted on the damp, stone walls, casting eerie shadows that dance and twist like malevolent spirits. The sound of crashing waves echoes from outside, mingling with the distant, haunting chants of the cultists.\n",
      "\n",
      "In the center of the room, a large, circular summoning circle is etched into the floor, glowing with an otherworldly blue light. Strange symbols and runes pulse with energy, and the air hums with a palpable sense of dark magic. At the heart of the circle stands the cult leader, a figure draped in tattered, seaweed-like robes, their face obscured by a hood. They hold a staff adorned with barnacles and shells, which crackles with arcane power.\n",
      "\n",
      "Surrounding the leader are several acolytes, their eyes glazed over with fanatic devotion. They chant in unison, their voices rising and falling in a rhythmic cadence that sends shivers down your spine. Among them, you spot a familiar face—one of the player's brothers, his expression twisted with a mix of fear and fervor.\n",
      "\n",
      "As you take in the scene, the ground beneath you begins to tremble. From the summoning circle, dark tendrils of energy start to emerge, coalescing into the form of a massive, writhing tentacle monster. Its eyes, glowing with a malevolent intelligence, lock onto you, and a guttural roar reverberates through the chamber.\n",
      "\n",
      "The cult leader raises their staff, and the chanting intensifies. \"You are too late,\" they hiss, their voice echoing with unnatural resonance. \"The sea witches' power will consume you all, and Hammersend will be ours!\"\n",
      "\n",
      "The room is filled with the scent of brine and decay, and the temperature drops, causing your breath to mist in the air. The walls seem to close in, and the weight of the impending battle presses down on you. This is the final confrontation, where the fate of Hammersend—and perhaps even the world—will be decided.\n",
      "\n",
      "Prepare yourselves, for the fight of your lives is about to begin.\n",
      "\n",
      "## NPCs and Monsters\n",
      "1. **Cult Acolytes**: These fanatical followers of the sea witches are relatively low-level threats but should not be underestimated. \n",
      "2. **Corrupted Town Guard**: A stronger opponent, previously loyal to Hammersend, now driven by dark influence.\n",
      "3. **Captured Cultist**: Might assist players with the puzzle if properly persuaded or threatened.\n",
      "4. **Cult Leader**: A powerful cleric with command over dark magic and the summoning circle.\n",
      "5. **Water Elementals**: Evoked during the trap room to complicate the situation.\n",
      "6. **Elite Cultists**: More skilled warriors than the average cult acolytes, defending the ritual with their lives.\n",
      "7. **Corrupted Brother**: A significant emotional antagonist, whose salvation is crucial.\n",
      "8. **Tentacle Monster**: The grand threat summoned in the climax, possibly turned against the cult if the ritual is disrupted.\n",
      "\n",
      "## Loot Rolltable\n",
      "- **Roll 1d6 for Loot Table**\n",
      "  1. **Potion of Water Breathing**: Essential for future sea adventures.\n",
      "  2. **+1 Dagger**: A weapon with inscriptions of ancient seashell runes, grants an additional 1d4 poison damage.\n",
      "  3. **Cultist Journal**: Details future plans of the cult and clues to larger threats.\n",
      "  4. **Amulet of Protection**: Adds +1 to AC and saving throws.\n",
      "  5. **Scroll of Dispel Magic**: Useful for breaking future enchantments.\n",
      "  6. **Bag of Holding**: Contains various trinkets and 500 GP worth of assorted gems. \n",
      "\n",
      "By delving into this dungeon, the adventurers will not only challenge their combat and puzzle-solving skills but also deal with complex emotional ties and darker forces at play. \n",
      "\n",
      "Good luck, brave adventurers of Hammersend. Your town’s fate depends on your courage and cunning!\r\n"
     ]
    }
   ],
   "source": [
    "// Add the system message to the chat history\n",
    "history.AddSystemMessage(system_message);\n",
    "\n",
    "// Add the user message to the chat history\n",
    "history.AddUserMessage(user_message);\n",
    "\n",
    "// 1. Get the response from the AI with automatic function calling\n",
    "var result = await chatCompletionService.GetChatMessageContentAsync(\n",
    "    history,\n",
    "    executionSettings: openAIPromptExecutionSettings,\n",
    "    kernel: kernel);\n",
    "\n",
    "// Add the message from the agent to the chat history\n",
    "history.AddMessage(result.Role, result.Content ?? string.Empty);\n",
    "\n",
    "// Print the results\n",
    "Console.WriteLine(\"Assistant > \" + result);\n"
   ]
  },
  {
   "cell_type": "markdown",
   "metadata": {},
   "source": [
    "## Step 5 - Convert Outline to Structured Data\n",
    "\n",
    "The generated content will be more useful to us if we can structure it into a data format that can be consumed by other systems."
   ]
  },
  {
   "cell_type": "code",
   "execution_count": 7,
   "metadata": {
    "dotnet_interactive": {
     "language": "csharp"
    },
    "polyglot_notebook": {
     "kernelName": "csharp"
    }
   },
   "outputs": [],
   "source": [
    "// Construct arguments\n",
    "var arguments = new KernelArguments() { [\"input_context\"] = result.Content };\n",
    "\n",
    "// Define the POCO classes\n",
    "public class NPC\n",
    "{\n",
    "    public string name { get; set; }\n",
    "    public string appearance { get; set; }\n",
    "    public string personality { get; set; }\n",
    "    public string role { get; set; }\n",
    "}\n",
    "\n",
    "public class Entry\n",
    "{\n",
    "    public int roll { get; set; }\n",
    "    public string item { get; set; }\n",
    "    public string description_basic { get; set; }\n",
    "    public string description_intermediate { get; set; }\n",
    "    public string description_advanced { get; set; }\n",
    "}\n",
    "\n",
    "public class RollTable\n",
    "{\n",
    "    public string description { get; set; }\n",
    "    public List<Entry> entries { get; set; }\n",
    "}\n",
    "\n",
    "public class LootTable\n",
    "{\n",
    "    public RollTable rolltable { get; set; }\n",
    "}\n",
    "\n",
    "public class FiveRoomDungeon\n",
    "{\n",
    "    public string title { get; set; }\n",
    "    public string introduction { get; set; }\n",
    "    public string plot_twist { get; set; }\n",
    "    public List<Room> rooms { get; set; }\n",
    "}\n",
    "\n",
    "public class Room\n",
    "{\n",
    "    public int room_number { get; set; }\n",
    "    public string title { get; set; }\n",
    "    public string objective { get; set; }\n",
    "    public string design { get; set; }\n",
    "    public string description { get; set; }\n",
    "}\n",
    "\n",
    "// Create the output directory\n",
    "var outputDirectory = Path.Combine(System.IO.Directory.GetCurrentDirectory(), \"..\", \"output\");\n",
    "if (!Directory.Exists(outputDirectory))\n",
    "{\n",
    "    Directory.CreateDirectory(outputDirectory);\n",
    "}\n",
    "\n",
    "// Parse the Five-Room Dungeon markdown content into JSON\n",
    "var jsonContent5RD = await kernel.InvokeAsync(pluginFunctions[\"JSONFormatFiveRoomDungeon\"], arguments);\n",
    "var jsonContent5RDString = jsonContent5RD.ToString().Replace(\"```json\", string.Empty).Replace(\"```\", string.Empty).Trim();\n",
    "File.WriteAllText(Path.Combine(outputDirectory, \"five-room-dungeon.json\"), jsonContent5RDString);\n",
    "FiveRoomDungeon fiveRoomDungeon = JsonSerializer.Deserialize<FiveRoomDungeon>(jsonContent5RDString);\n",
    "\n",
    "// Parse the Loot markdown content into JSON\n",
    "var jsonContentLoot = await kernel.InvokeAsync(pluginFunctions[\"JSONFormatLootTable\"], arguments);\n",
    "var jsonContentLootString = jsonContentLoot.ToString().Replace(\"```json\", string.Empty).Replace(\"```\", string.Empty).Trim();\n",
    "File.WriteAllText(Path.Combine(outputDirectory, \"loot-table.json\"), jsonContentLootString);\n",
    "LootTable lootTable = JsonSerializer.Deserialize<LootTable>(jsonContentLootString);\n",
    "\n",
    "// Parse the NPC markdown content into JSON\n",
    "var jsonContentNPCs = await kernel.InvokeAsync(pluginFunctions[\"JSONFormatNPCs\"], arguments);\n",
    "var jsonContentNPCsString = jsonContentNPCs.ToString().Replace(\"```json\", string.Empty).Replace(\"```\", string.Empty).Trim();\n",
    "File.WriteAllText(Path.Combine(outputDirectory, \"npcs.json\"), jsonContentNPCsString);\n",
    "List<NPC> npcs = JsonSerializer.Deserialize<List<NPC>>(jsonContentNPCsString);"
   ]
  },
  {
   "cell_type": "markdown",
   "metadata": {},
   "source": [
    "## Step 6 - Use the Structured Data\n",
    "\n",
    "Now that we have structured data, we can programmatically iterate through objects of interest and perform further action.  In this case, we'll be generating token images for each NPC and consolidate the generated content into a single markdown document."
   ]
  },
  {
   "cell_type": "code",
   "execution_count": 9,
   "metadata": {
    "dotnet_interactive": {
     "language": "csharp"
    },
    "polyglot_notebook": {
     "kernelName": "csharp"
    }
   },
   "outputs": [],
   "source": [
    "#pragma warning disable SKEXP0001\n",
    "\n",
    "var prompt = \"A photo-realistic portrait of an NPC with the following description: \";\n",
    "\n",
    "// Create an httpClient\n",
    "var httpClient = new HttpClient();\n",
    "\n",
    "// Output the deserialized objects\n",
    "foreach (var npc in npcs)\n",
    "{\n",
    "    // Use DALL-E 3 to generate an image. OpenAI in this case returns a URL (though you can ask to return a base64 image)\n",
    "    var imageUrl = await dallE.GenerateImageAsync(prompt + npc.appearance, 256, 256);\n",
    "\n",
    "    // Download the image to a local file\n",
    "    using (Stream stream = await httpClient.GetStreamAsync(imageUrl))\n",
    "    using (MemoryStream memStream = new MemoryStream())\n",
    "    {\n",
    "        await stream.CopyToAsync(memStream);\n",
    "        File.WriteAllBytes(Path.Combine(outputDirectory, $\"{npc.name}.png\"), memStream.ToArray());\n",
    "    };\n",
    "}\n",
    "\n",
    "// Construct the markdown content\n",
    "var markdownContent = new StringBuilder();\n",
    "markdownContent.AppendLine($\"# {fiveRoomDungeon.title}\");\n",
    "markdownContent.AppendLine();\n",
    "markdownContent.AppendLine(fiveRoomDungeon.introduction);\n",
    "markdownContent.AppendLine();\n",
    "markdownContent.AppendLine(\"## Plot Twist\");\n",
    "markdownContent.AppendLine(fiveRoomDungeon.plot_twist);\n",
    "markdownContent.AppendLine();\n",
    "markdownContent.AppendLine(\"## Rooms\");\n",
    "foreach (var room in fiveRoomDungeon.rooms)\n",
    "{\n",
    "    markdownContent.AppendLine($\"### Room {room.room_number}: {room.title}\");\n",
    "    markdownContent.AppendLine();\n",
    "    markdownContent.AppendLine($\"**Objective**: {room.objective}\");\n",
    "    markdownContent.AppendLine();\n",
    "    markdownContent.AppendLine($\"**Design**: {room.design}\");\n",
    "    markdownContent.AppendLine();\n",
    "    markdownContent.AppendLine($\"**Description**: {room.description}\");\n",
    "    markdownContent.AppendLine();\n",
    "}\n",
    "markdownContent.AppendLine(\"## NPCs\");\n",
    "foreach (var npc in npcs)\n",
    "{\n",
    "    markdownContent.AppendLine($\"### {npc.name}\");\n",
    "    markdownContent.AppendLine();\n",
    "    markdownContent.AppendLine($\"**Appearance**: {npc.appearance}\");\n",
    "    markdownContent.AppendLine();\n",
    "    markdownContent.AppendLine($\"**Personality**: {npc.personality}\");\n",
    "    markdownContent.AppendLine();\n",
    "    markdownContent.AppendLine($\"**Role**: {npc.role}\");\n",
    "    markdownContent.AppendLine();\n",
    "    markdownContent.AppendLine($\"![{npc.name}](./{npc.name}.png)\");\n",
    "    markdownContent.AppendLine();\n",
    "}\n",
    "markdownContent.AppendLine(\"## Loot Table\");\n",
    "markdownContent.AppendLine(lootTable.rolltable.description);\n",
    "markdownContent.AppendLine();\n",
    "markdownContent.AppendLine(\"| Roll | Item | Basic Description | Intermediate Description | Advanced Description |\");\n",
    "markdownContent.AppendLine(\"|------|------|-------------------|-------------------------|----------------------|\");\n",
    "if (lootTable.rolltable.entries != null)\n",
    "{\n",
    "    foreach (var entry in lootTable.rolltable.entries)\n",
    "    {\n",
    "        markdownContent.AppendLine($\"| {entry.roll} | {entry.item} | {entry.description_basic} | {entry.description_intermediate} | {entry.description_advanced} |\");\n",
    "    }\n",
    "}\n",
    "\n",
    "// Output the markdown content to a file\n",
    "File.WriteAllText(Path.Combine(outputDirectory, \"five-room-dungeon.md\"), markdownContent.ToString());\n"
   ]
  }
 ],
 "metadata": {
  "kernelspec": {
   "display_name": ".NET (C#)",
   "language": "C#",
   "name": ".net-csharp"
  },
  "language_info": {
   "name": "polyglot-notebook"
  },
  "polyglot_notebook": {
   "kernelInfo": {
    "defaultKernelName": "csharp",
    "items": [
     {
      "aliases": [],
      "name": "csharp"
     }
    ]
   }
  }
 },
 "nbformat": 4,
 "nbformat_minor": 2
}
