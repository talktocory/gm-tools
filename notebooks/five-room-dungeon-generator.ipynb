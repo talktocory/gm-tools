{
 "cells": [
  {
   "attachments": {},
   "cell_type": "markdown",
   "metadata": {},
   "source": [
    "# Introduction to the Planner\n",
    "\n",
    "The Planner is one of the fundamental concepts of the Semantic Kernel. It makes use of the collection of plugins that have been registered to the kernel and using AI, will formulate a plan to execute a given ask.\n",
    "\n",
    "Read more about it [here](https://aka.ms/sk/concepts/planner)."
   ]
  },
  {
   "cell_type": "code",
   "execution_count": 7,
   "metadata": {
    "dotnet_interactive": {
     "language": "csharp"
    },
    "polyglot_notebook": {
     "kernelName": "csharp"
    }
   },
   "outputs": [
    {
     "data": {
      "text/html": [
       "<div><div></div><div></div><div><strong>Installed Packages</strong><ul><li><span>Microsoft.SemanticKernel, 1.11.1</span></li><li><span>Microsoft.SemanticKernel.Planners.Handlebars, 1.11.1-preview</span></li></ul></div></div>"
      ]
     },
     "metadata": {},
     "output_type": "display_data"
    }
   ],
   "source": [
    "#r \"nuget: Microsoft.SemanticKernel, 1.11.1\"\n",
    "#r \"nuget: Microsoft.SemanticKernel.Planners.Handlebars, 1.11.1-preview\"\n",
    "\n",
    "#!import config/Settings.cs\n",
    "#!import config/Utils.cs\n",
    "\n",
    "using Microsoft.SemanticKernel;\n",
    "using Microsoft.SemanticKernel.Connectors.OpenAI;\n",
    "using Kernel = Microsoft.SemanticKernel.Kernel;\n",
    "\n",
    "var builder = Kernel.CreateBuilder();\n",
    "\n",
    "// Configure AI backend used by the kernel\n",
    "var (useAzureOpenAI, model, azureEndpoint, apiKey, orgId) = Settings.LoadFromFile();\n",
    "\n",
    "if (useAzureOpenAI)\n",
    "    builder.AddAzureOpenAIChatCompletion(model, azureEndpoint, apiKey);\n",
    "else\n",
    "    builder.AddOpenAIChatCompletion(model, apiKey, orgId);\n",
    "\n",
    "var kernel = builder.Build();"
   ]
  },
  {
   "attachments": {},
   "cell_type": "markdown",
   "metadata": {},
   "source": [
    "### Setting Up Handlebars Planner\n",
    "Handlebars Planner is located in the `Microsoft.SemanticKernel.Planning.Handlebars` package."
   ]
  },
  {
   "cell_type": "code",
   "execution_count": 8,
   "metadata": {
    "dotnet_interactive": {
     "language": "csharp"
    },
    "polyglot_notebook": {
     "kernelName": "csharp"
    }
   },
   "outputs": [],
   "source": [
    "using Microsoft.SemanticKernel.Planning.Handlebars;\n",
    "\n",
    "#pragma warning disable SKEXP0060\n",
    "\n",
    "var planner = new HandlebarsPlanner();"
   ]
  },
  {
   "attachments": {},
   "cell_type": "markdown",
   "metadata": {},
   "source": [
    "### Providing plugins to the planner\n",
    "The planner needs to know what plugins are available to it. Here we'll import the `SummarizePlugin` and `WriterPlugin` we have defined on disk."
   ]
  },
  {
   "cell_type": "code",
   "execution_count": 9,
   "metadata": {
    "dotnet_interactive": {
     "language": "csharp"
    },
    "polyglot_notebook": {
     "kernelName": "csharp"
    }
   },
   "outputs": [],
   "source": [
    "var pluginsDirectory = Path.Combine(System.IO.Directory.GetCurrentDirectory(), \"..\", \"plugins\");\n",
    "\n",
    "var kernel = builder.Build();\n",
    "kernel.ImportPluginFromPromptDirectory(Path.Combine(pluginsDirectory, \"GMToolsPlugin\"));\n"
   ]
  },
  {
   "attachments": {},
   "cell_type": "markdown",
   "metadata": {},
   "source": [
    "Define your ASK. What do you want the Kernel to do?"
   ]
  },
  {
   "cell_type": "code",
   "execution_count": 10,
   "metadata": {
    "dotnet_interactive": {
     "language": "csharp"
    },
    "polyglot_notebook": {
     "kernelName": "csharp"
    }
   },
   "outputs": [
    {
     "name": "stdout",
     "output_type": "stream",
     "text": [
      "Original plan:\n",
      "\n",
      "{{!-- Step 1: Extract Key Values --}}\n",
      "{{set \"game_system\" \"Dungeons & Dragons\"}}\n",
      "{{set \"input_context\" \"A party of four level 5 characters in a forest on a quest to retrieve a magical artifact from a bandit camp. The party consists of a fighter, a wizard, a cleric, and a rogue.\"}}\n",
      "\n",
      "{{!-- Step 2: Generate the Five Room Dungeon --}}\n",
      "{{set \"five_room_dungeon\" (GMToolsPlugin-FiveRoomDungeon game_system=game_system input_context=input_context)}}\n",
      "\n",
      "{{!-- Step 3: Generate Descriptive Text for Each Room --}}\n",
      "{{set \"room_1_desc\" (GMToolsPlugin-RoomDescription room_number=\"1\" input_context=five_room_dungeon)}}\n",
      "{{set \"room_2_desc\" (GMToolsPlugin-RoomDescription room_number=\"2\" input_context=five_room_dungeon)}}\n",
      "{{set \"room_3_desc\" (GMToolsPlugin-RoomDescription room_number=\"3\" input_context=five_room_dungeon)}}\n",
      "{{set \"room_4_desc\" (GMToolsPlugin-RoomDescription room_number=\"4\" input_context=five_room_dungeon)}}\n",
      "{{set \"room_5_desc\" (GMToolsPlugin-RoomDescription room_number=\"5\" input_context=five_room_dungeon)}}\n",
      "\n",
      "{{!-- Step 4: Output the Dungeon Outline and Descriptions --}}\n",
      "# Five Room Dungeon Outline\n",
      "{{five_room_dungeon}}\n",
      "\n",
      "## Room 1 Description\n",
      "{{room_1_desc}}\n",
      "\n",
      "## Room 2 Description\n",
      "{{room_2_desc}}\n",
      "\n",
      "## Room 3 Description\n",
      "{{room_3_desc}}\n",
      "\n",
      "## Room 4 Description\n",
      "{{room_4_desc}}\n",
      "\n",
      "## Room 5 Description\n",
      "{{room_5_desc}}\n"
     ]
    }
   ],
   "source": [
    "#pragma warning disable SKEXP0060\n",
    "\n",
    "var ask = @\"\n",
    "You are a game master for a Dungeons and Dragons campaign.\n",
    "Please create a five-room dungeon for a party of 4 level 5 characters.\n",
    "The five-room dungeon should be of medium difficulty and take place in a forest.\n",
    "The party consists of a fighter, a wizard, a cleric, and a rogue.\n",
    "The party is on a quest to retrieve a magical artifact from a bandit camp.\n",
    "Ensure that the output includes:\n",
    "* the five-room dungeon outline with appropriate markdown headers,\n",
    "* descriptive text for each room with appropriate markdown headers, and\n",
    "* a list of NPCs and monsters that the party will encounter,\n",
    "\";\n",
    "var originalPlan = await planner.CreatePlanAsync(kernel, ask);\n",
    "\n",
    "Console.WriteLine(\"Original plan:\\n\");\n",
    "Console.WriteLine(originalPlan);"
   ]
  },
  {
   "attachments": {},
   "cell_type": "markdown",
   "metadata": {},
   "source": [
    "As you can see in the above plan, the Planner has taken the user's ask and converted it into a Plan object detailing how the AI would go about solving this task.\n",
    "\n",
    "It makes use of the plugins that the Kernel has available to it and determines which functions to call in order to fulfill the user's ask."
   ]
  },
  {
   "attachments": {},
   "cell_type": "markdown",
   "metadata": {},
   "source": [
    "Let's also define an inline plugin and have it be available to the Planner.\n",
    "Be sure to give it a function name and plugin name."
   ]
  },
  {
   "attachments": {},
   "cell_type": "markdown",
   "metadata": {},
   "source": [
    "### Executing the plans\n",
    "\n",
    "Now that we have different plans, let's try to execute them! The Kernel can execute the plan using RunAsync."
   ]
  },
  {
   "cell_type": "code",
   "execution_count": 11,
   "metadata": {
    "dotnet_interactive": {
     "language": "csharp"
    },
    "polyglot_notebook": {
     "kernelName": "csharp"
    }
   },
   "outputs": [
    {
     "name": "stdout",
     "output_type": "stream",
     "text": [
      "Original Plan results:\n",
      "\n",
      "# Five Room Dungeon Outline\n",
      "## Room 1: Entrance and Guardian\n",
      "* **Objective:** Create an initial challenge.\n",
      "* **Design:** The party approaches the bandit camp, which is hidden deep within the forest. The entrance is guarded by two bandit sentinels and a trained wolf. The sentinels are alert and have set up a rudimentary alarm system using tripwires and bells.\n",
      "\n",
      "**Description:** The dense forest opens up to a small clearing where the bandit camp is located. Two sentinels stand guard at the entrance, accompanied by a snarling wolf. The area is littered with traps and alarms designed to alert the camp of intruders.\n",
      "\n",
      "## Room 2: Puzzle or Roleplaying Challenge\n",
      "* **Objective:** Engage players with non-combat interaction.\n",
      "* **Design:** After dealing with the sentinels, the party finds a makeshift hut that serves as the bandit leader&#39;s quarters. Inside, they discover a locked chest with a complex lock mechanism. The chest can only be opened by solving a riddle inscribed on it.\n",
      "\n",
      "**Riddle:** &quot;I speak without a mouth and hear without ears. I have no body, but I come alive with the wind. What am I?&quot;\n",
      "\n",
      "**Answer:** An echo.\n",
      "\n",
      "**Description:** The hut is dimly lit, with maps and stolen goods scattered around. The chest sits in the center, its intricate lock mechanism glinting in the light. The riddle is carved into the wood, challenging the party to think critically.\n",
      "\n",
      "## Room 3: Trick or Setback\n",
      "* **Objective:** Introduce a complication or twist.\n",
      "* **Design:** Upon solving the riddle and opening the chest, the party finds a false bottom. When they remove it, a hidden compartment releases a cloud of sleeping gas. The gas affects all characters who fail a Constitution saving throw (DC 14), putting them to sleep for 1d4 hours.\n",
      "\n",
      "**Description:** As the chest opens, a faint hissing sound is heard. A moment later, a cloud of gas fills the room, threatening to incapacitate the party. The bandits, alerted by the noise, begin to mobilize.\n",
      "\n",
      "## Room 4: Climax, Big Battle, or Conflict\n",
      "* **Objective:** Present the main confrontation.\n",
      "* **Design:** The party, whether they succumb to the gas or not, must face the bandit leader and his elite guards. The leader is a cunning rogue with several tricks up his sleeve, including hidden daggers and smoke bombs. The battle takes place in the heart of the camp, surrounded by tents and makeshift barricades.\n",
      "\n",
      "**Description:** The bandit leader stands in the center of the camp, flanked by his elite guards. The area is chaotic, with bandits scrambling to defend their territory. The leader taunts the party, confident in his ability to defeat them.\n",
      "\n",
      "## Room 5: Reward, Revelation, Plot Twist\n",
      "* **Objective:** Resolve the dungeon with a satisfying conclusion.\n",
      "* **Design:** After defeating the bandit leader, the party finds the magical artifact they were seeking. However, they also discover a letter on the leader&#39;s body, revealing that the bandits were hired by a mysterious benefactor who has a larger, more sinister plan in motion.\n",
      "\n",
      "**Description:** The artifact is a beautifully crafted amulet, glowing with magical energy. The letter, written in elegant script, hints at a larger conspiracy and provides clues for the party&#39;s next adventure. The forest around them seems to grow quieter, as if acknowledging their victory.\n",
      "\n",
      "**Reward:** The magical artifact, along with gold and other valuable items found in the camp. The letter serves as a plot hook for future adventures, adding depth to the campaign&#39;s storyline.\n",
      "\n",
      "## Room 1 Description\n",
      "As you push through the dense underbrush, the forest suddenly opens up into a small clearing. The air is thick with the scent of pine and damp earth, and the distant chirping of birds is abruptly silenced, replaced by an eerie stillness. Before you, the bandit camp comes into view, a rough collection of tents and makeshift structures huddled together in the clearing.\n",
      "\n",
      "Standing at the entrance are two bandit sentinels, their eyes sharp and vigilant. One is a burly man with a thick beard, his mismatched armor clinking softly as he shifts his weight. He leans casually against a wooden post, but his eyes betray his alertness, scanning the forest edge with practiced precision. The other sentinel is a wiry figure with a scar running down his cheek, pacing back and forth with a restless energy. His gaze darts from shadow to shadow, never lingering in one place for too long.\n",
      "\n",
      "Beside them, a large, menacing wolf sits on its haunches, its ears perked and nose twitching as it sniffs the air. The wolf&#39;s fur is a mottled gray, blending seamlessly with the shadows of the forest, and its eyes gleam with a predatory intelligence. A low growl rumbles from its throat, a clear warning to any who might dare approach.\n",
      "\n",
      "The entrance is littered with rudimentary traps and alarms—tripwires strung between trees, connected to bells that would jingle at the slightest disturbance. The sentinels seem confident in their defenses, but you can see the potential for stealth or distraction if you play your cards right.\n",
      "\n",
      "The atmosphere is tense, the air charged with the anticipation of conflict. Every rustle of leaves, every snap of a twig could be the difference between success and failure. The challenge is clear: you must find a way past these vigilant guards and their ferocious companion to penetrate deeper into the bandit camp.\n",
      "\n",
      "## Room 2 Description\n",
      "As you step past the now-silent sentinels and their wolf companion, you find yourself standing before a makeshift hut, its wooden walls roughly hewn and covered in creeping vines. The air inside is musty, filled with the scent of damp wood and old leather. Dim light filters through gaps in the walls, casting eerie shadows that dance across the room.\n",
      "\n",
      "Maps and stolen goods are strewn haphazardly around, hinting at the bandits&#39; chaotic lifestyle. In the center of the hut, a large, ornately carved chest commands your attention. Its intricate lock mechanism glints in the faint light, a testament to its complexity. Carved into the wood above the lock is a riddle, its words seeming to whisper to you as you read:\n",
      "\n",
      "&quot;I speak without a mouth and hear without ears. I have no body, but I come alive with the wind. What am I?&quot;\n",
      "\n",
      "The chest seems to pulse with an almost palpable sense of challenge, daring you to solve its mystery. The room is silent, save for the occasional creak of the wooden structure, as if the very walls are holding their breath in anticipation.\n",
      "\n",
      "## Room 3 Description\n",
      "As you solve the riddle and the chest clicks open, a faint hissing sound fills the room. Before you can react, a cloud of gas billows out, spreading rapidly. The gas has a sweet, almost floral scent, but it quickly becomes overwhelming. Your vision blurs, and you feel a sudden wave of drowsiness wash over you. \n",
      "\n",
      "The dimly lit hut, with its scattered maps and stolen goods, seems to spin around you. The intricate lock mechanism on the chest glints mockingly in the light, as if it knew the trap it held. The riddle carved into the wood now seems like a cruel joke.\n",
      "\n",
      "If you fail to resist the gas, your eyelids grow heavy, and you collapse to the floor, succumbing to a deep, dreamless sleep. The last thing you hear is the distant sound of bandits mobilizing, alerted by the noise.\n",
      "\n",
      "If you manage to resist, you can see your companions struggling against the effects of the gas. You have only moments to act before the bandits arrive, drawn by the commotion. The room feels claustrophobic, the air thick with the lingering scent of the gas, and the tension is palpable.\n",
      "\n",
      "The bandits are coming, and you must decide quickly how to handle this unexpected setback.\n",
      "\n",
      "## Room 4 Description\n",
      "As you step into the heart of the bandit camp, the atmosphere shifts dramatically. The air is thick with tension, and the scent of smoke and sweat hangs heavy. The camp is a chaotic sprawl of tents and makeshift barricades, each one a testament to the bandits&#39; rough existence. In the center of this disorder stands the bandit leader, a figure of imposing presence and cunning eyes that gleam with malice.\n",
      "\n",
      "He is flanked by his elite guards, each one a hardened warrior with a steely gaze and weapons at the ready. The leader himself is a rogue of considerable skill, his hands never straying far from the hidden daggers at his belt. His voice cuts through the din as he taunts you, a confident smirk playing on his lips. &quot;So, you&#39;ve made it this far. Impressive, but this is where your journey ends.&quot;\n",
      "\n",
      "The ground beneath your feet is uneven, littered with debris and the remnants of past skirmishes. The sounds of the camp are a cacophony of shouts and clanging metal as bandits scramble to defend their territory. The flickering light from nearby torches casts eerie shadows, making the scene even more chaotic and disorienting.\n",
      "\n",
      "As you prepare for the confrontation, you notice the leader&#39;s eyes darting around, calculating and planning his next move. He reaches into his cloak and pulls out a smoke bomb, ready to obscure your vision and strike from the shadows. His elite guards tighten their grips on their weapons, muscles tensed and ready for the impending clash.\n",
      "\n",
      "This is the climax of your journey through the bandit camp, a battle that will test your strategic prowess and teamwork. The stakes are high, and the outcome will determine whether you leave this place victorious or fall to the bandit&#39;s ruthless leader. The air crackles with anticipation as you ready yourselves for the fight of your lives.\n",
      "\n",
      "## Room 5 Description\n",
      "As the dust settles from the intense battle, the camp falls eerily silent. The once chaotic scene now lies in disarray, with the bodies of defeated bandits scattered around. In the center of the camp, the bandit leader&#39;s tent stands ominously, its entrance flapping gently in the breeze.\n",
      "\n",
      "Inside the tent, the air is thick with the scent of leather and old parchment. The dim light from a single lantern casts long shadows, creating an atmosphere of both mystery and foreboding. The centerpiece of the room is a large wooden table, cluttered with maps, coins, and various trinkets. But what catches your eye is a beautifully crafted amulet, resting on a velvet cloth. It glows with a soft, ethereal light, pulsating gently as if alive with magical energy.\n",
      "\n",
      "As you approach the amulet, you notice a letter tucked beneath it. The parchment is of high quality, and the elegant script suggests a writer of considerable refinement. The letter reveals that the bandits were mere pawns in a larger, more sinister game. A mysterious benefactor, whose identity remains shrouded in secrecy, orchestrated the bandits&#39; actions. The letter hints at a grander scheme, one that threatens to unravel the very fabric of the world you know.\n",
      "\n",
      "The forest outside the tent seems to hold its breath, as if acknowledging your victory and the gravity of the revelation. The once menacing trees now stand as silent sentinels, their leaves rustling softly in the wind. The sense of accomplishment is palpable, but so is the weight of the new knowledge you carry.\n",
      "\n",
      "Among the scattered loot, you find gold coins, precious gems, and other valuable items, a fitting reward for your efforts. But it is the amulet and the letter that hold the true significance, setting the stage for the next chapter of your adventure. The path ahead is uncertain, but one thing is clear: your journey is far from over, and greater challenges await.\n"
     ]
    }
   ],
   "source": [
    "#pragma warning disable SKEXP0060\n",
    "\n",
    "var originalPlanResult = await originalPlan.InvokeAsync(kernel, new KernelArguments());\n",
    "\n",
    "Console.WriteLine(\"Original Plan results:\\n\");\n",
    "Console.WriteLine(originalPlanResult.ToString());"
   ]
  },
  {
   "attachments": {},
   "cell_type": "markdown",
   "metadata": {},
   "source": [
    "Now lets execute and print the new plan:"
   ]
  }
 ],
 "metadata": {
  "kernelspec": {
   "display_name": ".NET (C#)",
   "language": "C#",
   "name": ".net-csharp"
  },
  "language_info": {
   "name": "polyglot-notebook"
  },
  "polyglot_notebook": {
   "kernelInfo": {
    "defaultKernelName": "csharp",
    "items": [
     {
      "aliases": [],
      "name": "csharp"
     }
    ]
   }
  }
 },
 "nbformat": 4,
 "nbformat_minor": 2
}
