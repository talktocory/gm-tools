{
 "cells": [
  {
   "attachments": {},
   "cell_type": "markdown",
   "metadata": {},
   "source": [
    "# Five-Room Dungeon Generator\n",
    "\n",
    "The Five-Room Dungeon Generator provides GMs with a way to quickly and easily generate a custom five-room dungeon that can be incorporated into their campaign.  Simply provide the notebook with a concept and the notebook will do the rest.\n",
    "\n",
    "> [!IMPORTANT]\n",
    "> You will need an [.NET 8 SDK](https://dotnet.microsoft.com/en-us/download/dotnet/8.0) and [Polyglot](https://marketplace.visualstudio.com/items?itemName=ms-dotnettools.dotnet-interactive-vscode) to get started with this notebook using .NET Interactive."
   ]
  },
  {
   "cell_type": "markdown",
   "metadata": {},
   "source": [
    "## Step 1 - Define Your Concept\n",
    "\n",
    "Define your five-room dungeon concept."
   ]
  },
  {
   "cell_type": "code",
   "execution_count": 109,
   "metadata": {
    "dotnet_interactive": {
     "language": "csharp"
    },
    "polyglot_notebook": {
     "kernelName": "csharp"
    }
   },
   "outputs": [],
   "source": [
    "var concept = @\"\n",
    "You are a game master for a Dungeons and Dragons campaign.\n",
    "Please create a five-room dungeon for a party of 4 level 5 characters.\n",
    "The five-room dungeon should be of medium difficulty and take place in a forest.\n",
    "The party consists of a fighter, a wizard, a cleric, and a rogue.\n",
    "The party is on a quest to retrieve a magical artifact from a bandit camp.\n",
    "Ensure that the output includes:\n",
    "* the five-room dungeon outline, \n",
    "* descriptive text for each room in the outline, \n",
    "* a list of NPCs and monsters that the party will encounter, \n",
    "* a description of the VTT map for the dungeon, and\n",
    "* a rolltable of possible loot that the party can find.\n",
    "Please output the generated information into a single consolidated markdown document.\n",
    "\";"
   ]
  },
  {
   "cell_type": "markdown",
   "metadata": {},
   "source": [
    "## Step 2 - Initial Configuration"
   ]
  },
  {
   "cell_type": "markdown",
   "metadata": {},
   "source": [
    "\n",
    "Choose whether you wish to use the OpenAI or Azure OpenAI service."
   ]
  },
  {
   "cell_type": "code",
   "execution_count": 110,
   "metadata": {},
   "outputs": [],
   "source": [
    "bool useAzureOpenAI = false;"
   ]
  },
  {
   "cell_type": "markdown",
   "metadata": {},
   "source": [
    "Execute the following code which will ask a few questions and save the settings to a local\n",
    "`settings.json` configuration file, under the [config](config) folder. You can\n",
    "also edit the file manually if you prefer. **Please keep the file safe.**"
   ]
  },
  {
   "cell_type": "code",
   "execution_count": 111,
   "metadata": {},
   "outputs": [
    {
     "name": "stdout",
     "output_type": "stream",
     "text": [
      "Settings: OK: AI model configured [config/settings.json]\n",
      "Settings: OK: API key configured [config/settings.json]\n"
     ]
    }
   ],
   "source": [
    "#!import config/Settings.cs\n",
    "\n",
    "await Settings.AskAzureEndpoint(useAzureOpenAI);\n",
    "await Settings.AskModel(useAzureOpenAI);\n",
    "await Settings.AskApiKey(useAzureOpenAI);\n",
    "\n",
    "// Uncomment this if you're using OpenAI and need to set the Org Id\n",
    "await Settings.AskOrg(useAzureOpenAI);"
   ]
  },
  {
   "cell_type": "markdown",
   "metadata": {},
   "source": [
    "If you want to reset the configuration and start again, please uncomment and run the code below.\n",
    "You can also edit the [config/settings.json](config/settings.json) manually if you prefer."
   ]
  },
  {
   "cell_type": "code",
   "execution_count": 112,
   "metadata": {},
   "outputs": [],
   "source": [
    "#!import config/Settings.cs\n",
    "\n",
    "// Uncomment this line to reset your settings and delete the file from disk.\n",
    "// Settings.Reset();"
   ]
  },
  {
   "cell_type": "markdown",
   "metadata": {},
   "source": [
    "## Step 3 - Instantiate Services\n",
    "\n",
    "Set up the Microsoft Semantic AI Kernel that will use for generative operations."
   ]
  },
  {
   "cell_type": "code",
   "execution_count": 113,
   "metadata": {
    "dotnet_interactive": {
     "language": "csharp"
    },
    "polyglot_notebook": {
     "kernelName": "csharp"
    }
   },
   "outputs": [
    {
     "data": {
      "text/html": [
       "<div><div></div><div></div><div><strong>Installed Packages</strong><ul><li><span>Microsoft.SemanticKernel, 1.11.1</span></li><li><span>Microsoft.SemanticKernel.Planners.Handlebars, 1.11.1-preview</span></li><li><span>SkiaSharp, 2.88.3</span></li><li><span>System.Numerics.Tensors, 8.0.0</span></li></ul></div></div>"
      ]
     },
     "metadata": {},
     "output_type": "display_data"
    }
   ],
   "source": [
    "\n",
    "#r \"nuget: Microsoft.SemanticKernel, 1.11.1\"\n",
    "#r \"nuget: Microsoft.SemanticKernel.Planners.Handlebars, 1.11.1-preview\"\n",
    "#r \"nuget: System.Numerics.Tensors, 8.0.0\"\n",
    "#r \"nuget: SkiaSharp, 2.88.3\"\n",
    "\n",
    "#!import config/Settings.cs\n",
    "#!import config/Utils.cs\n",
    "#!import config/SkiaUtils.cs\n",
    "\n",
    "using Microsoft.SemanticKernel;\n",
    "using Microsoft.SemanticKernel.TextToImage;\n",
    "using Microsoft.SemanticKernel.Embeddings;\n",
    "using Microsoft.SemanticKernel.Connectors.OpenAI;\n",
    "using System.Numerics.Tensors;\n",
    "\n",
    "#pragma warning disable SKEXP0001, SKEXP0010\n",
    "\n",
    "var builder = Kernel.CreateBuilder();\n",
    "\n",
    "// Configure AI backend used by the kernel\n",
    "var (useAzureOpenAI, model, azureEndpoint, apiKey, orgId) = Settings.LoadFromFile();\n",
    "\n",
    "if (useAzureOpenAI)\n",
    "{\n",
    "    builder.AddAzureOpenAITextEmbeddingGeneration(\"text-embedding-ada-002\", azureEndpoint, apiKey);\n",
    "    builder.AddAzureOpenAIChatCompletion(model, azureEndpoint, apiKey);\n",
    "    builder.AddAzureOpenAITextToImage(\"dall-e-3\", azureEndpoint, apiKey);\n",
    "}\n",
    "    \n",
    "else\n",
    "{\n",
    "    builder.AddOpenAITextEmbeddingGeneration(\"text-embedding-ada-002\", apiKey, orgId);\n",
    "    builder.AddOpenAIChatCompletion(model, apiKey, orgId);\n",
    "    builder.AddOpenAITextToImage(apiKey, orgId);\n",
    "}\n",
    "\n",
    "var kernel = builder.Build();\n",
    "\n",
    "// Get AI service instance used to generate images\n",
    "var dallE = kernel.GetRequiredService<ITextToImageService>();\n",
    "\n",
    "// Get AI service instance used to extract embedding from a text\n",
    "var textEmbedding = kernel.GetRequiredService<ITextEmbeddingGenerationService>();"
   ]
  },
  {
   "cell_type": "markdown",
   "metadata": {},
   "source": [
    "Import custom plugins from plugin directory."
   ]
  },
  {
   "cell_type": "code",
   "execution_count": 114,
   "metadata": {
    "dotnet_interactive": {
     "language": "csharp"
    },
    "polyglot_notebook": {
     "kernelName": "csharp"
    }
   },
   "outputs": [],
   "source": [
    "var pluginsDirectory = Path.Combine(System.IO.Directory.GetCurrentDirectory(), \"..\", \"plugins\");\n",
    "\n",
    "var kernel = builder.Build();\n",
    "kernel.ImportPluginFromPromptDirectory(Path.Combine(pluginsDirectory, \"GMToolsPlugin\"));"
   ]
  },
  {
   "attachments": {},
   "cell_type": "markdown",
   "metadata": {},
   "source": [
    "Set up the Handlebars Planner that will be used for orchestrating generative operations."
   ]
  },
  {
   "cell_type": "code",
   "execution_count": 115,
   "metadata": {
    "dotnet_interactive": {
     "language": "csharp"
    },
    "polyglot_notebook": {
     "kernelName": "csharp"
    }
   },
   "outputs": [],
   "source": [
    "using Microsoft.SemanticKernel.Planning.Handlebars;\n",
    "\n",
    "#pragma warning disable SKEXP0060\n",
    "\n",
    "var planner = new HandlebarsPlanner();"
   ]
  },
  {
   "cell_type": "markdown",
   "metadata": {},
   "source": [
    "## Step 4 - Develop an Execution Plan\n",
    "\n",
    "Have the planner generate an executiong plan based on the provided concept and kernel plugins."
   ]
  },
  {
   "cell_type": "code",
   "execution_count": 116,
   "metadata": {},
   "outputs": [
    {
     "name": "stdout",
     "output_type": "stream",
     "text": [
      "{{!-- Step 1: Generate the Five Room Dungeon outline --}}\n",
      "{{set \"dungeon_outline\" (GMToolsPlugin-FiveRoomDungeon game_system=\"Dungeons and Dragons 5th Edition\" input_context=\"This dungeon takes place in a forest and is designed for a party of 4 level 5 characters. The party consists of a fighter, a wizard, a cleric, and a rogue. They are on a quest to retrieve a magical artifact from a bandit camp. The dungeon should be of medium difficulty.\")}}\n",
      "\n",
      "{{!-- Step 2: Generate descriptive text for each room --}}\n",
      "{{set \"room1_description\" (GMToolsPlugin-RoomDescription room_number=\"1\" input_context=dungeon_outline)}}\n",
      "\n",
      "{{set \"room2_description\" (GMToolsPlugin-RoomDescription room_number=\"2\" input_context=dungeon_outline)}}\n",
      "\n",
      "{{set \"room3_description\" (GMToolsPlugin-RoomDescription room_number=\"3\" input_context=dungeon_outline)}}\n",
      "\n",
      "{{set \"room4_description\" (GMToolsPlugin-RoomDescription room_number=\"4\" input_context=dungeon_outline)}}\n",
      "\n",
      "{{set \"room5_description\" (GMToolsPlugin-RoomDescription room_number=\"5\" input_context=dungeon_outline)}}\n",
      "\n",
      "{{!-- Step 3: Generate list of NPCs and monsters --}}\n",
      "{{set \"npc_list\" (GMToolsPlugin-NPC input_context=dungeon_outline)}}\n",
      "\n",
      "{{!-- Step 4: Generate description for VTT map --}}\n",
      "{{set \"map_description\" (GMToolsPlugin-MapDescription input_context=dungeon_outline)}}\n",
      "\n",
      "{{!-- Step 5: Generate rolltable of possible loot --}}\n",
      "{{set \"loot_rolltable\" (GMToolsPlugin-Loot input_context=dungeon_outline)}}\n",
      "\n",
      "{{!-- Step 6: Output the consolidated markdown document --}}\n",
      "# Five Room Dungeon Outline\n",
      "{{json dungeon_outline}}\n",
      "\n",
      "## Room 1 Description\n",
      "{{json room1_description}}\n",
      "\n",
      "## Room 2 Description\n",
      "{{json room2_description}}\n",
      "\n",
      "## Room 3 Description\n",
      "{{json room3_description}}\n",
      "\n",
      "## Room 4 Description\n",
      "{{json room4_description}}\n",
      "\n",
      "## Room 5 Description\n",
      "{{json room5_description}}\n",
      "\n",
      "## NPCs and Monsters\n",
      "{{json npc_list}}\n",
      "\n",
      "## VTT Map Description\n",
      "{{json map_description}}\n",
      "\n",
      "## Loot Rolltable\n",
      "{{json loot_rolltable}}\r\n"
     ]
    }
   ],
   "source": [
    "#pragma warning disable SKEXP0060\n",
    "\n",
    "// Generate a plan for the concept\n",
    "var executionPlan  = await planner.CreatePlanAsync(kernel, concept);\n",
    "Console.WriteLine(executionPlan);"
   ]
  },
  {
   "attachments": {},
   "cell_type": "markdown",
   "metadata": {},
   "source": [
    "## Step 5 - Execute the Plan\n",
    "Execute the plan and generate the five-room dungeon outline and room descriptions."
   ]
  },
  {
   "cell_type": "code",
   "execution_count": 119,
   "metadata": {
    "dotnet_interactive": {
     "language": "csharp"
    },
    "polyglot_notebook": {
     "kernelName": "csharp"
    }
   },
   "outputs": [
    {
     "name": "stdout",
     "output_type": "stream",
     "text": [
      "# Five Room Dungeon Outline\n",
      "## Room 1: Entrance and Guardian\n",
      "* **Objective:** Create an initial challenge.\n",
      "* **Design:** The entrance to the bandit camp is hidden within a dense thicket of trees. The path is guarded by two bandit scouts and a trained wolf. The scouts are on high alert, making stealth difficult but not impossible. The party must either defeat the guards or find a way to sneak past them.\n",
      "\n",
      "**Description:**\n",
      "The forest thickens as you approach the bandit camp. The air is filled with the scent of pine and the sound of rustling leaves. Ahead, you spot two bandit scouts patrolling the area, accompanied by a snarling wolf. The path to the camp is narrow and well-guarded.\n",
      "\n",
      "## Room 2: Puzzle or Roleplaying Challenge\n",
      "* **Objective:** Engage players with non-combat interaction.\n",
      "* **Design:** After passing the guards, the party encounters a clearing with a large, ancient tree at its center. The tree has a series of runes carved into its bark. The runes form a riddle that, when solved, reveals the hidden entrance to the bandit camp&#39;s underground hideout. Alternatively, the party can attempt to persuade a captured bandit to reveal the entrance.\n",
      "\n",
      "**Description:**\n",
      "In the heart of the forest, you find a massive, ancient tree. Its bark is etched with strange runes that seem to glow faintly. The runes form a riddle: &quot;I speak without a mouth and hear without ears. I have no body, but I come alive with wind. What am I?&quot; Solving the riddle reveals a hidden trapdoor at the base of the tree.\n",
      "\n",
      "## Room 3: Trick or Setback\n",
      "* **Objective:** Introduce a complication or twist.\n",
      "* **Design:** As the party descends into the underground hideout, they trigger a hidden trap. The floor collapses, sending them sliding down a chute into a dark, damp cavern. The cavern is filled with poisonous mushrooms that release toxic spores when disturbed. The party must navigate the cavern carefully to avoid inhaling the spores.\n",
      "\n",
      "**Description:**\n",
      "The trapdoor opens to reveal a narrow staircase leading down into darkness. As you descend, the floor suddenly gives way, and you find yourselves sliding down a steep chute. You land in a damp, dark cavern filled with glowing, poisonous mushrooms. The air is thick with spores, and you must tread carefully to avoid disturbing them.\n",
      "\n",
      "## Room 4: Climax, Big Battle, or Conflict\n",
      "* **Objective:** Present the main confrontation.\n",
      "* **Design:** The party finally reaches the bandit leader&#39;s chamber. The leader, a cunning rogue named Varek, is accompanied by his elite guards. Varek wields the magical artifact the party seeks, using its power to enhance his combat abilities. The party must defeat Varek and his guards to claim the artifact.\n",
      "\n",
      "**Description:**\n",
      "You enter a large chamber lit by flickering torches. At the far end stands Varek, the bandit leader, flanked by his elite guards. Varek holds a gleaming, magical artifact in his hand, its power evident in the way it crackles with energy. &quot;You&#39;ve come far,&quot; Varek sneers, &quot;but this is where your journey ends.&quot; The final battle begins.\n",
      "\n",
      "## Room 5: Reward, Revelation, Plot Twist\n",
      "* **Objective:** Resolve the dungeon with a satisfying conclusion.\n",
      "* **Design:** After defeating Varek, the party claims the magical artifact. However, they also discover a hidden journal in Varek&#39;s chamber. The journal reveals that Varek was working for a powerful, shadowy figure who seeks to use the artifact for a dark ritual. This revelation sets the stage for the party&#39;s next quest.\n",
      "\n",
      "**Description:**\n",
      "With Varek and his guards defeated, you finally claim the magical artifact. As you search the chamber, you find a hidden journal. The journal details Varek&#39;s dealings with a mysterious, powerful figure who plans to use the artifact for a dark ritual. The revelation sends a chill down your spine, but it also provides a new lead for your next adventure.\n",
      "\n",
      "## Room 1 Description\n",
      "As you push through the dense thicket of trees, the forest seems to close in around you, the scent of pine and damp earth filling your nostrils. The rustling of leaves and the distant call of a bird are the only sounds that break the heavy silence. The path ahead is narrow, barely more than a deer trail, and you can feel the tension in the air as you approach the bandit camp.\n",
      "\n",
      "Through the foliage, you catch sight of two bandit scouts patrolling the area. One is a burly man with a patchy beard and a scar running down his arm, his eyes scanning the surroundings with a practiced vigilance. The other is a lean, wiry figure, her movements quick and precise as she paces back and forth, her gaze never lingering in one place for too long. Both are clad in mismatched armor, a testament to their rough and tumble lifestyle, and each grips a weapon with a sense of readiness.\n",
      "\n",
      "Beside them, a large, menacing wolf sits on its haunches, its ears perked and nose twitching as it sniffs the air. The wolf&#39;s fur is a mottled gray, blending seamlessly with the shadows of the forest, and its eyes gleam with a predatory intelligence. A low growl rumbles from its throat, a clear warning to any who might dare approach.\n",
      "\n",
      "The path to the camp is well-guarded, and the scouts are on high alert, making stealth difficult but not impossible. The challenge before you is clear: defeat the guards or find a way to sneak past them. The fate of your mission hangs in the balance as you decide your next move.\n",
      "\n",
      "## Room 2 Description\n",
      "As you step past the defeated guards, the forest opens up into a serene clearing, dominated by a massive, ancient tree at its center. The air here is still, almost reverent, and the scent of earth and moss fills your nostrils. The tree&#39;s bark is gnarled and weathered, its roots sprawling out like the fingers of an old giant. Carved into the bark are a series of runes, glowing faintly with an otherworldly light.\n",
      "\n",
      "The runes form a riddle: &quot;I speak without a mouth and hear without ears. I have no body, but I come alive with wind. What am I?&quot; The words seem to hum with a quiet power, inviting you to solve their mystery. As you ponder the riddle, you notice a captured bandit tied to one of the tree&#39;s roots, his eyes darting nervously between you and the runes.\n",
      "\n",
      "The bandit, a scruffy man with a desperate look in his eyes, speaks up, &quot;I know the answer. Let me go, and I&#39;ll tell you.&quot; His voice trembles, a mix of fear and hope. The choice is yours: trust the bandit and gain his knowledge, or rely on your own wits to decipher the ancient puzzle. The hidden entrance to the bandit camp&#39;s underground hideout awaits, concealed somewhere within the secrets of this ancient tree.\n",
      "\n",
      "## Room 3 Description\n",
      "As you descend the narrow staircase revealed by the trapdoor, the air grows colder and damper with each step. The faint sound of dripping water echoes through the darkness, creating an eerie, rhythmic backdrop. Suddenly, the floor beneath you gives way with a loud crack, and you find yourselves sliding uncontrollably down a steep, slick chute. The walls of the chute are rough and jagged, scraping against your skin as you plummet into the unknown.\n",
      "\n",
      "You land with a thud in a dark, damp cavern. The air is thick and musty, carrying a pungent, earthy smell that makes your nose wrinkle. As your eyes adjust to the dim light, you notice the cavern is filled with clusters of glowing mushrooms. Their bioluminescent caps cast an eerie, greenish glow, illuminating the cavern in an otherworldly light. However, these mushrooms are not just a source of light; they are also a source of danger. You can see tiny spores drifting lazily through the air, shimmering like dust motes in the faint glow.\n",
      "\n",
      "The ground is uneven and slippery, covered in a thin layer of moisture that makes every step treacherous. The walls of the cavern are lined with jagged rocks and twisted roots, creating a maze-like environment that is difficult to navigate. The sound of your breathing seems amplified in the confined space, and every movement sends a shiver of spores into the air, making you acutely aware of the need for caution.\n",
      "\n",
      "As you carefully make your way through the cavern, you notice that some of the mushrooms are larger and more vibrant than others, their caps pulsing with a sinister light. The air feels heavy and oppressive, and you can almost taste the bitterness of the spores on your tongue. The atmosphere is tense, and every step feels like a gamble, as you try to avoid disturbing the toxic fungi.\n",
      "\n",
      "The cavern seems to stretch on endlessly, and the sense of disorientation grows with each passing moment. The oppressive darkness and the constant threat of the poisonous mushrooms create a palpable sense of dread, making you question every decision and every step. The path ahead is uncertain, and the only way out is to navigate this treacherous environment with utmost care and vigilance.\n",
      "\n",
      "## Room 4 Description\n",
      "As you step into the large chamber, the air grows thick with tension. Flickering torches cast long, dancing shadows across the stone walls, creating an eerie, almost hypnotic atmosphere. The scent of burning wood mingles with the faint, metallic tang of blood, hinting at the violence that has taken place here.\n",
      "\n",
      "At the far end of the chamber, a figure stands tall and imposing. Varek, the bandit leader, exudes an aura of menace and confidence. His eyes, cold and calculating, lock onto you with a predatory gleam. He is flanked by his elite guards, each one a seasoned warrior, their expressions hard and unyielding.\n",
      "\n",
      "In Varek&#39;s hand, a gleaming, magical artifact pulses with raw energy, casting an otherworldly glow that illuminates his sinister grin. The artifact crackles with power, and you can almost feel its malevolent presence in the air. Varek&#39;s voice cuts through the silence, dripping with contempt and arrogance. &quot;You&#39;ve come far,&quot; he sneers, his voice echoing off the chamber walls. &quot;But this is where your journey ends.&quot;\n",
      "\n",
      "The room itself is a testament to Varek&#39;s reign. The walls are adorned with stolen treasures and trophies from his conquests, each one a grim reminder of his ruthlessness. A large, ornate table in the center of the room is strewn with maps and plans, evidence of his meticulous plotting.\n",
      "\n",
      "As you prepare for the final confrontation, the weight of the moment settles upon you. The flickering torchlight casts an almost surreal glow on the scene, heightening the sense of impending danger. The air is charged with anticipation, and every sound seems amplified—the clink of armor, the rustle of fabric, the steady, determined breaths of your companions.\n",
      "\n",
      "This is it—the climax of your journey through the bandit camp. The battle that will determine the fate of the magical artifact and perhaps much more. The time for strategy and teamwork is now, as you face Varek and his elite guards in a fight that will test your skills, courage, and resolve to their limits.\n",
      "\n",
      "## Room 5 Description\n",
      "As the dust settles from the intense battle, you stand victorious over Varek&#39;s fallen form. The chamber is eerily quiet, save for the crackling of the magical artifact that now lies within your grasp. The artifact pulses with a strange energy, its surface etched with ancient runes that seem to shift and change as you gaze upon them.\n",
      "\n",
      "The room itself is a stark contrast to the chaos of the fight. Flickering torchlight casts long shadows on the stone walls, revealing a space that is both utilitarian and personal. A large wooden table, cluttered with maps and documents, dominates one side of the room. Shelves lined with various trinkets and supplies hint at the bandit leader&#39;s meticulous nature.\n",
      "\n",
      "As you search the chamber, your eyes are drawn to a small, inconspicuous chest tucked away in a corner. Inside, you find a leather-bound journal, its pages filled with Varek&#39;s meticulous handwriting. The journal reveals a chilling truth: Varek was merely a pawn in a much larger game. He was working for a powerful, shadowy figure who seeks to use the artifact for a dark and sinister ritual.\n",
      "\n",
      "The revelation sends a shiver down your spine. The journal details plans and correspondences that hint at a looming threat far greater than the bandit leader you just defeated. It speaks of ancient powers and forgotten magics, of a ritual that could plunge the world into darkness.\n",
      "\n",
      "As you close the journal, the weight of your discovery settles upon you. The artifact, now in your possession, is both a powerful tool and a dangerous weapon. The knowledge of the shadowy figure&#39;s plans provides a new lead, a new quest that beckons you forward.\n",
      "\n",
      "The chamber, once a place of conflict, now feels like a crossroads. The path ahead is fraught with danger, but also with the promise of uncovering deeper truths and thwarting a greater evil. With the artifact in hand and the journal&#39;s revelations fresh in your mind, you prepare to leave the bandit camp behind, ready to face the next chapter of your adventure.\n",
      "\n",
      "## NPCs and Monsters\n",
      "**Name**: Thorne the Scout\n",
      "**Appearance**: A lean, wiry man with sharp features and piercing blue eyes, dressed in dark, forest-green clothing that blends seamlessly with the surroundings.\n",
      "**Personality**: Alert and meticulous, Thorne is always on the lookout for intruders. He is cautious and prefers to avoid direct confrontation, using his knowledge of the forest to his advantage.\n",
      "**Role/Purpose**: One of the bandit scouts guarding the entrance, Thorne is a key obstacle the players must overcome. His keen senses make sneaking past him a significant challenge.\n",
      "\n",
      "**Name**: Elara the Runesmith\n",
      "**Appearance**: A middle-aged woman with silver-streaked hair and intricate tattoos of runes covering her arms, wearing a simple robe adorned with mystical symbols.\n",
      "**Personality**: Wise and enigmatic, Elara speaks in riddles and enjoys testing the intellect of those she encounters. She is calm and composed, with a deep connection to the ancient magic of the forest.\n",
      "**Role/Purpose**: Elara is the one who carved the runes into the ancient tree. If the players solve the riddle, she appears to guide them to the hidden entrance. Alternatively, she can be persuaded to reveal the entrance if the players engage her in meaningful conversation.\n",
      "\n",
      "**Name**: Varek the Bandit Leader\n",
      "**Appearance**: A tall, imposing figure with a scarred face and cold, calculating eyes, dressed in dark leather armor with a crimson cloak. He wields a gleaming, magical artifact that crackles with energy.\n",
      "**Personality**: Ruthless and cunning, Varek is a master strategist who commands respect and fear from his followers. He is confident in his abilities and will stop at nothing to achieve his goals.\n",
      "**Role/Purpose**: The main antagonist of the dungeon, Varek is the bandit leader who wields the magical artifact. He is the final challenge the players must face, using the artifact&#39;s power to enhance his combat prowess. His defeat reveals crucial information about a greater threat, setting the stage for future adventures.\n",
      "\n",
      "## VTT Map Description\n",
      "The map for the five-room dungeon should be laid out as follows:\n",
      "\n",
      "### Room 1: Entrance and Guardian\n",
      "- **Location:** The entrance is situated within a dense forest.\n",
      "- **Features:** A narrow, well-guarded path leads to the camp. The path is flanked by thick trees and underbrush, making it difficult to see beyond a few feet. The area is patrolled by two bandit scouts and a wolf.\n",
      "\n",
      "### Room 2: Puzzle or Roleplaying Challenge\n",
      "- **Location:** A clearing in the forest.\n",
      "- **Features:** At the center of the clearing stands a massive, ancient tree with a wide trunk. The bark of the tree is inscribed with glowing runes that form a riddle. At the base of the tree, there is a hidden trapdoor that is revealed upon solving the riddle.\n",
      "\n",
      "### Room 3: Trick or Setback\n",
      "- **Location:** Underground cavern.\n",
      "- **Features:** A narrow staircase descends from the trapdoor into darkness. Partway down, the floor collapses into a chute that deposits the party into a dark, damp cavern. The cavern is filled with glowing, poisonous mushrooms that release toxic spores when disturbed. The air is thick with these spores, requiring careful navigation.\n",
      "\n",
      "### Room 4: Climax, Big Battle, or Conflict\n",
      "- **Location:** Bandit leader&#39;s chamber.\n",
      "- **Features:** A large, torch-lit chamber with high ceilings. At the far end of the chamber stands Varek, the bandit leader, along with his elite guards. The chamber is sparsely furnished, with a few crates and barrels scattered around. Varek holds a magical artifact that crackles with energy.\n",
      "\n",
      "### Room 5: Reward, Revelation, Plot Twist\n",
      "- **Location:** Same as Room 4, the bandit leader&#39;s chamber.\n",
      "- **Features:** After the battle, the party finds a hidden journal in the chamber. The journal is tucked away in a small, concealed compartment within the chamber. The journal reveals information about a powerful, shadowy figure and their plans for the magical artifact.\n",
      "\n",
      "### Overall Layout:\n",
      "1. **Room 1** (Entrance and Guardian) is the starting point, located in a dense forest.\n",
      "2. **Room 2** (Puzzle or Roleplaying Challenge) is a clearing with an ancient tree, accessible after passing the guards in Room 1.\n",
      "3. **Room 3** (Trick or Setback) is an underground cavern reached by descending a staircase from the trapdoor in Room 2.\n",
      "4. **Room 4** (Climax, Big Battle, or Conflict) is the bandit leader&#39;s chamber, accessible from the cavern in Room 3.\n",
      "5. **Room 5** (Reward, Revelation, Plot Twist) is the same as Room 4, where the final battle takes place and the journal is found.\n",
      "\n",
      "The map should visually represent the transition from the dense forest to the clearing, then underground to the cavern, and finally to the bandit leader&#39;s chamber. Each room should be clearly delineated with notable features such as the ancient tree, the trapdoor, the chute, the poisonous mushrooms, and the final chamber&#39;s layout.\n",
      "\n",
      "## Loot Rolltable\n",
      "Here is a loot rolltable for the five-room dungeon described:\n",
      "\n",
      "| D20 Roll | Item Name                | Low Value Description                                                                 | Medium Value Description                                                                 | High Value Description                                                                 |\n",
      "|----------|--------------------------|---------------------------------------------------------------------------------------|-----------------------------------------------------------------------------------------|----------------------------------------------------------------------------------------|\n",
      "| 1        | Bandit Scout&#39;s Dagger    | A simple, slightly rusted dagger used by the bandit scouts.                           | A well-maintained dagger with a leather-wrapped hilt.                                    | A finely crafted dagger with a silver hilt and a keen edge.                            |\n",
      "| 2        | Wolf Pelt                | A rough, uncleaned wolf pelt.                                                         | A cleaned and tanned wolf pelt, suitable for crafting.                                  | A pristine wolf pelt, exceptionally soft and warm.                                     |\n",
      "| 3        | Ancient Tree Bark        | A small piece of bark with faint rune carvings.                                       | A larger piece of bark with clearly visible runes.                                      | A large piece of bark with glowing runes, hinting at magical properties.               |\n",
      "| 4        | Bandit’s Map             | A crude, hand-drawn map of the bandit camp.                                           | A detailed map showing secret paths and hidden traps.                                   | A map with annotations about the bandit leader’s plans and allies.                     |\n",
      "| 5        | Poisonous Mushroom       | A small, dried poisonous mushroom.                                                    | A cluster of dried poisonous mushrooms.                                                 | A pouch filled with various poisonous mushrooms, useful for crafting poisons.          |\n",
      "| 6        | Varek’s Journal          | A few torn pages from Varek’s journal.                                                | Varek’s journal with some missing pages.                                                | Varek’s complete journal, detailing his plans and contacts.                            |\n",
      "| 7        | Bandit Leader’s Cloak    | A tattered cloak worn by the bandit leader.                                           | A sturdy cloak with some minor enchantments for protection.                             | A magical cloak that provides significant protection and enhances stealth.              |\n",
      "| 8        | Elite Guard’s Armor      | A piece of dented and worn armor from an elite guard.                                 | A full set of well-maintained armor from an elite guard.                                | A set of enchanted armor that provides excellent protection and agility.               |\n",
      "| 9        | Magical Artifact Shard   | A small shard of the magical artifact, still crackling with energy.                   | A larger piece of the magical artifact, with some residual power.                       | The complete magical artifact, fully intact and brimming with power.                   |\n",
      "| 10       | Healing Herbs             | A few wilted healing herbs.                                                           | A bundle of fresh healing herbs.                                                        | A pouch filled with rare and potent healing herbs.                                     |\n",
      "| 11       | Bandit’s Coin Pouch      | A small pouch with a few copper coins.                                                | A medium pouch with a mix of silver and copper coins.                                   | A large pouch filled with gold coins and a few precious gems.                          |\n",
      "| 12       | Rune-etched Amulet       | A simple amulet with faint rune carvings.                                             | An amulet with glowing runes that provide minor magical protection.                     | A powerful amulet with intricate runes that offer significant magical protection.      |\n",
      "| 13       | Bandit’s Rations         | A small amount of stale bread and dried meat.                                         | A decent supply of preserved food and water.                                            | A large supply of high-quality rations, including fresh fruit and meat.                |\n",
      "| 14       | Varek’s Ring             | A plain ring worn by Varek.                                                           | A ring with minor enchantments for protection.                                          | A powerful ring that enhances the wearer’s combat abilities.                           |\n",
      "| 15       | Elite Guard’s Sword      | A basic sword used by an elite guard.                                                 | A finely crafted sword with a sharp edge.                                               | An enchanted sword that deals extra damage and has a chance to paralyze enemies.       |\n",
      "| 16       | Bandit’s Boots           | A pair of worn, muddy boots.                                                          | A pair of sturdy boots that provide good traction.                                      | A pair of enchanted boots that enhance the wearer’s speed and agility.                 |\n",
      "| 17       | Hidden Trap Mechanism    | A small, broken piece of a trap mechanism.                                            | A functional trap mechanism that can be used to set simple traps.                       | A complex trap mechanism that can be used to set advanced traps.                       |\n",
      "| 18       | Bandit’s Bow             | A basic, slightly warped bow.                                                         | A well-crafted bow with good range and accuracy.                                        | An enchanted bow that never misses its target and deals extra damage.                  |\n",
      "| 19       | Varek’s Potion           | A small vial of a mysterious liquid.                                                  | A potion that provides temporary strength and agility.                                  | A powerful potion that grants the drinker enhanced abilities for a prolonged period.   |\n",
      "| 20       |\r\n"
     ]
    }
   ],
   "source": [
    "#pragma warning disable SKEXP0060\n",
    "\n",
    "var executionPlanResult = await executionPlan.InvokeAsync(kernel, new KernelArguments());\n",
    "\n",
    "Console.WriteLine(executionPlanResult.ToString());"
   ]
  },
  {
   "attachments": {},
   "cell_type": "markdown",
   "metadata": {},
   "source": [
    "Save the output to the filesystem as `five-room-dungeon.md` in the `output` directory."
   ]
  },
  {
   "cell_type": "code",
   "execution_count": 120,
   "metadata": {},
   "outputs": [],
   "source": [
    "// Delete all contents of the directory\n",
    "var outputDirectory = Path.Combine(System.IO.Directory.GetCurrentDirectory(), \"..\", \"output\");\n",
    "\n",
    "// Write the variable executionPlanResults to a file\n",
    "File.WriteAllText(Path.Combine(outputDirectory, \"five-room-dungeon.md\"), executionPlanResult.ToString());"
   ]
  },
  {
   "cell_type": "markdown",
   "metadata": {},
   "source": [
    "## Step 6 - Generate a Map (Experimental)\n",
    "\n",
    "Generate a map for the five-room dungeon."
   ]
  },
  {
   "cell_type": "code",
   "execution_count": null,
   "metadata": {},
   "outputs": [],
   "source": [
    "#pragma warning disable SKEXP0001\n",
    "\n",
    "var prompt = @\"\n",
    "You are a map maker's assistant. You need to describe a map to a map maker who will then make it.\n",
    "Given the five-room dungeon outline provided below, describe the map that the map maker should create.\n",
    "Describe only the layout of the map.\n",
    "Do not include any details about the NPCs or monsters that the party will encounter.\n",
    "Do not include any details about the five-room dungeon plot.\n",
    "\n",
    "```\n",
    "{{$input_context}}\n",
    "```\n",
    "\";\n",
    "\n",
    "var executionSettings = new OpenAIPromptExecutionSettings \n",
    "{\n",
    "    MaxTokens = 1024,\n",
    "    Temperature = 1\n",
    "};\n",
    "\n",
    "// Create a semantic function that generate a random image description.\n",
    "var genImgDescription = kernel.CreateFunctionFromPrompt(prompt, executionSettings);\n",
    "\n",
    "var random = new Random().Next(0, 200);\n",
    "var imageDescriptionResult = await kernel.InvokeAsync(genImgDescription, new() { [\"input_context\"] = executionPlanResult.ToString() });\n",
    "var imageDescription = \"A TTRPG battle map for the following five-room dungeon:\\n\\n  \" + imageDescriptionResult.ToString();\n",
    "imageDescription = imageDescription.Substring(0, imageDescription.Length > 1000 ? 1000 : imageDescription.Length);\n",
    "Console.WriteLine(\"Generated Map Description:\");\n",
    "Console.WriteLine(imageDescription);\n",
    "\n",
    "// Use DALL-E 3 to generate an image. OpenAI in this case returns a URL (though you can ask to return a base64 image)\n",
    "var imageUrl = await dallE.GenerateImageAsync(imageDescription.Trim(), 1024, 1024);\n",
    "\n",
    "await SkiaUtils.ShowImage(imageUrl, 1024, 1024);"
   ]
  }
 ],
 "metadata": {
  "kernelspec": {
   "display_name": ".NET (C#)",
   "language": "C#",
   "name": ".net-csharp"
  },
  "language_info": {
   "name": "polyglot-notebook"
  },
  "polyglot_notebook": {
   "kernelInfo": {
    "defaultKernelName": "csharp",
    "items": [
     {
      "aliases": [],
      "name": "csharp"
     }
    ]
   }
  }
 },
 "nbformat": 4,
 "nbformat_minor": 2
}
