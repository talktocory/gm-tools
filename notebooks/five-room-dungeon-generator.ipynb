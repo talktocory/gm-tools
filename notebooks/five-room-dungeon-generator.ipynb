{
 "cells": [
  {
   "attachments": {},
   "cell_type": "markdown",
   "metadata": {},
   "source": [
    "# Five-Room Dungeon Generator\n",
    "\n",
    "The Five-Room Dungeon Generator provides GMs with a way to quickly and easily generate a custom five-room dungeon that can be incorporated into their campaign.  Simply provide the notebook with a concept and the notebook will do the rest.\n",
    "\n",
    "> [!IMPORTANT]\n",
    "> You will need an [.NET 8 SDK](https://dotnet.microsoft.com/en-us/download/dotnet/8.0) and [Polyglot](https://marketplace.visualstudio.com/items?itemName=ms-dotnettools.dotnet-interactive-vscode) to get started with this notebook using .NET Interactive."
   ]
  },
  {
   "cell_type": "markdown",
   "metadata": {},
   "source": [
    "## Step 1 - Define Your Concept\n",
    "\n",
    "Define your five-room dungeon concept."
   ]
  },
  {
   "cell_type": "code",
   "execution_count": 76,
   "metadata": {
    "dotnet_interactive": {
     "language": "csharp"
    },
    "polyglot_notebook": {
     "kernelName": "csharp"
    }
   },
   "outputs": [],
   "source": [
    "var concept = @\"\n",
    "You are a game master for a Dungeons and Dragons campaign.\n",
    "Please create a five-room dungeon for a party of 5 level 3 characters.\n",
    "The five-room dungeon should be of medium difficulty and take place in the town of Hammersend.\n",
    "The party must deal with a powerful cult that has taken control of the town of Hammersend.\n",
    "The cult is comprised of acolytes and clerics who worship ancient sea witches.\n",
    "The cult has formed a partnership with one of the player's brothers, who has been corrupted by the cult's influence.\n",
    "The party must infiltrate the cult's evil lair, an abandoned lighthouse.\n",
    "The cult will summon a tentacle monster to destroy the party and the town if they are not stopped.\n",
    "\n",
    "Ensure that the output includes:\n",
    "* the five-room dungeon outline, \n",
    "* descriptive text for each room in the outline, \n",
    "* a list of NPCs and monsters that the party will encounter, \n",
    "* a rolltable of possible loot that the party can find.\n",
    "\n",
    "Output options:\n",
    "* Please output the generated information into a single consolidated markdown document.\n",
    "* please do not format results into json, csv, or other structured data formats\n",
    "\";"
   ]
  },
  {
   "cell_type": "markdown",
   "metadata": {},
   "source": [
    "## Step 2 - Initial Configuration"
   ]
  },
  {
   "cell_type": "markdown",
   "metadata": {},
   "source": [
    "\n",
    "Choose whether you wish to use the OpenAI or Azure OpenAI service."
   ]
  },
  {
   "cell_type": "code",
   "execution_count": 62,
   "metadata": {
    "dotnet_interactive": {
     "language": "csharp"
    },
    "polyglot_notebook": {
     "kernelName": "csharp"
    }
   },
   "outputs": [],
   "source": [
    "bool useAzureOpenAI = false;"
   ]
  },
  {
   "cell_type": "markdown",
   "metadata": {},
   "source": [
    "Execute the following code which will ask a few questions and save the settings to a local\n",
    "`settings.json` configuration file, under the [config](config) folder. You can\n",
    "also edit the file manually if you prefer. **Please keep the file safe.**"
   ]
  },
  {
   "cell_type": "code",
   "execution_count": 63,
   "metadata": {
    "dotnet_interactive": {
     "language": "csharp"
    },
    "polyglot_notebook": {
     "kernelName": "csharp"
    }
   },
   "outputs": [
    {
     "name": "stdout",
     "output_type": "stream",
     "text": [
      "Settings: OK: AI model configured [config/settings.json]\n",
      "Settings: OK: API key configured [config/settings.json]\n"
     ]
    }
   ],
   "source": [
    "#!import config/Settings.cs\n",
    "\n",
    "await Settings.AskAzureEndpoint(useAzureOpenAI);\n",
    "await Settings.AskModel(useAzureOpenAI);\n",
    "await Settings.AskApiKey(useAzureOpenAI);\n",
    "\n",
    "// Uncomment this if you're using OpenAI and need to set the Org Id\n",
    "await Settings.AskOrg(useAzureOpenAI);"
   ]
  },
  {
   "cell_type": "markdown",
   "metadata": {},
   "source": [
    "If you want to reset the configuration and start again, please uncomment and run the code below.\n",
    "You can also edit the [config/settings.json](config/settings.json) manually if you prefer."
   ]
  },
  {
   "cell_type": "code",
   "execution_count": 64,
   "metadata": {
    "dotnet_interactive": {
     "language": "csharp"
    },
    "polyglot_notebook": {
     "kernelName": "csharp"
    }
   },
   "outputs": [],
   "source": [
    "#!import config/Settings.cs\n",
    "\n",
    "// Uncomment this line to reset your settings and delete the file from disk.\n",
    "// Settings.Reset();"
   ]
  },
  {
   "cell_type": "markdown",
   "metadata": {},
   "source": [
    "## Step 3 - Instantiate Services\n",
    "\n",
    "Set up the Microsoft Semantic AI Kernel that will use for generative operations."
   ]
  },
  {
   "cell_type": "code",
   "execution_count": 65,
   "metadata": {
    "dotnet_interactive": {
     "language": "csharp"
    },
    "polyglot_notebook": {
     "kernelName": "csharp"
    }
   },
   "outputs": [
    {
     "data": {
      "text/html": [
       "<div><div></div><div></div><div><strong>Installed Packages</strong><ul><li><span>Microsoft.SemanticKernel, 1.11.1</span></li><li><span>Microsoft.SemanticKernel.Planners.Handlebars, 1.11.1-preview</span></li><li><span>SkiaSharp, 2.88.3</span></li><li><span>System.Numerics.Tensors, 8.0.0</span></li></ul></div></div>"
      ]
     },
     "metadata": {},
     "output_type": "display_data"
    }
   ],
   "source": [
    "\n",
    "#r \"nuget: Microsoft.SemanticKernel, 1.11.1\"\n",
    "#r \"nuget: Microsoft.SemanticKernel.Planners.Handlebars, 1.11.1-preview\"\n",
    "#r \"nuget: System.Numerics.Tensors, 8.0.0\"\n",
    "#r \"nuget: SkiaSharp, 2.88.3\"\n",
    "\n",
    "#!import config/Settings.cs\n",
    "#!import config/Utils.cs\n",
    "#!import config/SkiaUtils.cs\n",
    "\n",
    "using Microsoft.SemanticKernel;\n",
    "using Microsoft.SemanticKernel.TextToImage;\n",
    "using Microsoft.SemanticKernel.Embeddings;\n",
    "using Microsoft.SemanticKernel.Connectors.OpenAI;\n",
    "using System.Numerics.Tensors;\n",
    "\n",
    "#pragma warning disable SKEXP0001, SKEXP0010\n",
    "\n",
    "var builder = Microsoft.SemanticKernel.Kernel.CreateBuilder();\n",
    "\n",
    "// Configure AI backend used by the kernel\n",
    "var (useAzureOpenAI, model, azureEndpoint, apiKey, orgId) = Settings.LoadFromFile();\n",
    "\n",
    "if (useAzureOpenAI)\n",
    "{\n",
    "    builder.AddAzureOpenAITextEmbeddingGeneration(\"text-embedding-ada-002\", azureEndpoint, apiKey);\n",
    "    builder.AddAzureOpenAIChatCompletion(model, azureEndpoint, apiKey);\n",
    "    builder.AddAzureOpenAITextToImage(\"dall-e-3\", azureEndpoint, apiKey);\n",
    "}\n",
    "    \n",
    "else\n",
    "{\n",
    "    builder.AddOpenAITextEmbeddingGeneration(\"text-embedding-ada-002\", apiKey, orgId);\n",
    "    builder.AddOpenAIChatCompletion(model, apiKey, orgId);\n",
    "    builder.AddOpenAITextToImage(apiKey, orgId);\n",
    "}\n",
    "\n",
    "var kernel = builder.Build();\n",
    "\n",
    "// Get AI service instance used to generate images\n",
    "var dallE = kernel.GetRequiredService<ITextToImageService>();\n",
    "\n",
    "// Get AI service instance used to extract embedding from a text\n",
    "var textEmbedding = kernel.GetRequiredService<ITextEmbeddingGenerationService>();"
   ]
  },
  {
   "cell_type": "markdown",
   "metadata": {},
   "source": [
    "Import custom plugins from plugin directory."
   ]
  },
  {
   "cell_type": "code",
   "execution_count": 66,
   "metadata": {
    "dotnet_interactive": {
     "language": "csharp"
    },
    "polyglot_notebook": {
     "kernelName": "csharp"
    }
   },
   "outputs": [],
   "source": [
    "var pluginsDirectory = Path.Combine(System.IO.Directory.GetCurrentDirectory(), \"..\", \"plugins\");\n",
    "\n",
    "var kernel = builder.Build();\n",
    "var pluginFunctions = kernel.ImportPluginFromPromptDirectory(Path.Combine(pluginsDirectory, \"FiveRoomDungeonPlugin\"));"
   ]
  },
  {
   "attachments": {},
   "cell_type": "markdown",
   "metadata": {},
   "source": [
    "Set up the Handlebars Planner that will be used for orchestrating generative operations."
   ]
  },
  {
   "cell_type": "code",
   "execution_count": 67,
   "metadata": {
    "dotnet_interactive": {
     "language": "csharp"
    },
    "polyglot_notebook": {
     "kernelName": "csharp"
    }
   },
   "outputs": [],
   "source": [
    "using Microsoft.SemanticKernel.Planning.Handlebars;\n",
    "\n",
    "#pragma warning disable SKEXP0060\n",
    "\n",
    "var planner = new HandlebarsPlanner();"
   ]
  },
  {
   "cell_type": "markdown",
   "metadata": {},
   "source": [
    "## Step 4 - Develop an Execution Plan\n",
    "\n",
    "Have the planner generate an executiong plan based on the provided concept and kernel plugins."
   ]
  },
  {
   "cell_type": "code",
   "execution_count": 77,
   "metadata": {
    "dotnet_interactive": {
     "language": "csharp"
    },
    "polyglot_notebook": {
     "kernelName": "csharp"
    }
   },
   "outputs": [
    {
     "name": "stdout",
     "output_type": "stream",
     "text": [
      "{{!-- Step 0: Extract key values --}}\n",
      "{{set \"game_system\" \"Dungeons and Dragons\"}}\n",
      "{{set \"difficulty\" \"medium\"}}\n",
      "{{set \"town\" \"Hammersend\"}}\n",
      "{{set \"party_description\" \"a party of 5 level 3 characters\"}}\n",
      "{{set \"cult_description\" \"a powerful cult comprised of acolytes and clerics who worship ancient sea witches\"}}\n",
      "{{set \"family_twist\" \"one of the player's brothers, who has been corrupted by the cult's influence\"}}\n",
      "{{set \"location\" \"an abandoned lighthouse\"}}\n",
      "{{set \"danger\" \"the cult will summon a tentacle monster to destroy the party and the town if they are not stopped\"}}\n",
      "\n",
      "{{set \"input_context\" (concat town \" \" party_description \". The cult \" cult_description \". \" family_twist \". \" \"The party must infiltrate the cult's evil lair, \" location \". \" danger \".\")}}\n",
      "\n",
      "{{!-- Step 1: Generate Five Room Dungeon --}}\n",
      "{{set \"dungeon_outline\" (FiveRoomDungeonPlugin-FiveRoomDungeon game_system=game_system input_context=input_context)}}\n",
      "\n",
      "{{!-- Step 2: Generate descriptive text for each room --}}\n",
      "{{set \"room1\" (FiveRoomDungeonPlugin-RoomDescription room_number=\"1\" input_context=dungeon_outline)}}\n",
      "{{set \"room2\" (FiveRoomDungeonPlugin-RoomDescription room_number=\"2\" input_context=dungeon_outline)}}\n",
      "{{set \"room3\" (FiveRoomDungeonPlugin-RoomDescription room_number=\"3\" input_context=dungeon_outline)}}\n",
      "{{set \"room4\" (FiveRoomDungeonPlugin-RoomDescription room_number=\"4\" input_context=dungeon_outline)}}\n",
      "{{set \"room5\" (FiveRoomDungeonPlugin-RoomDescription room_number=\"5\" input_context=dungeon_outline)}}\n",
      "\n",
      "{{!-- Step 3: Generate NPCs --}}\n",
      "{{set \"npcs\" (FiveRoomDungeonPlugin-NPC input_context=dungeon_outline)}}\n",
      "\n",
      "{{!-- Step 4: Generate Loot Table --}}\n",
      "{{set \"loot_table\" (FiveRoomDungeonPlugin-LootTable input_context=dungeon_outline)}}\n",
      "\n",
      "{{!-- Output the result in markdown --}}\n",
      "# Five Room Dungeon: Cult of the Sea Witches\n",
      "\n",
      "## Dungeon Outline\n",
      "{{dungeon_outline}}\n",
      "\n",
      "## Room Descriptions\n",
      "### Room 1: Entrance\n",
      "{{room1}}\n",
      "\n",
      "### Room 2: Puzzle or Roleplaying Challenge\n",
      "{{room2}}\n",
      "\n",
      "### Room 3: Trick or Setback\n",
      "{{room3}}\n",
      "\n",
      "### Room 4: Climax\n",
      "{{room4}}\n",
      "\n",
      "### Room 5: Reward or Revelation\n",
      "{{room5}}\n",
      "\n",
      "## NPCs and Monsters\n",
      "{{npcs}}\n",
      "\n",
      "## VTT Map Description\n",
      "The dungeon is set inside an abandoned lighthouse in the town of Hammersend. Each room is connected by narrow, winding staircases, dimly lit by flickering torches. The entrance is guarded by members of the cult, and as the party progresses, they will encounter various challenges reflective of the cult's influence and the surrounding mystical sea-themed elements.\n",
      "\n",
      "## Loot Rolltable\n",
      "{{loot_table}}\r\n"
     ]
    }
   ],
   "source": [
    "#pragma warning disable SKEXP0060\n",
    "\n",
    "// Generate a plan for the concept\n",
    "var executionPlan  = await planner.CreatePlanAsync(kernel, concept);\n",
    "Console.WriteLine(executionPlan);"
   ]
  },
  {
   "attachments": {},
   "cell_type": "markdown",
   "metadata": {},
   "source": [
    "## Step 5 - Execute the Plan\n",
    "Execute the plan and generate the five-room dungeon outline and room descriptions."
   ]
  },
  {
   "cell_type": "code",
   "execution_count": 78,
   "metadata": {
    "dotnet_interactive": {
     "language": "csharp"
    },
    "polyglot_notebook": {
     "kernelName": "csharp"
    }
   },
   "outputs": [
    {
     "name": "stdout",
     "output_type": "stream",
     "text": [
      "# Five Room Dungeon: Cult of the Sea Witches\n",
      "\n",
      "## Dungeon Outline\n",
      "## Room 1: Entrance and Guardian\n",
      "* **Objective:** Create an initial challenge.\n",
      "* **Design:** The entrance to the abandoned lighthouse is guarded by two cult acolytes. These acolytes are performing a dark ritual to ward off intruders. The players must either defeat the acolytes in combat or find a way to disrupt the ritual without alerting the entire cult.\n",
      "\n",
      "## Room 2: Puzzle or Roleplaying Challenge\n",
      "* **Objective:** Engage players with non-combat interaction.\n",
      "* **Design:** Inside the lighthouse, the party encounters a room filled with ancient maritime artifacts and a large, intricate map of the sea. To proceed, they must solve a riddle inscribed on the map that reveals the location of a hidden lever. The riddle involves nautical terms and knowledge of sea lore, which may require the players to recall or research information.\n",
      "\n",
      "## Room 3: Trick or Setback\n",
      "* **Objective:** Introduce a complication or twist.\n",
      "* **Design:** After solving the riddle and pulling the lever, a hidden door opens, but it also triggers a trap. The room begins to flood with seawater, and the players must quickly find a way to stop the water or escape to the next area. This could involve finding and turning off a valve or breaking through a weakened wall.\n",
      "\n",
      "## Room 4: Climax, Big Battle, or Conflict\n",
      "* **Objective:** Present the main confrontation.\n",
      "* **Design:** The party reaches the lighthouse&#39;s top chamber, where they find the player&#39;s corrupted brother leading a ritual to summon the tentacle monster. The brother is flanked by several cult clerics. The players must engage in a significant battle to stop the ritual. During the fight, the brother may try to persuade the player to join the cult, adding a roleplaying element to the conflict.\n",
      "\n",
      "## Room 5: Reward, Revelation, Plot Twist\n",
      "* **Objective:** Resolve the dungeon with a satisfying conclusion.\n",
      "* **Design:** Upon defeating the cult clerics and stopping the ritual, the players find a chest containing valuable items, including a magical trident and a scroll with information about the cult&#39;s true leader and their next target. Additionally, the player&#39;s brother, now freed from the cult&#39;s influence, reveals crucial information about the cult&#39;s plans and begs for forgiveness, setting up future adventures and personal character development.\n",
      "\n",
      "## Room Descriptions\n",
      "### Room 1: Entrance\n",
      "As you approach the entrance to the abandoned lighthouse, the air grows thick with an unsettling energy. The once-proud structure now stands as a grim silhouette against the darkening sky, its windows shattered and walls covered in creeping vines. The distant sound of crashing waves adds a haunting rhythm to the scene.\n",
      "\n",
      "Two cult acolytes stand at the entrance, their faces obscured by dark hoods. They chant in a low, guttural language, their voices blending into a dissonant harmony that sends shivers down your spine. The acolytes are surrounded by a faint, eerie glow, the result of the dark ritual they are performing to ward off intruders. Their hands move in intricate patterns, tracing symbols in the air that pulse with malevolent energy.\n",
      "\n",
      "The scent of burning incense wafts through the air, mingling with the salty tang of the sea. The acrid smoke curls around the acolytes, adding to the otherworldly atmosphere. You can feel the power of their ritual, a palpable force that seems to push against you, warning you to stay away.\n",
      "\n",
      "To the side, you notice a small altar adorned with strange, twisted relics and a bowl filled with a dark, viscous liquid. The ground around the altar is marked with arcane symbols, etched deeply into the earth. The entire scene is a stark reminder of the cult&#39;s dark purpose and the danger that lies ahead.\n",
      "\n",
      "You must decide how to proceed. Will you confront the acolytes head-on, risking alerting the entire cult to your presence? Or will you find a way to disrupt their ritual without drawing attention, using stealth and cunning to gain the upper hand? The choice is yours, but be warned: the path ahead is fraught with peril, and the cult will not easily relinquish their hold on the lighthouse.\n",
      "\n",
      "### Room 2: Puzzle or Roleplaying Challenge\n",
      "As you step into the lighthouse, the air grows cooler, carrying with it the faint scent of salt and aged wood. The room before you is dimly lit by the light filtering through the cracked windows, casting eerie shadows that dance across the walls. The space is filled with ancient maritime artifacts: rusted sextants, weathered compasses, and tattered maps pinned to the walls. The centerpiece of the room is a large, intricate map of the sea, spread out on a massive wooden table that dominates the center of the room.\n",
      "\n",
      "The map is a marvel of craftsmanship, its surface covered in detailed illustrations of sea monsters, shipwrecks, and uncharted islands. Inscribed along the edges of the map is a riddle, written in flowing, archaic script. The words seem to shimmer slightly, as if imbued with a faint magical aura:\n",
      "\n",
      "&quot;To find the path that lies unseen,\n",
      "Seek the stars where they convene.\n",
      "In the depths where secrets sleep,\n",
      "A lever waits for those who seek.&quot;\n",
      "\n",
      "The room is silent except for the distant sound of waves crashing against the lighthouse&#39;s base, a constant reminder of the sea&#39;s presence. The air is thick with the scent of brine and old parchment, and the floorboards creak underfoot, adding to the room&#39;s ancient, almost haunted atmosphere.\n",
      "\n",
      "As you examine the map and the riddle, you notice various nautical terms and symbols that hint at the solution. The challenge before you is clear: decipher the riddle to reveal the hidden lever that will allow you to proceed. The artifacts around the room may hold clues, and your knowledge of sea lore will be put to the test. The sense of history and mystery in this room is palpable, and you can&#39;t shake the feeling that the answers you seek are just within reach, waiting to be uncovered.\n",
      "\n",
      "### Room 3: Trick or Setback\n",
      "As you pull the lever, a hidden door creaks open, revealing a dark passageway. However, your moment of triumph is short-lived. A sudden, ominous rumble echoes through the room, and you feel a cold, wet sensation at your feet. Seawater begins to gush in from hidden vents, rapidly flooding the chamber.\n",
      "\n",
      "The room is dimly lit by flickering lanterns, casting eerie reflections on the rising water. The air grows damp and salty, and the sound of rushing water fills your ears, drowning out all other noise. The walls, once adorned with ancient maritime artifacts, now seem to close in as the water level rises.\n",
      "\n",
      "You notice a rusty valve on one side of the room, partially obscured by a tangle of seaweed and barnacles. It looks like it might control the flow of water, but it’s encrusted with years of neglect. On the opposite wall, a section of the stonework appears weakened, perhaps offering a chance to break through to safety.\n",
      "\n",
      "The cold water climbs higher, reaching your knees, then your waist. The urgency of the situation presses upon you, and you must act quickly. The room&#39;s atmosphere is tense and claustrophobic, the taste of saltwater on your lips a constant reminder of the peril you face. Will you manage to turn off the valve, or will you break through the weakened wall to escape the rising tide? The choice is yours, but time is running out.\n",
      "\n",
      "### Room 4: Climax\n",
      "As you ascend the creaking, spiral staircase of the lighthouse, the air grows colder and more oppressive with each step. The walls, slick with moisture and covered in dark, foreboding symbols, seem to close in around you. The faint, rhythmic chanting of the cultists grows louder, echoing through the narrow passageway and sending shivers down your spine.\n",
      "\n",
      "Finally, you reach the top chamber. The room is dimly lit by flickering candles arranged in a sinister pattern on the floor, casting eerie shadows that dance across the walls. At the center of the room stands an altar, draped in tattered, blood-stained cloth. Your brother, his eyes glowing with an unnatural light, stands before the altar, his hands raised as he chants in a language you do not understand. Around him, several cult clerics, their faces hidden beneath dark hoods, join in the incantation, their voices blending into a haunting chorus.\n",
      "\n",
      "The air is thick with the smell of salt and decay, and you can hear the distant roar of the ocean outside, as if the very sea itself is responding to the dark ritual. The floor beneath your feet vibrates with a low, ominous hum, and you can feel the presence of something ancient and malevolent stirring in the depths below.\n",
      "\n",
      "As your brother&#39;s eyes meet yours, a flicker of recognition and conflict crosses his face. &quot;Join us,&quot; he calls out, his voice both pleading and commanding. &quot;Together, we can harness the power of the deep and reshape the world.&quot;\n",
      "\n",
      "The cult clerics turn their attention to you, their hands crackling with dark energy. The final confrontation is at hand. You must decide whether to fight your corrupted brother and his followers to stop the ritual or find a way to reach the brother you once knew, buried beneath the cult&#39;s influence. The fate of the lighthouse, and perhaps much more, hangs in the balance.\n",
      "\n",
      "### Room 5: Reward or Revelation\n",
      "As the final echoes of battle fade and the last cult cleric falls, a heavy silence envelops the top chamber of the lighthouse. The air is thick with the lingering scent of burnt incense and the acrid tang of dark magic. The room is dimly lit by flickering candles, their flames casting eerie shadows that dance across the walls adorned with cryptic symbols and ancient maritime charts.\n",
      "\n",
      "In the center of the chamber, a large, ornate chest sits atop a stone pedestal, its surface inlaid with intricate carvings of sea creatures and swirling waves. The chest exudes an aura of mystery and power, drawing your attention with an almost magnetic pull. As you approach, the faint hum of enchantment grows louder, resonating with the magical energy contained within.\n",
      "\n",
      "With a creak, the chest opens to reveal its treasures. Nestled within the velvet-lined interior, you find a gleaming trident, its prongs crackling with arcane energy. The weapon feels almost alive in your hands, its power thrumming through your veins. Beside it lies a scroll, its parchment aged and brittle, yet the ink remains vivid and clear. Unfurling the scroll, you discover detailed information about the cult&#39;s true leader and their next target, a revelation that sends a shiver down your spine.\n",
      "\n",
      "As you absorb the contents of the scroll, a soft, pained groan draws your attention. Your brother, now free from the cult&#39;s malevolent influence, lies on the cold stone floor, his eyes filled with remorse and sorrow. He struggles to sit up, his voice trembling as he speaks. &quot;I&#39;m so sorry... I never wanted any of this. They twisted my mind, made me do terrible things. Please, forgive me.&quot;\n",
      "\n",
      "His plea hangs in the air, a poignant reminder of the personal cost of your journey. The weight of his words and the revelations from the scroll set the stage for future challenges and adventures, hinting at a greater threat that looms on the horizon. The lighthouse, once a beacon of hope, now stands as a testament to your resolve and the battles yet to come.\n",
      "\n",
      "## NPCs and Monsters\n",
      "**Name**: Acolyte Thalor\n",
      "**Appearance**: A gaunt man with sunken eyes and pale skin, wearing dark robes adorned with seaweed and barnacles.\n",
      "**Personality**: Fanatical and intense, Thalor is deeply devoted to the cult&#39;s dark deity and will stop at nothing to complete his ritual. He speaks in cryptic, foreboding tones.\n",
      "**Role/Purpose**: Guardian at the entrance, Thalor is one of the cult acolytes performing the dark ritual. His presence serves as the initial challenge, and disrupting his ritual without alerting the entire cult is key to progressing.\n",
      "\n",
      "**Name**: Captain Maris\n",
      "**Appearance**: An elderly woman with a weathered face, wearing a tattered naval uniform and a tricorn hat. Her eyes are sharp and observant.\n",
      "**Personality**: Wise and knowledgeable, Captain Maris is a retired sea captain who values tradition and history. She is stern but fair, with a deep respect for the sea.\n",
      "**Role/Purpose**: Ghostly guide found in the room with maritime artifacts, Captain Maris offers cryptic hints and sea lore to help the players solve the riddle on the map. Her knowledge is crucial for progressing through the puzzle.\n",
      "\n",
      "**Name**: Brother Corwin\n",
      "**Appearance**: A tall, imposing figure with a shaved head and intricate tattoos of tentacles covering his arms. He wears ceremonial robes and carries a staff adorned with a glowing crystal.\n",
      "**Personality**: Charismatic and manipulative, Corwin is the player&#39;s corrupted brother who exudes confidence and authority. He is torn between his loyalty to the cult and his love for his sibling.\n",
      "**Role/Purpose**: Main antagonist in the lighthouse&#39;s top chamber, Corwin leads the ritual to summon the tentacle monster. He serves as the primary combat challenge and adds a personal, emotional element to the conflict by trying to persuade the player to join the cult.\n",
      "\n",
      "## VTT Map Description\n",
      "The dungeon is set inside an abandoned lighthouse in the town of Hammersend. Each room is connected by narrow, winding staircases, dimly lit by flickering torches. The entrance is guarded by members of the cult, and as the party progresses, they will encounter various challenges reflective of the cult's influence and the surrounding mystical sea-themed elements.\n",
      "\n",
      "## Loot Rolltable\n",
      "| D20 Roll | Item Name                | Low Value Description                                                                 | Medium Value Description                                                                 | High Value Description                                                                 |\n",
      "|----------|--------------------------|--------------------------------------------------------------------------------------|-----------------------------------------------------------------------------------------|----------------------------------------------------------------------------------------|\n",
      "| 1        | Rusty Cutlass            | A worn and rusty cutlass, barely usable in combat.                                    | A serviceable cutlass with some rust, but still sharp enough for combat.                 | A finely crafted cutlass with minor rust, still very effective in combat.               |\n",
      "| 2        | Cultist Robes            | Tattered and dirty robes worn by the cult acolytes.                                   | Clean but plain robes with minor enchantments for protection.                           | High-quality robes with strong protective enchantments.                                |\n",
      "| 3        | Nautical Map             | A faded and torn map with barely legible markings.                                    | A detailed map with some wear, useful for navigation.                                   | An ancient, pristine map with magical properties to reveal hidden sea routes.           |\n",
      "| 4        | Ritual Dagger            | A dull dagger used in cult rituals, not very effective in combat.                     | A sharp dagger with minor magical properties, used in rituals.                          | A highly enchanted dagger, extremely effective in combat and rituals.                   |\n",
      "| 5        | Scroll of Sea Lore       | A scroll with basic information about sea creatures and lore.                         | A detailed scroll with valuable information about maritime legends and creatures.        | An ancient scroll with comprehensive knowledge of the sea, including hidden treasures.  |\n",
      "| 6        | Healing Potion           | A weak potion that restores a small amount of health.                                 | A standard potion that restores a moderate amount of health.                            | A powerful potion that fully restores health and grants temporary resistance to damage. |\n",
      "| 7        | Waterproof Satchel       | A small, leaky satchel that can barely keep items dry.                                | A medium-sized satchel that keeps items dry in most conditions.                         | A large, enchanted satchel that keeps items completely dry, even underwater.            |\n",
      "| 8        | Trident of the Sea       | A basic trident with minor enchantments.                                              | A well-crafted trident with moderate enchantments, effective in combat.                 | A legendary trident with powerful enchantments, highly effective in combat and rituals. |\n",
      "| 9        | Cultist&#39;s Journal        | A journal with vague notes about the cult&#39;s activities.                               | A detailed journal with useful information about the cult&#39;s rituals and plans.          | A comprehensive journal with critical information about the cult&#39;s hierarchy and goals. |\n",
      "| 10       | Amulet of Protection     | A simple amulet that offers minor protection.                                         | A well-crafted amulet that offers moderate protection against attacks.                  | A highly enchanted amulet that offers significant protection and resistance to magic.   |\n",
      "| 11       | Seaweed Bandages         | Basic bandages made from seaweed, offering minimal healing.                           | Well-prepared seaweed bandages that offer moderate healing.                             | Enchanted seaweed bandages that offer significant healing and temporary regeneration.   |\n",
      "| 12       | Lantern of Revealing     | A basic lantern that provides light.                                                  | A lantern that reveals hidden objects and creatures within a small radius.              | A powerful lantern that reveals hidden objects and creatures within a large radius.     |\n",
      "| 13       | Coral Necklace           | A simple necklace made of common coral.                                               | A beautiful necklace made of rare coral, offering minor enchantments.                   | An exquisite necklace made of enchanted coral, offering significant magical benefits.   |\n",
      "| 14       | Bottle of Seawater       | A bottle of ordinary seawater.                                                        | A bottle of seawater with minor healing properties.                                     | A bottle of enchanted seawater that grants temporary water-breathing abilities.         |\n",
      "| 15       | Compass of Navigation    | A basic compass that points north.                                                    | A well-crafted compass that helps with navigation at sea.                               | An enchanted compass that always points to the user&#39;s desired destination.              |\n",
      "| 16       | Shell Earrings           | Simple earrings made from common seashells.                                           | Beautiful earrings made from rare seashells, offering minor enchantments.               | Exquisite earrings made from enchanted seashells, offering significant magical benefits.|\n",
      "| 17       | Rope of Climbing         | A basic rope that can be used for climbing.                                           | A sturdy rope with minor enchantments to assist in climbing.                            | An enchanted rope that can climb and secure itself on command.                          |\n",
      "| 18       | Pearl of Wisdom          | A small, dull pearl with minor magical properties.                                    | A beautiful pearl that grants the user minor wisdom and insight.                        | A large, enchanted pearl that grants significant wisdom and insight.                    |\n",
      "| 19       | Sea Chart                | A basic chart with common sea routes.                                                 | A detailed chart with valuable information about sea routes and hazards.                | An ancient, enchanted chart that reveals hidden sea routes and treasures.               |\n",
      "| 20       | Scroll of Summoning      | A scroll with a basic summoning spell.                                                | A scroll with a powerful summoning spell for sea creatures.                             | A legendary scroll with a summoning spell for a powerful sea entity.                    |\r\n"
     ]
    }
   ],
   "source": [
    "#pragma warning disable SKEXP0060\n",
    "\n",
    "var executionPlanResult = await executionPlan.InvokeAsync(kernel, new KernelArguments());\n",
    "\n",
    "Console.WriteLine(executionPlanResult.ToString());"
   ]
  },
  {
   "attachments": {},
   "cell_type": "markdown",
   "metadata": {},
   "source": [
    "Save the output to the filesystem as `five-room-dungeon.md` in the `output` directory."
   ]
  },
  {
   "cell_type": "code",
   "execution_count": 79,
   "metadata": {
    "dotnet_interactive": {
     "language": "csharp"
    },
    "polyglot_notebook": {
     "kernelName": "csharp"
    }
   },
   "outputs": [],
   "source": [
    "// Delete all contents of the directory\n",
    "var outputDirectory = Path.Combine(System.IO.Directory.GetCurrentDirectory(), \"..\", \"output\");\n",
    "\n",
    "// Replace \"&#39;\"\" with \"'\"\n",
    "var markdownContent = executionPlanResult.Replace(\"&#39;\", \"'\");\n",
    "\n",
    "// Write the variable executionPlanResults to a file\n",
    "File.WriteAllText(Path.Combine(outputDirectory, \"five-room-dungeon.md\"), markdownContent);"
   ]
  },
  {
   "cell_type": "markdown",
   "metadata": {},
   "source": [
    "## Step 6 - Structure Data\n",
    "\n",
    "The generated content will be more useful to us if we can structure it into a data format that can be consumed by other systems."
   ]
  },
  {
   "cell_type": "code",
   "execution_count": 80,
   "metadata": {},
   "outputs": [],
   "source": [
    "// Construct arguments\n",
    "var arguments = new KernelArguments() { [\"input_context\"] = markdownContent };\n",
    "\n",
    "\n",
    "var jsonContent5RD = await kernel.InvokeAsync(pluginFunctions[\"JSONFormatFiveRoomDungeon\"], arguments);\n",
    "var jsonContent5RDString = jsonContent5RD.ToString().Replace(\"```json\", string.Empty).Replace(\"```\", string.Empty).Trim();\n",
    "File.WriteAllText(Path.Combine(outputDirectory, \"five-room-dungeon.json\"), jsonContent5RDString);\n",
    "\n",
    "var jsonContentLoot = await kernel.InvokeAsync(pluginFunctions[\"JSONFormatLootTable\"], arguments);\n",
    "var jsonContentLootString = jsonContentLoot.ToString().Replace(\"```json\", string.Empty).Replace(\"```\", string.Empty).Trim();\n",
    "File.WriteAllText(Path.Combine(outputDirectory, \"loot-table.json\"), jsonContentLootString);\n",
    "\n",
    "var jsonContentNPCs = await kernel.InvokeAsync(pluginFunctions[\"JSONFormatNPCs\"], arguments);\n",
    "var jsonContentNPCsString = jsonContentNPCs.ToString().Replace(\"```json\", string.Empty).Replace(\"```\", string.Empty).Trim();\n",
    "File.WriteAllText(Path.Combine(outputDirectory, \"npcs.json\"), jsonContentNPCsString);"
   ]
  },
  {
   "cell_type": "markdown",
   "metadata": {},
   "source": [
    "## Step 7 - Generate NPC Tokens\n",
    "\n",
    "Now that we have structured data, we can programmatically iterate through objects of interest and perform further action.  In this case, we'll be generating token images for each NPC."
   ]
  },
  {
   "cell_type": "code",
   "execution_count": 81,
   "metadata": {
    "dotnet_interactive": {
     "language": "csharp"
    },
    "polyglot_notebook": {
     "kernelName": "csharp"
    }
   },
   "outputs": [],
   "source": [
    "#pragma warning disable SKEXP0001\n",
    "\n",
    "var prompt = \"A photo-realistic portrait of an NPC with the following description: \";\n",
    "\n",
    "// Define the POCO classes\n",
    "public class NPC\n",
    "{\n",
    "    public string name { get; set; }\n",
    "    public string appearance { get; set; }\n",
    "    public string personality { get; set; }\n",
    "    public string role { get; set; }\n",
    "}\n",
    "\n",
    "// Deserialize the JSON content to a list of NPC objects\n",
    "List<NPC> npcs = JsonSerializer.Deserialize<List<NPC>>(jsonContentNPCsString);\n",
    "\n",
    "// Create an httpClient\n",
    "var httpClient = new HttpClient();\n",
    "\n",
    "// Output the deserialized objects\n",
    "foreach (var npc in npcs)\n",
    "{\n",
    "    // Use DALL-E 3 to generate an image. OpenAI in this case returns a URL (though you can ask to return a base64 image)\n",
    "    var imageUrl = await dallE.GenerateImageAsync(prompt + npc.appearance, 1024, 1024);\n",
    "\n",
    "    // Download the image to a local file\n",
    "    using (Stream stream = await httpClient.GetStreamAsync(imageUrl))\n",
    "    using (MemoryStream memStream = new MemoryStream())\n",
    "    {\n",
    "        await stream.CopyToAsync(memStream);\n",
    "        File.WriteAllBytes(Path.Combine(outputDirectory, $\"{npc.name}.png\"), memStream.ToArray());\n",
    "    };\n",
    "}\n"
   ]
  }
 ],
 "metadata": {
  "kernelspec": {
   "display_name": ".NET (C#)",
   "language": "C#",
   "name": ".net-csharp"
  },
  "language_info": {
   "name": "polyglot-notebook"
  },
  "polyglot_notebook": {
   "kernelInfo": {
    "defaultKernelName": "csharp",
    "items": [
     {
      "aliases": [],
      "name": "csharp"
     }
    ]
   }
  }
 },
 "nbformat": 4,
 "nbformat_minor": 2
}
