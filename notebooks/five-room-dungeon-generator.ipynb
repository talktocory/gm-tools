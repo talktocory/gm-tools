{
 "cells": [
  {
   "attachments": {},
   "cell_type": "markdown",
   "metadata": {},
   "source": [
    "# Five-Room Dungeon Generator\n",
    "\n",
    "The Five-Room Dungeon Generator provides GMs with a way to quickly generate a custom five-room dungeon that can be incorporated into their campaign.  Simply provide the notebook with a concept and the notebook will do the rest.\n",
    "\n",
    "> [!IMPORTANT]\n",
    "> You will need an [.NET 8 SDK](https://dotnet.microsoft.com/en-us/download/dotnet/8.0) and [Polyglot](https://marketplace.visualstudio.com/items?itemName=ms-dotnettools.dotnet-interactive-vscode) to get started with this notebook using .NET Interactive.\n",
    "> \n",
    ">\n",
    "> To run the LLM prompts and semantic functions, make sure you have an\n",
    "> - [Azure OpenAI Service Key](https://learn.microsoft.com/azure/cognitive-services/openai/quickstart?pivots=rest-api) or\n",
    "> - [OpenAI API Key](https://platform.openai.com)."
   ]
  },
  {
   "cell_type": "markdown",
   "metadata": {},
   "source": [
    "## Step 1 - Define Your Concept\n",
    "\n",
    "Define your five-room dungeon concept."
   ]
  },
  {
   "cell_type": "code",
   "execution_count": 7,
   "metadata": {
    "dotnet_interactive": {
     "language": "csharp"
    },
    "polyglot_notebook": {
     "kernelName": "csharp"
    }
   },
   "outputs": [],
   "source": [
    "// Modify these variables according to your five-room dungeon concept.\n",
    "var system_message = @\"\n",
    "You are a game master for a Dungeons and Dragons campaign.\n",
    "Please create a five-room dungeon for a party of 5 level 3 adventurers.\n",
    "The five-room dungeon should be of medium difficulty.\n",
    "\n",
    "Output options:\n",
    "* the five-room dungeon outline, \n",
    "* descriptive text for each room in the outline, \n",
    "* a list of NPCs and monsters that the party will encounter, \n",
    "* a rolltable of possible loot that the party can find.\n",
    "* Please output the generated information into a single consolidated markdown document.\n",
    "* please do not format results into json, csv, or other structured data formats\n",
    "\";\n",
    "\n",
    "var user_message = @\"Please generate a five-room dungeon concept based on the following details:\n",
    "* The five-room dungeon will take place in the town of Hammersend.\n",
    "* The party must deal with a powerful cult that has taken control of the town of Hammersend.\n",
    "* The cult is comprised of acolytes and clerics who worship ancient sea witches.\n",
    "* The cult has formed a partnership with one of the player's brothers, who has been corrupted by the cult's influence.\n",
    "* The party must infiltrate the cult's evil lair, an abandoned lighthouse.\n",
    "* The cult will summon a tentacle monster to destroy the party and the town if they are not stopped.\n",
    "\";"
   ]
  },
  {
   "cell_type": "markdown",
   "metadata": {},
   "source": [
    "## Step 2 - Initial Configuration\n",
    "\n",
    "Configure the OpenAI or Azure OpenAI endpoints that we will be using."
   ]
  },
  {
   "cell_type": "markdown",
   "metadata": {},
   "source": [
    "\n",
    "Choose whether you wish to use the OpenAI or Azure OpenAI service."
   ]
  },
  {
   "cell_type": "code",
   "execution_count": 8,
   "metadata": {
    "dotnet_interactive": {
     "language": "csharp"
    },
    "polyglot_notebook": {
     "kernelName": "csharp"
    }
   },
   "outputs": [],
   "source": [
    "bool useAzureOpenAI = false;"
   ]
  },
  {
   "cell_type": "markdown",
   "metadata": {},
   "source": [
    "Execute the following code which will ask a few questions and save the settings to a local\n",
    "`settings.json` configuration file, under the [config](config) folder. You can\n",
    "also edit the file manually if you prefer. **Please keep the file safe.**"
   ]
  },
  {
   "cell_type": "code",
   "execution_count": 9,
   "metadata": {
    "dotnet_interactive": {
     "language": "csharp"
    },
    "polyglot_notebook": {
     "kernelName": "csharp"
    }
   },
   "outputs": [
    {
     "name": "stdout",
     "output_type": "stream",
     "text": [
      "Settings: OK: AI model configured [config/settings.json]\n",
      "Settings: OK: API key configured [config/settings.json]\n"
     ]
    }
   ],
   "source": [
    "#!import config/Settings.cs\n",
    "\n",
    "await Settings.AskAzureEndpoint(useAzureOpenAI);\n",
    "await Settings.AskModel(useAzureOpenAI);\n",
    "await Settings.AskApiKey(useAzureOpenAI);\n",
    "\n",
    "// Uncomment this if you're using OpenAI and need to set the Org Id\n",
    "await Settings.AskOrg(useAzureOpenAI);"
   ]
  },
  {
   "cell_type": "markdown",
   "metadata": {},
   "source": [
    "## Step 3 - Instantiate Services\n",
    "\n",
    "Set up the Microsoft Semantic AI Kernel that will use for generative operations."
   ]
  },
  {
   "cell_type": "code",
   "execution_count": 10,
   "metadata": {
    "dotnet_interactive": {
     "language": "csharp"
    },
    "polyglot_notebook": {
     "kernelName": "csharp"
    }
   },
   "outputs": [
    {
     "data": {
      "text/html": [
       "<div><div></div><div></div><div><strong>Installed Packages</strong><ul><li><span>Microsoft.SemanticKernel, 1.15.1</span></li><li><span>SkiaSharp, 2.88.8</span></li><li><span>System.Numerics.Tensors, 8.0.0</span></li></ul></div></div>"
      ]
     },
     "metadata": {},
     "output_type": "display_data"
    }
   ],
   "source": [
    "// Remove previously installed nuget packages\n",
    "#r \"nuget: Microsoft.SemanticKernel, 1.15.1\"\n",
    "#r \"nuget: System.Numerics.Tensors\"\n",
    "#r \"nuget: SkiaSharp\"\n",
    "\n",
    "#!import config/Settings.cs\n",
    "#!import config/Utils.cs\n",
    "#!import config/SkiaUtils.cs\n",
    "\n",
    "#!import models/Entry.cs\n",
    "#!import models/Room.cs\n",
    "#!import models/NPC.cs\n",
    "#!import models/RollTable.cs\n",
    "#!import models/LootTable.cs\n",
    "#!import models/FiveRoomDungeon.cs\n",
    "\n",
    "using System.ComponentModel;\n",
    "using System.Numerics.Tensors;\n",
    "using Microsoft.SemanticKernel;\n",
    "using Microsoft.SemanticKernel.ChatCompletion;\n",
    "using Microsoft.SemanticKernel.Connectors.OpenAI;\n",
    "using Microsoft.SemanticKernel.Embeddings;\n",
    "using Microsoft.SemanticKernel.TextToImage;\n",
    "\n",
    "#pragma warning disable SKEXP0001, SKEXP0010\n",
    "\n",
    "var builder = Microsoft.SemanticKernel.Kernel.CreateBuilder();\n",
    "\n",
    "// Configure AI backend used by the kernel\n",
    "var (useAzureOpenAI, model, azureEndpoint, apiKey, orgId) = Settings.LoadFromFile();\n",
    "\n",
    "if (useAzureOpenAI)\n",
    "{\n",
    "    builder.AddAzureOpenAITextEmbeddingGeneration(\"text-embedding-ada-002\", azureEndpoint, apiKey);\n",
    "    builder.AddAzureOpenAIChatCompletion(model, azureEndpoint, apiKey);\n",
    "    builder.AddAzureOpenAITextToImage(\"dall-e-3\", azureEndpoint, apiKey);\n",
    "}\n",
    "    \n",
    "else\n",
    "{\n",
    "    builder.AddOpenAITextEmbeddingGeneration(\"text-embedding-ada-002\", apiKey, orgId);\n",
    "    builder.AddOpenAIChatCompletion(model, apiKey, orgId);\n",
    "    builder.AddOpenAITextToImage(apiKey, orgId);\n",
    "}\n",
    "\n",
    "var pluginsDirectory = Path.Combine(System.IO.Directory.GetCurrentDirectory(), \"..\", \"plugins\");\n",
    "\n",
    "var kernel = builder.Build();\n",
    "\n",
    "// Get chat completion service instance\n",
    "var chatCompletionService = kernel.GetRequiredService<IChatCompletionService>();\n",
    "\n",
    "// Get AI service instance used to generate images\n",
    "var dallE = kernel.GetRequiredService<ITextToImageService>();\n",
    "\n",
    "// Get AI service instance used to extract embedding from a text\n",
    "var textEmbedding = kernel.GetRequiredService<ITextEmbeddingGenerationService>();\n",
    "\n",
    "// Get plugin functions\n",
    "var pluginFunctions = kernel.ImportPluginFromPromptDirectory(Path.Combine(pluginsDirectory, \"FiveRoomDungeonPlugin\"));\n",
    "\n",
    "OpenAIPromptExecutionSettings openAIPromptExecutionSettings = new() \n",
    "{\n",
    "    ToolCallBehavior = ToolCallBehavior.AutoInvokeKernelFunctions\n",
    "};\n",
    "\n",
    "var history = new ChatHistory();\n"
   ]
  },
  {
   "attachments": {},
   "cell_type": "markdown",
   "metadata": {},
   "source": [
    "## Step 4 - Generate Outline\n",
    "Generate the five-room dungeon outline, room descriptions and loot table."
   ]
  },
  {
   "cell_type": "code",
   "execution_count": 11,
   "metadata": {
    "dotnet_interactive": {
     "language": "csharp"
    },
    "polyglot_notebook": {
     "kernelName": "csharp"
    }
   },
   "outputs": [
    {
     "name": "stdout",
     "output_type": "stream",
     "text": [
      "Assistant > ### Five-Room Dungeon Concept: The Lair of the Sea Witches\n",
      "\n",
      "#### 1. Entrance and Guardian:\n",
      "The abandoned lighthouse looms before you, its once majestic tower now a crumbling ruin against the backdrop of the stormy sea. The crashing waves below echo ominously, adding to the sense of foreboding that hangs heavy in the air.\n",
      "\n",
      "At the entrance, two acolytes stand guard, their dark robes billowing in the wind as they scan the horizon with watchful eyes. The flickering torchlight casts eerie shadows across their faces, highlighting the fanatic zeal in their expressions. One of them clutches a wicked-looking dagger, while the other holds a staff adorned with sinister symbols.\n",
      "\n",
      "Their whispers carry on the wind, a chilling incantation that sends shivers down your spine. The acolytes are on high alert, their senses sharp and attuned to any intruders. To enter the lighthouse, you must find a way to outwit them, whether through stealth or steel. The path ahead is fraught with danger, but the secrets hidden within beckon you forward.\n",
      "\n",
      "#### 2. Puzzle or Roleplaying Challenge:\n",
      "The room before you is dimly lit, the flickering torches casting dancing shadows on the walls. In the center of the room, a large stone pedestal stands, covered in intricate inscriptions in a language long forgotten. The air is heavy with the scent of ancient dust, and a faint whispering sound echoes through the chamber, as if the very walls are speaking to you.\n",
      "\n",
      "As you approach the pedestal, you notice small runes etched into the floor around it, a clear warning of danger. The inscriptions on the pedestal seem to hold the key to unlocking the cult's secrets and locating their summoning chamber. But deciphering them will not be easy, and failure could trigger a trap that lies hidden within the room.\n",
      "\n",
      "The tension in the air is palpable as you study the inscriptions, feeling the weight of the cult's dark intentions pressing down on you. Will you unravel the mystery and uncover the cult's plans, or will you fall victim to the trap that guards their secrets? The choice is yours, but time is running out.\n",
      "\n",
      "#### 3. Trick or Setback:\n",
      "As you approach the summoning chamber, a sense of unease washes over you. The air grows thick with an ominous energy, and shadows seem to dance and shift in the dim light. Suddenly, a group of hooded figures emerges from the darkness, their eyes gleaming with fanatic zeal.\n",
      "\n",
      "The cultists move with an eerie coordination, their movements almost synchronized as they encircle you, blocking your path forward. As you try to navigate through the maze of illusions and traps they have set, their attacks rain down upon you, each strike fueled by their fervent devotion to their dark cause.\n",
      "\n",
      "Whispers fill the chamber, echoing off the walls and sending shivers down your spine. The cultists' chants grow louder, their voices rising in a twisted cacophony that threatens to overwhelm your senses. You must stay focused and steel your resolve if you hope to overcome this treacherous obstacle and reach the heart of their sinister ritual.\n",
      "\n",
      "#### 4. Climax, Big Battle, or Conflict:\n",
      "The room is filled with an eerie blue light, emanating from the arcane symbols etched into the stone floor. At the center of the chamber, the corrupted brother stands, his once kind eyes now clouded with dark power. He chants in a guttural language, his voice echoing off the walls with an otherworldly resonance.\n",
      "\n",
      "Around him, the air shimmers with dark energy, coalescing into a swirling vortex of water and shadow. From within the vortex, tentacles begin to emerge, writhing and thrashing as if eager to break free. The room reverberates with a sense of impending doom, the very air heavy with the weight of the impending battle.\n",
      "\n",
      "The corrupted brother raises his hands, his fingers crackling with dark energy as he prepares to unleash his power upon the party. The players must act quickly, their weapons drawn and spells at the ready, to confront the cult leader and prevent the summoning of the tentacle monster before it's too late.\n",
      "\n",
      "#### 5. Reward, Revelation, Plot Twist:\n",
      "As you stand victorious over the defeated cult leader, the room falls silent, the echoes of battle fading into the shadows. The air is thick with the scent of incense and burnt offerings, a lingering reminder of the dark rituals that once filled this chamber.\n",
      "\n",
      "Amidst the scattered remnants of the cult's failed summoning, you notice a hidden alcove in the far corner of the room. Stepping closer, you discover ancient artifacts gleaming in the dim light, their intricate designs hinting at a power long forgotten.\n",
      "\n",
      "Beside the artifacts, a stack of weathered documents catches your eye. As you sift through the pages, a chilling revelation unfolds before you - the cult's true intentions laid bare in cryptic symbols and ominous prophecies. The town you swore to protect is in grave danger, and the cult's plans for chaos threaten to unravel everything you hold dear.\n",
      "\n",
      "But amidst the chaos, a glimmer of hope emerges. A letter, penned in a familiar hand, reveals the truth behind the betrayal - your brother, once lost to the darkness, now seeks redemption. His words speak of regret and a desire to make amends, offering a chance for reconciliation in the face of impending doom.\n",
      "\n",
      "As the weight of your decisions hangs heavy in the air, you realize that the fate of the town and the fate of your brother are intertwined in a web of choices that will shape the course of your journey. Will you choose to save the town from destruction, or will you risk everything to save the one you once called family? The path ahead is shrouded in uncertainty, but one thing is clear - the choices you make in this moment will echo through the halls of destiny.\n",
      "\n",
      "#### NPCs:\n",
      "- **Brother Aldric:** Tall and imposing, with dark robes adorned with symbols of the sea witches. Once kind, Aldric is now consumed by the cult's influence and serves as a key foe within the lighthouse.\n",
      "  \n",
      "- **Acolyte Mara:** Ambitious and power-hungry, Mara is manipulative and deceptive. She aids Brother Aldric with cunning and magical abilities.\n",
      "\n",
      "- **Kraken Spawn:** A monstrous creature with writhing tentacles, obeying the cult's commands and adding a sense of urgency to the final confrontation.\n",
      "\n",
      "#### Loot Table:\n",
      "| D20 Roll | Item Name       |        |\n",
      "|----------|------------------|--------|\n",
      "| 1        | Tarnished Key    | Low    |\n",
      "| 2        | Seashell Amulet  | Medium |\n",
      "| 3        | Stormy Potion    | Medium |\n",
      "| 4        | Whispering Scroll| Medium |\n",
      "| 5        | Lighthouse Lens  | Medium |\n",
      "| 6        | Tidecaller Conch | High   |\n",
      "| 7        | Ghostly Lantern  | High   |\n",
      "| 8        | Mermaid Scale    | High   |\n",
      "| 9        | Kraken Ink       | High   |\n",
      "| 10       | Coral Crown      | High   |\n",
      "| 11       | Shipwreck Compass| Medium |\n",
      "| 12       | Siren Song Flute | Medium |\n",
      "| 13       | Leviathan Tooth  | High   |\n",
      "| 14       | Pirate's Map     | High   |\n",
      "| 15       | Merfolk Net      | High   |\n",
      "| 16       | Seafarer's Compass| High  |\n",
      "| 17       | Aquatic Elixir   | Medium |\n",
      "| 18       | Coral Blade      | High   |\n",
      "| 19       | Pearl of Wisdom  | Medium |\n",
      "| 20       | Trident of Poseidon|High  |\r\n"
     ]
    }
   ],
   "source": [
    "// Add the system message to the chat history\n",
    "history.AddSystemMessage(system_message);\n",
    "\n",
    "// Add the user message to the chat history\n",
    "history.AddUserMessage(user_message);\n",
    "\n",
    "// 1. Get the response from the AI with automatic function calling\n",
    "var result = await chatCompletionService.GetChatMessageContentAsync(\n",
    "    history,\n",
    "    executionSettings: openAIPromptExecutionSettings,\n",
    "    kernel: kernel);\n",
    "\n",
    "// Add the message from the agent to the chat history\n",
    "history.AddMessage(result.Role, result.Content ?? string.Empty);\n",
    "\n",
    "// Print the results\n",
    "Console.WriteLine(\"Assistant > \" + result);\n"
   ]
  },
  {
   "cell_type": "markdown",
   "metadata": {},
   "source": [
    "## Step 5 - Convert Outline to Structured Data\n",
    "\n",
    "The generated content will be more useful to us if we can structure it into a data format that can be consumed by other systems."
   ]
  },
  {
   "cell_type": "code",
   "execution_count": 14,
   "metadata": {
    "dotnet_interactive": {
     "language": "csharp"
    },
    "polyglot_notebook": {
     "kernelName": "csharp"
    }
   },
   "outputs": [],
   "source": [
    "// Construct arguments\n",
    "var arguments = new KernelArguments() { [\"input_context\"] = result.Content };\n",
    "\n",
    "// Create the output directory\n",
    "var outputDirectory = Path.Combine(System.IO.Directory.GetCurrentDirectory(), \"..\", \"output\");\n",
    "if (!Directory.Exists(outputDirectory))\n",
    "{\n",
    "    Directory.CreateDirectory(outputDirectory);\n",
    "}\n",
    "\n",
    "// Parse the Five-Room Dungeon markdown content into JSON\n",
    "var jsonContent5RD = await kernel.InvokeAsync(pluginFunctions[\"JSONFormatFiveRoomDungeon\"], arguments);\n",
    "var jsonContent5RDString = jsonContent5RD.ToString().Replace(\"```json\", string.Empty).Replace(\"```\", string.Empty).Trim();\n",
    "File.WriteAllText(Path.Combine(outputDirectory, \"five-room-dungeon.json\"), jsonContent5RDString);\n",
    "FiveRoomDungeon fiveRoomDungeon = JsonSerializer.Deserialize<FiveRoomDungeon>(jsonContent5RDString);\n",
    "\n",
    "// Parse the Loot markdown content into JSON\n",
    "var jsonContentLoot = await kernel.InvokeAsync(pluginFunctions[\"JSONFormatLootTable\"], arguments);\n",
    "var jsonContentLootString = jsonContentLoot.ToString().Replace(\"```json\", string.Empty).Replace(\"```\", string.Empty).Trim();\n",
    "File.WriteAllText(Path.Combine(outputDirectory, \"loot-table.json\"), jsonContentLootString);\n",
    "LootTable lootTable = JsonSerializer.Deserialize<LootTable>(jsonContentLootString);\n",
    "\n",
    "// Parse the NPC markdown content into JSON\n",
    "var jsonContentNPCs = await kernel.InvokeAsync(pluginFunctions[\"JSONFormatNPCs\"], arguments);\n",
    "var jsonContentNPCsString = jsonContentNPCs.ToString().Replace(\"```json\", string.Empty).Replace(\"```\", string.Empty).Trim();\n",
    "File.WriteAllText(Path.Combine(outputDirectory, \"npcs.json\"), jsonContentNPCsString);\n",
    "List<NPC> npcs = JsonSerializer.Deserialize<List<NPC>>(jsonContentNPCsString);"
   ]
  },
  {
   "cell_type": "markdown",
   "metadata": {},
   "source": [
    "## Step 6 - Use the Structured Data\n",
    "\n",
    "Now that we have structured data, we can programmatically iterate through objects of interest and perform further action.  In this case, we'll be generating token images for each NPC and consolidate the generated content into a single markdown document."
   ]
  },
  {
   "cell_type": "code",
   "execution_count": 15,
   "metadata": {
    "dotnet_interactive": {
     "language": "csharp"
    },
    "polyglot_notebook": {
     "kernelName": "csharp"
    }
   },
   "outputs": [],
   "source": [
    "#pragma warning disable SKEXP0001\n",
    "\n",
    "var prompt = \"A photo-realistic portrait of an NPC with the following description: \";\n",
    "\n",
    "// Create an httpClient\n",
    "var httpClient = new HttpClient();\n",
    "\n",
    "// Output the deserialized objects\n",
    "foreach (var npc in npcs)\n",
    "{\n",
    "    // Use DALL-E 3 to generate an image. OpenAI in this case returns a URL (though you can ask to return a base64 image)\n",
    "    var imageUrl = await dallE.GenerateImageAsync(prompt + npc.appearance, 256, 256);\n",
    "\n",
    "    // Download the image to a local file\n",
    "    using (Stream stream = await httpClient.GetStreamAsync(imageUrl))\n",
    "    using (MemoryStream memStream = new MemoryStream())\n",
    "    {\n",
    "        await stream.CopyToAsync(memStream);\n",
    "        File.WriteAllBytes(Path.Combine(outputDirectory, $\"{npc.name}.png\"), memStream.ToArray());\n",
    "    };\n",
    "}\n",
    "\n",
    "// Construct the markdown content\n",
    "var markdownContent = new StringBuilder();\n",
    "markdownContent.AppendLine($\"# {fiveRoomDungeon.title}\");\n",
    "markdownContent.AppendLine();\n",
    "markdownContent.AppendLine(fiveRoomDungeon.introduction);\n",
    "markdownContent.AppendLine();\n",
    "markdownContent.AppendLine(\"## Plot Twist\");\n",
    "markdownContent.AppendLine(fiveRoomDungeon.plot_twist);\n",
    "markdownContent.AppendLine();\n",
    "markdownContent.AppendLine(\"## Rooms\");\n",
    "foreach (var room in fiveRoomDungeon.rooms)\n",
    "{\n",
    "    markdownContent.AppendLine($\"### Room {room.room_number}: {room.title}\");\n",
    "    markdownContent.AppendLine();\n",
    "    markdownContent.AppendLine($\"**Objective**: {room.objective}\");\n",
    "    markdownContent.AppendLine();\n",
    "    markdownContent.AppendLine($\"**Design**: {room.design}\");\n",
    "    markdownContent.AppendLine();\n",
    "    markdownContent.AppendLine($\"**Description**: {room.description}\");\n",
    "    markdownContent.AppendLine();\n",
    "}\n",
    "markdownContent.AppendLine(\"## NPCs\");\n",
    "foreach (var npc in npcs)\n",
    "{\n",
    "    markdownContent.AppendLine($\"### {npc.name}\");\n",
    "    markdownContent.AppendLine();\n",
    "    markdownContent.AppendLine($\"**Appearance**: {npc.appearance}\");\n",
    "    markdownContent.AppendLine();\n",
    "    markdownContent.AppendLine($\"**Personality**: {npc.personality}\");\n",
    "    markdownContent.AppendLine();\n",
    "    markdownContent.AppendLine($\"**Role**: {npc.role}\");\n",
    "    markdownContent.AppendLine();\n",
    "    markdownContent.AppendLine($\"![{npc.name}](./{npc.name}.png)\");\n",
    "    markdownContent.AppendLine();\n",
    "}\n",
    "markdownContent.AppendLine(\"## Loot Table\");\n",
    "markdownContent.AppendLine(lootTable.rolltable.description);\n",
    "markdownContent.AppendLine();\n",
    "markdownContent.AppendLine(\"| Roll | Item | Basic Description | Intermediate Description | Advanced Description |\");\n",
    "markdownContent.AppendLine(\"|------|------|-------------------|-------------------------|----------------------|\");\n",
    "if (lootTable.rolltable.entries != null)\n",
    "{\n",
    "    foreach (var entry in lootTable.rolltable.entries)\n",
    "    {\n",
    "        markdownContent.AppendLine($\"| {entry.roll} | {entry.item} | {entry.description_basic} | {entry.description_intermediate} | {entry.description_advanced} |\");\n",
    "    }\n",
    "}\n",
    "\n",
    "// Output the markdown content to a file\n",
    "File.WriteAllText(Path.Combine(outputDirectory, \"five-room-dungeon.md\"), markdownContent.ToString());\n"
   ]
  }
 ],
 "metadata": {
  "kernelspec": {
   "display_name": ".NET (C#)",
   "language": "C#",
   "name": ".net-csharp"
  },
  "language_info": {
   "name": "polyglot-notebook"
  },
  "polyglot_notebook": {
   "kernelInfo": {
    "defaultKernelName": "csharp",
    "items": [
     {
      "aliases": [],
      "name": "csharp"
     }
    ]
   }
  }
 },
 "nbformat": 4,
 "nbformat_minor": 2
}
