{
 "cells": [
  {
   "attachments": {},
   "cell_type": "markdown",
   "metadata": {},
   "source": [
    "# Five-Room Dungeon Generator\n",
    "\n",
    "The Five-Room Dungeon Generator provides GMs with a way to quickly and easily generate a custom five-room dungeon that can be incorporated into their campaign.  Simply provide the notebook with a concept and the notebook will do the rest.\n",
    "\n",
    "> [!IMPORTANT]\n",
    "> You will need an [.NET 8 SDK](https://dotnet.microsoft.com/en-us/download/dotnet/8.0) and [Polyglot](https://marketplace.visualstudio.com/items?itemName=ms-dotnettools.dotnet-interactive-vscode) to get started with this notebook using .NET Interactive."
   ]
  },
  {
   "cell_type": "markdown",
   "metadata": {},
   "source": [
    "## Step 1 - Define Your Concept\n",
    "\n",
    "Define your five-room dungeon concept."
   ]
  },
  {
   "cell_type": "code",
   "execution_count": 1,
   "metadata": {
    "dotnet_interactive": {
     "language": "csharp"
    },
    "polyglot_notebook": {
     "kernelName": "csharp"
    }
   },
   "outputs": [],
   "source": [
    "var concept = @\"\n",
    "You are a game master for a Dungeons and Dragons campaign.\n",
    "Please create a five-room dungeon for a party of 4 level 5 characters.\n",
    "The five-room dungeon should be of medium difficulty and take place in a forest.\n",
    "The party consists of a fighter, a wizard, a cleric, and a rogue.\n",
    "The party is on a quest to retrieve a magical artifact from a bandit camp.\n",
    "Ensure that the output includes:\n",
    "* the five-room dungeon outline, \n",
    "* descriptive text for each room in the outline, \n",
    "* a list of NPCs and monsters that the party will encounter, \n",
    "* a description of the VTT map for the dungeon, and\n",
    "* a rolltable of possible loot that the party can find.\n",
    "Please output the generated information into a single consolidated markdown document.\n",
    "\";"
   ]
  },
  {
   "cell_type": "markdown",
   "metadata": {},
   "source": [
    "## Step 2 - Initial Configuration"
   ]
  },
  {
   "cell_type": "markdown",
   "metadata": {},
   "source": [
    "\n",
    "Choose whether you wish to use the OpenAI or Azure OpenAI service."
   ]
  },
  {
   "cell_type": "code",
   "execution_count": 2,
   "metadata": {
    "dotnet_interactive": {
     "language": "csharp"
    },
    "polyglot_notebook": {
     "kernelName": "csharp"
    }
   },
   "outputs": [],
   "source": [
    "bool useAzureOpenAI = false;"
   ]
  },
  {
   "cell_type": "markdown",
   "metadata": {},
   "source": [
    "Execute the following code which will ask a few questions and save the settings to a local\n",
    "`settings.json` configuration file, under the [config](config) folder. You can\n",
    "also edit the file manually if you prefer. **Please keep the file safe.**"
   ]
  },
  {
   "cell_type": "code",
   "execution_count": 3,
   "metadata": {
    "dotnet_interactive": {
     "language": "csharp"
    },
    "polyglot_notebook": {
     "kernelName": "csharp"
    }
   },
   "outputs": [
    {
     "name": "stdout",
     "output_type": "stream",
     "text": [
      "Settings: OK: AI model configured [config/settings.json]\n",
      "Settings: OK: API key configured [config/settings.json]\n"
     ]
    }
   ],
   "source": [
    "#!import config/Settings.cs\n",
    "\n",
    "await Settings.AskAzureEndpoint(useAzureOpenAI);\n",
    "await Settings.AskModel(useAzureOpenAI);\n",
    "await Settings.AskApiKey(useAzureOpenAI);\n",
    "\n",
    "// Uncomment this if you're using OpenAI and need to set the Org Id\n",
    "await Settings.AskOrg(useAzureOpenAI);"
   ]
  },
  {
   "cell_type": "markdown",
   "metadata": {},
   "source": [
    "If you want to reset the configuration and start again, please uncomment and run the code below.\n",
    "You can also edit the [config/settings.json](config/settings.json) manually if you prefer."
   ]
  },
  {
   "cell_type": "code",
   "execution_count": 4,
   "metadata": {
    "dotnet_interactive": {
     "language": "csharp"
    },
    "polyglot_notebook": {
     "kernelName": "csharp"
    }
   },
   "outputs": [],
   "source": [
    "#!import config/Settings.cs\n",
    "\n",
    "// Uncomment this line to reset your settings and delete the file from disk.\n",
    "// Settings.Reset();"
   ]
  },
  {
   "cell_type": "markdown",
   "metadata": {},
   "source": [
    "## Step 3 - Instantiate Services\n",
    "\n",
    "Set up the Microsoft Semantic AI Kernel that will use for generative operations."
   ]
  },
  {
   "cell_type": "code",
   "execution_count": 37,
   "metadata": {
    "dotnet_interactive": {
     "language": "csharp"
    },
    "polyglot_notebook": {
     "kernelName": "csharp"
    }
   },
   "outputs": [
    {
     "data": {
      "text/html": [
       "<div><div></div><div></div><div><strong>Installed Packages</strong><ul><li><span>Microsoft.SemanticKernel, 1.11.1</span></li><li><span>Microsoft.SemanticKernel.Planners.Handlebars, 1.11.1-preview</span></li><li><span>SkiaSharp, 2.88.3</span></li><li><span>System.Numerics.Tensors, 8.0.0</span></li></ul></div></div>"
      ]
     },
     "metadata": {},
     "output_type": "display_data"
    }
   ],
   "source": [
    "\n",
    "#r \"nuget: Microsoft.SemanticKernel, 1.11.1\"\n",
    "#r \"nuget: Microsoft.SemanticKernel.Planners.Handlebars, 1.11.1-preview\"\n",
    "#r \"nuget: System.Numerics.Tensors, 8.0.0\"\n",
    "#r \"nuget: SkiaSharp, 2.88.3\"\n",
    "\n",
    "#!import config/Settings.cs\n",
    "#!import config/Utils.cs\n",
    "#!import config/SkiaUtils.cs\n",
    "\n",
    "using Microsoft.SemanticKernel;\n",
    "using Microsoft.SemanticKernel.TextToImage;\n",
    "using Microsoft.SemanticKernel.Embeddings;\n",
    "using Microsoft.SemanticKernel.Connectors.OpenAI;\n",
    "using System.Numerics.Tensors;\n",
    "\n",
    "#pragma warning disable SKEXP0001, SKEXP0010\n",
    "\n",
    "var builder = Microsoft.SemanticKernel.Kernel.CreateBuilder();\n",
    "\n",
    "// Configure AI backend used by the kernel\n",
    "var (useAzureOpenAI, model, azureEndpoint, apiKey, orgId) = Settings.LoadFromFile();\n",
    "\n",
    "if (useAzureOpenAI)\n",
    "{\n",
    "    builder.AddAzureOpenAITextEmbeddingGeneration(\"text-embedding-ada-002\", azureEndpoint, apiKey);\n",
    "    builder.AddAzureOpenAIChatCompletion(model, azureEndpoint, apiKey);\n",
    "    builder.AddAzureOpenAITextToImage(\"dall-e-3\", azureEndpoint, apiKey);\n",
    "}\n",
    "    \n",
    "else\n",
    "{\n",
    "    builder.AddOpenAITextEmbeddingGeneration(\"text-embedding-ada-002\", apiKey, orgId);\n",
    "    builder.AddOpenAIChatCompletion(model, apiKey, orgId);\n",
    "    builder.AddOpenAITextToImage(apiKey, orgId);\n",
    "}\n",
    "\n",
    "var kernel = builder.Build();\n",
    "\n",
    "// Get AI service instance used to generate images\n",
    "var dallE = kernel.GetRequiredService<ITextToImageService>();\n",
    "\n",
    "// Get AI service instance used to extract embedding from a text\n",
    "var textEmbedding = kernel.GetRequiredService<ITextEmbeddingGenerationService>();"
   ]
  },
  {
   "cell_type": "markdown",
   "metadata": {},
   "source": [
    "Import custom plugins from plugin directory."
   ]
  },
  {
   "cell_type": "code",
   "execution_count": 38,
   "metadata": {
    "dotnet_interactive": {
     "language": "csharp"
    },
    "polyglot_notebook": {
     "kernelName": "csharp"
    }
   },
   "outputs": [],
   "source": [
    "var pluginsDirectory = Path.Combine(System.IO.Directory.GetCurrentDirectory(), \"..\", \"plugins\");\n",
    "\n",
    "var kernel = builder.Build();\n",
    "var pluginFunctions = kernel.ImportPluginFromPromptDirectory(Path.Combine(pluginsDirectory, \"FiveRoomDungeonPlugin\"));"
   ]
  },
  {
   "attachments": {},
   "cell_type": "markdown",
   "metadata": {},
   "source": [
    "Set up the Handlebars Planner that will be used for orchestrating generative operations."
   ]
  },
  {
   "cell_type": "code",
   "execution_count": 39,
   "metadata": {
    "dotnet_interactive": {
     "language": "csharp"
    },
    "polyglot_notebook": {
     "kernelName": "csharp"
    }
   },
   "outputs": [],
   "source": [
    "using Microsoft.SemanticKernel.Planning.Handlebars;\n",
    "\n",
    "#pragma warning disable SKEXP0060\n",
    "\n",
    "var planner = new HandlebarsPlanner();"
   ]
  },
  {
   "cell_type": "markdown",
   "metadata": {},
   "source": [
    "## Step 4 - Develop an Execution Plan\n",
    "\n",
    "Have the planner generate an executiong plan based on the provided concept and kernel plugins."
   ]
  },
  {
   "cell_type": "code",
   "execution_count": 17,
   "metadata": {
    "dotnet_interactive": {
     "language": "csharp"
    },
    "polyglot_notebook": {
     "kernelName": "csharp"
    }
   },
   "outputs": [
    {
     "name": "stdout",
     "output_type": "stream",
     "text": [
      "{{!-- Step 0: Extract key values --}}\n",
      "{{set \"gameSystem\" \"Dungeons and Dragons\"}}\n",
      "{{set \"partyContext\" \"The party consists of a fighter, a wizard, a cleric, and a rogue. They are on a quest to retrieve a magical artifact from a bandit camp.\"}}\n",
      "{{set \"location\" \"The dungeon is set in a forest and is of medium difficulty, suitable for a party of 4 level 5 characters.\"}}\n",
      "\n",
      "{{!-- Step 1: Generate the five-room dungeon outline --}}\n",
      "{{set \"fiveRoomDungeonOutline\" (FiveRoomDungeonPlugin-FiveRoomDungeon game_system=gameSystem input_context=(concat partyContext \" \" location))}}\n",
      "\n",
      "{{!-- Step 2: Generate descriptive text for each room --}}\n",
      "{{set \"room1Description\" (FiveRoomDungeonPlugin-RoomDescription room_number=\"1\" input_context=fiveRoomDungeonOutline)}}\n",
      "{{set \"room2Description\" (FiveRoomDungeonPlugin-RoomDescription room_number=\"2\" input_context=fiveRoomDungeonOutline)}}\n",
      "{{set \"room3Description\" (FiveRoomDungeonPlugin-RoomDescription room_number=\"3\" input_context=fiveRoomDungeonOutline)}}\n",
      "{{set \"room4Description\" (FiveRoomDungeonPlugin-RoomDescription room_number=\"4\" input_context=fiveRoomDungeonOutline)}}\n",
      "{{set \"room5Description\" (FiveRoomDungeonPlugin-RoomDescription room_number=\"5\" input_context=fiveRoomDungeonOutline)}}\n",
      "\n",
      "{{!-- Step 3: Generate a list of NPCs and monsters --}}\n",
      "{{set \"NPCsAndMonsters\" (FiveRoomDungeonPlugin-NPC input_context=fiveRoomDungeonOutline)}}\n",
      "\n",
      "{{!-- Step 4: Generate a loot rolltable --}}\n",
      "{{set \"lootRolltable\" (FiveRoomDungeonPlugin-Loot input_context=fiveRoomDungeonOutline)}}\n",
      "\n",
      "{{!-- Step 5: Output the markdown document --}}\n",
      "# Five Room Dungeon\n",
      "\n",
      "## Dungeon Outline\n",
      "{{json fiveRoomDungeonOutline}}\n",
      "\n",
      "## Room Descriptions\n",
      "\n",
      "### Room 1: Entrance\n",
      "{{room1Description}}\n",
      "\n",
      "### Room 2: Puzzle or Roleplaying Challenge\n",
      "{{room2Description}}\n",
      "\n",
      "### Room 3: Trick or Setback\n",
      "{{room3Description}}\n",
      "\n",
      "### Room 4: Climax\n",
      "{{room4Description}}\n",
      "\n",
      "### Room 5: Reward or Revelation\n",
      "{{room5Description}}\n",
      "\n",
      "## NPCs and Monsters\n",
      "{{json NPCsAndMonsters}}\n",
      "\n",
      "## VTT Map Description\n",
      "The virtual table top (VTT) map should include all five rooms, with appropriate forest elements and bandit camp features. Each room should correspond to the generated descriptions and facilitate the combat, puzzle, and roleplaying challenges outlined.\n",
      "\n",
      "## Loot Rolltable\n",
      "{{json lootRolltable}}\r\n"
     ]
    }
   ],
   "source": [
    "#pragma warning disable SKEXP0060\n",
    "\n",
    "// Generate a plan for the concept\n",
    "var executionPlan  = await planner.CreatePlanAsync(kernel, concept);\n",
    "Console.WriteLine(executionPlan);"
   ]
  },
  {
   "attachments": {},
   "cell_type": "markdown",
   "metadata": {},
   "source": [
    "## Step 5 - Execute the Plan\n",
    "Execute the plan and generate the five-room dungeon outline and room descriptions."
   ]
  },
  {
   "cell_type": "code",
   "execution_count": 18,
   "metadata": {
    "dotnet_interactive": {
     "language": "csharp"
    },
    "polyglot_notebook": {
     "kernelName": "csharp"
    }
   },
   "outputs": [
    {
     "name": "stdout",
     "output_type": "stream",
     "text": [
      "# Five Room Dungeon\n",
      "\n",
      "## Dungeon Outline\n",
      "## Room 1: Entrance and Guardian\n",
      "* **Objective:** Create an initial challenge.\n",
      "* **Design:** The entrance to the bandit camp is hidden within a dense part of the forest. The path is guarded by a pair of bandit scouts and a trained wolf. The scouts are alert and have set up a tripwire trap that will alert the camp if triggered.\n",
      "\n",
      "**Description:**\n",
      "The party approaches a dense thicket, where the path narrows and becomes overgrown. Ahead, they can see two bandit scouts patrolling with a wolf. The scouts are wary and have set up a tripwire connected to a bell hidden in the bushes.\n",
      "\n",
      "**Challenge:**\n",
      "- The rogue can attempt to disarm the tripwire trap (DC 15 Dexterity check with Thieves&#39; Tools).\n",
      "- The party can choose to engage the scouts and the wolf in combat or try to sneak past them (DC 14 Stealth check for the whole party).\n",
      "\n",
      "## Room 2: Puzzle or Roleplaying Challenge\n",
      "* **Objective:** Engage players with non-combat interaction.\n",
      "* **Design:** After passing the scouts, the party finds a clearing with a large, ancient tree. The tree has a hollow with a magical lock that requires a specific phrase to open. The phrase can be discovered by interacting with a forest spirit that resides nearby.\n",
      "\n",
      "**Description:**\n",
      "In the clearing, an ancient tree stands tall with a hollow at its base. The hollow is sealed with a magical lock that glows faintly. Nearby, a gentle breeze rustles the leaves, and a soft voice whispers from the trees.\n",
      "\n",
      "**Challenge:**\n",
      "- The party can attempt to communicate with the forest spirit (DC 13 Charisma (Persuasion) check).\n",
      "- The spirit will provide a riddle that, when solved, reveals the phrase needed to unlock the hollow.\n",
      "\n",
      "**Riddle Example:**\n",
      "&quot;I speak without a mouth and hear without ears. I have no body, but I come alive with wind. What am I?&quot; (Answer: An echo)\n",
      "\n",
      "## Room 3: Trick or Setback\n",
      "* **Objective:** Introduce a complication or twist.\n",
      "* **Design:** Inside the hollow, the party finds a hidden passage leading underground. As they proceed, they trigger a pressure plate that releases a cloud of sleeping gas, putting some of the party members to sleep.\n",
      "\n",
      "**Description:**\n",
      "The hollow opens into a narrow passage that descends into the earth. The air grows cooler and damper as they proceed. Suddenly, a soft click is heard, and a hissing sound follows as a cloud of gas fills the passage.\n",
      "\n",
      "**Challenge:**\n",
      "- Each party member must make a DC 14 Constitution saving throw or fall asleep for 1d4 rounds.\n",
      "- The cleric can use a spell like &quot;Lesser Restoration&quot; to wake up affected party members.\n",
      "\n",
      "## Room 4: Climax, Big Battle, or Conflict\n",
      "* **Objective:** Present the main confrontation.\n",
      "* **Design:** The passage leads to the bandit leader&#39;s underground lair. The leader, a seasoned fighter, is accompanied by two bandit lieutenants and a spellcaster. The room is filled with stolen goods and the magical artifact the party seeks.\n",
      "\n",
      "**Description:**\n",
      "The passage opens into a large underground chamber, dimly lit by torches. The bandit leader stands at the center, flanked by two lieutenants and a spellcaster. The room is cluttered with crates and sacks of stolen goods. The magical artifact rests on a pedestal behind the leader.\n",
      "\n",
      "**Challenge:**\n",
      "- The party must defeat the bandit leader and his lieutenants in a tough battle.\n",
      "- The spellcaster will use spells to hinder the party, such as &quot;Hold Person&quot; and &quot;Magic Missile.&quot;\n",
      "\n",
      "## Room 5: Reward, Revelation, Plot Twist\n",
      "* **Objective:** Resolve the dungeon with a satisfying conclusion.\n",
      "* **Design:** After defeating the bandit leader, the party can claim the magical artifact. Among the stolen goods, they find a letter revealing that the bandits were hired by a mysterious figure to retrieve the artifact.\n",
      "\n",
      "**Description:**\n",
      "With the bandit leader defeated, the room falls silent. The magical artifact, a beautifully crafted amulet, glows with a soft light. Among the stolen goods, the party finds a sealed letter with a wax seal bearing an unfamiliar crest.\n",
      "\n",
      "**Reward:**\n",
      "- The party gains the magical artifact they were seeking.\n",
      "- They also find valuable items and gold among the stolen goods (totaling 500 gp).\n",
      "- The letter reveals a new plot twist: the bandits were hired by a mysterious figure, hinting at a larger conspiracy.\n",
      "\n",
      "**Plot Twist:**\n",
      "The letter reads: &quot;Deliver the artifact to the rendezvous point as planned. Our benefactor will be most pleased. Do not fail.&quot; The letter is signed with the initials &quot;L.V.&quot; and bears a wax seal with an unfamiliar crest, suggesting a new thread for the party to investigate.\n",
      "\n",
      "## Room Descriptions\n",
      "\n",
      "### Room 1: Entrance\n",
      "As you push through the dense thicket, the forest path narrows and becomes overgrown with tangled vines and thick underbrush. The air is thick with the scent of pine and damp earth, and the sounds of rustling leaves and distant bird calls fill your ears. Ahead, you catch sight of two bandit scouts patrolling the area, their eyes sharp and alert. \n",
      "\n",
      "The first scout, a burly man with a thick beard and a patchwork of mismatched armor, leans casually against a tree, but his eyes never stop scanning the surroundings. The second scout, a wiry figure with a scar running down his cheek, paces back and forth, his movements quick and restless. Both are armed with short swords that glint menacingly in the dappled sunlight filtering through the canopy.\n",
      "\n",
      "Beside them, a large, menacing wolf sits on its haunches, its ears perked and nose twitching as it sniffs the air. The wolf&#39;s fur is a mottled gray, blending seamlessly with the shadows of the forest, and its eyes gleam with a predatory intelligence. A low growl rumbles from its throat, a clear warning to any who might dare approach.\n",
      "\n",
      "As you take in the scene, you notice a thin, almost invisible tripwire stretched across the path, connected to a small bell hidden in the bushes. The slightest disturbance would set off the alarm, alerting the entire camp to your presence.\n",
      "\n",
      "The challenge before you is clear: you must decide whether to attempt to disarm the tripwire, sneak past the vigilant scouts and their wolf, or engage them in combat. The forest seems to hold its breath, waiting for your next move.\n",
      "\n",
      "### Room 2: Puzzle or Roleplaying Challenge\n",
      "As you step past the dense thicket and leave the scouts behind, you find yourselves in a serene clearing bathed in dappled sunlight. At the center of this tranquil space stands a majestic, ancient tree, its gnarled branches stretching skyward as if reaching for the heavens. The tree&#39;s bark is rough and weathered, telling tales of countless seasons passed. At its base, a hollow glows faintly with an ethereal light, sealed by a magical lock that pulses with a soft, rhythmic glow.\n",
      "\n",
      "The air here is different—calmer, almost sacred. A gentle breeze rustles the leaves, carrying with it the scent of fresh earth and blooming wildflowers. As you take in the scene, a soft, melodic whisper seems to emanate from the very trees around you, as if the forest itself is speaking.\n",
      "\n",
      "Suddenly, the whispering grows clearer, and you realize it is the voice of a forest spirit. The voice is soothing, yet carries an ancient wisdom. &quot;Seekers of truth,&quot; it murmurs, &quot;to unlock the secrets of the ancient tree, you must first answer my riddle.&quot;\n",
      "\n",
      "The spirit&#39;s presence is almost tangible, a comforting yet mysterious force that seems to envelop the clearing. You feel a sense of anticipation, knowing that the answer to the riddle will reveal the phrase needed to unlock the hollow and continue your quest.\n",
      "\n",
      "The spirit&#39;s voice resonates through the clearing, posing the riddle: &quot;I speak without a mouth and hear without ears. I have no body, but I come alive with wind. What am I?&quot;\n",
      "\n",
      "As you ponder the riddle, the forest around you seems to hold its breath, waiting for your response. The answer lies within your grasp, and with it, the key to unlocking the ancient tree&#39;s secrets.\n",
      "\n",
      "### Room 3: Trick or Setback\n",
      "As you step into the hollow, the passageway narrows and descends into the earth, the air growing cooler and damper with each step. The walls are rough and uneven, carved from the surrounding rock, and the faint sound of dripping water echoes through the tunnel. The dim light from your torches flickers, casting eerie shadows that dance along the walls.\n",
      "\n",
      "Suddenly, a soft click resonates beneath your feet, followed by a hissing sound. A cloud of gas begins to fill the passage, its sickly sweet scent quickly overwhelming your senses. The gas is thick and cloying, making your eyelids heavy and your limbs feel like lead.\n",
      "\n",
      "You realize too late that you&#39;ve triggered a pressure plate, and the sleeping gas is rapidly taking effect. The passageway seems to spin, and the world around you blurs as you struggle to stay awake. The cool, damp air now feels oppressive, and the sound of your companions&#39; breathing grows faint.\n",
      "\n",
      "Each of you must fight against the encroaching darkness, your willpower and constitution tested as the gas seeks to pull you into a deep, unnatural slumber. The challenge is immediate and dire: resist the gas or succumb to its effects, leaving you vulnerable in this treacherous underground passage.\n",
      "\n",
      "The cleric among you may have the means to counteract the gas&#39;s effects, but time is of the essence. The passageway, once a simple path, has now become a perilous trap, and your journey deeper into the bandits&#39; lair hangs in the balance.\n",
      "\n",
      "### Room 4: Climax\n",
      "As you step into the underground chamber, the air grows thick with the scent of damp earth and the faint, acrid tang of burning torches. The flickering light casts long, dancing shadows across the room, revealing a space cluttered with crates, sacks, and various stolen goods. The atmosphere is tense, almost suffocating, as if the very walls are holding their breath in anticipation of the coming conflict.\n",
      "\n",
      "At the center of the chamber stands the bandit leader, a formidable figure with a scarred face and a steely gaze. His armor is worn but well-maintained, and he grips a wickedly sharp sword with a sense of deadly confidence. Flanking him are two lieutenants, each armed and ready, their eyes cold and calculating. To the side, a spellcaster in dark robes mutters incantations under their breath, their fingers crackling with arcane energy.\n",
      "\n",
      "Behind the bandit leader, on a pedestal draped in tattered cloth, rests the magical artifact you seek. It glows with an otherworldly light, casting an eerie luminescence that highlights the tension in the room. The artifact&#39;s presence is almost palpable, a beacon of power that draws your gaze and fuels your determination.\n",
      "\n",
      "The bandit leader&#39;s voice cuts through the silence, rough and commanding. &quot;So, you&#39;ve made it this far. Impressive. But this is where your journey ends.&quot; He raises his sword, and his lieutenants move into position, ready to defend their leader to the death. The spellcaster&#39;s eyes narrow, and you can feel the magical energy building, ready to be unleashed.\n",
      "\n",
      "The room is a battlefield waiting to erupt. Every crate and sack could provide cover or conceal a hidden danger. The stolen goods scattered around hint at the bandits&#39; ruthless efficiency and the lives they&#39;ve disrupted. The torches flicker, casting an ever-changing light that makes the room feel alive, almost sentient.\n",
      "\n",
      "This is the climax of your journey through the bandit camp. The stakes are high, and the outcome uncertain. The bandit leader and his minions are formidable foes, but the magical artifact is within reach. The room holds its breath, waiting for the clash of steel, the crackle of spells, and the roar of battle. The time for strategy and teamwork is now, as you face the final challenge in this dark, hidden lair.\n",
      "\n",
      "### Room 5: Reward or Revelation\n",
      "As the dust settles and the echoes of battle fade, the room falls into an eerie silence. The dim torchlight flickers, casting long shadows across the cluttered chamber. At the center of the room, the bandit leader lies defeated, his once imposing presence now reduced to a lifeless form. The air is thick with the scent of sweat and blood, mingling with the musty odor of the underground lair.\n",
      "\n",
      "Your eyes are drawn to a pedestal at the back of the room, where the magical artifact rests. It is a beautifully crafted amulet, its intricate design glowing softly with an otherworldly light. The amulet seems to pulse gently, as if alive with hidden power, beckoning you to claim it.\n",
      "\n",
      "As you approach the pedestal, your gaze sweeps over the stolen goods scattered around the room. Crates and sacks overflow with valuable items and gold, a testament to the bandits&#39; numerous raids. Among the loot, something catches your eye—a sealed letter with a wax seal bearing an unfamiliar crest.\n",
      "\n",
      "You carefully break the seal and unfold the letter. The parchment is crisp, and the ink is fresh, suggesting it was written not long ago. The letter reads: &quot;Deliver the artifact to the rendezvous point as planned. Our benefactor will be most pleased. Do not fail.&quot; It is signed with the initials &quot;L.V.&quot; and bears the same mysterious crest as the seal.\n",
      "\n",
      "A sense of unease settles over you as you realize the implications of the letter. The bandits were not acting alone; they were hired by a shadowy figure with unknown motives. This revelation hints at a larger conspiracy, one that could have far-reaching consequences.\n",
      "\n",
      "As you pocket the letter and gather the valuable items and gold (totaling 500 gp), you can&#39;t help but feel a mix of triumph and trepidation. You have succeeded in your mission, but new questions arise. Who is this mysterious benefactor? What do they want with the artifact? And what dangers lie ahead as you unravel this new thread?\n",
      "\n",
      "With the magical amulet in hand and the promise of future adventures, you prepare to leave the bandit lair, knowing that your journey is far from over.\n",
      "\n",
      "## NPCs and Monsters\n",
      "**Name**: Thorne the Scout  \n",
      "**Appearance**: A wiry man with sharp features, wearing a dark green cloak that blends seamlessly with the forest. His eyes are always darting around, scanning for threats.  \n",
      "**Personality**: Paranoid and meticulous, Thorne trusts no one and is always on edge. He is fiercely protective of his territory and takes pride in his scouting abilities.  \n",
      "**Role/Purpose**: Guardian at the entrance, Thorne is one of the initial challenges the players must overcome. His keen senses make it difficult to sneak past him, and he will sound the alarm at the first sign of trouble.\n",
      "\n",
      "**Name**: Sylva the Forest Spirit  \n",
      "**Appearance**: An ethereal figure with translucent, shimmering skin and hair that flows like leaves in the wind. Her eyes glow with a soft, green light.  \n",
      "**Personality**: Gentle and enigmatic, Sylva speaks in riddles and is deeply connected to the forest. She is protective of her domain but willing to aid those who show respect for nature.  \n",
      "**Role/Purpose**: Sylva provides the riddle that unlocks the magical lock on the ancient tree. She engages the players in a roleplaying challenge, testing their wisdom and respect for the forest.\n",
      "\n",
      "**Name**: Rurik the Bandit Leader  \n",
      "**Appearance**: A towering figure with a muscular build, clad in piecemeal armor adorned with trophies from past battles. His face is marked by a jagged scar running from his forehead to his chin.  \n",
      "**Personality**: Ruthless and commanding, Rurik leads with an iron fist and demands absolute loyalty from his followers. He is cunning and always prepared for a fight.  \n",
      "**Role/Purpose**: Rurik is the main antagonist in the bandit leader&#39;s underground lair. He wields the magical artifact to enhance his combat abilities, making him a formidable foe in the final battle.\n",
      "\n",
      "**Name**: Elara the Spellcaster  \n",
      "**Appearance**: A slender woman with long, dark hair and piercing blue eyes. She wears flowing robes adorned with arcane symbols and carries a staff topped with a glowing crystal.  \n",
      "**Personality**: Cold and calculating, Elara is a master of manipulation and strategy. She is loyal to Rurik but harbors her own ambitions for power.  \n",
      "**Role/Purpose**: Elara supports Rurik in the final battle, using her spells to control and hinder the players. Her presence adds a layer of complexity to the fight, requiring the players to adapt their tactics.\n",
      "\n",
      "**Name**: Fenrir the Wolf  \n",
      "**Appearance**: A large, imposing wolf with a thick, dark coat and piercing yellow eyes. His movements are fluid and silent, making him a deadly predator.  \n",
      "**Personality**: Fiercely loyal to his handlers, Fenrir is aggressive and territorial. He is highly trained and responds to commands with lethal precision.  \n",
      "**Role/Purpose**: Fenrir is part of the initial challenge at the entrance, working alongside the bandit scouts. His keen senses and combat prowess make him a significant threat to the players.\n",
      "\n",
      "## VTT Map Description\n",
      "The virtual table top (VTT) map should include all five rooms, with appropriate forest elements and bandit camp features. Each room should correspond to the generated descriptions and facilitate the combat, puzzle, and roleplaying challenges outlined.\n",
      "\n",
      "## Loot Rolltable\n",
      "Here is a loot rolltable for the five-room dungeon described:\n",
      "\n",
      "| D20 Roll | Item Name                | Low Value Description                                                                 | Medium Value Description                                                                 | High Value Description                                                                 |\n",
      "|----------|--------------------------|---------------------------------------------------------------------------------------|-----------------------------------------------------------------------------------------|----------------------------------------------------------------------------------------|\n",
      "| 1        | Bandit Scout&#39;s Dagger    | A simple, slightly rusted dagger.                                                     | A well-maintained dagger with a leather-wrapped hilt.                                    | A finely crafted dagger with a silver hilt and a small emerald embedded in the pommel. |\n",
      "| 2        | Wolf Pelt                | A rough, uncleaned wolf pelt.                                                         | A clean, well-preserved wolf pelt.                                                      | A pristine wolf pelt, treated and lined with fur.                                      |\n",
      "| 3        | Tripwire Bell            | A small, tarnished bell used for traps.                                               | A polished bell with a clear ring.                                                      | A silver bell with intricate engravings, used for high-quality traps.                  |\n",
      "| 4        | Forest Spirit&#39;s Token    | A small wooden token with faint carvings.                                             | A carved wooden token that glows faintly in moonlight.                                  | A beautifully carved token that glows brightly and grants +1 to Charisma checks.       |\n",
      "| 5        | Ancient Tree Bark        | A piece of bark from the ancient tree, rough and brittle.                             | A piece of bark that feels warm to the touch.                                           | A piece of bark that grants +1 to Nature checks when carried.                          |\n",
      "| 6        | Sleeping Gas Vial        | A small vial containing remnants of the sleeping gas.                                 | A vial with enough gas to put one creature to sleep for 1d4 rounds.                     | A vial with potent gas that can put multiple creatures to sleep for 1d4 rounds.        |\n",
      "| 7        | Bandit Leader&#39;s Sword    | A standard, slightly worn sword.                                                      | A well-balanced sword with a sturdy blade.                                              | A masterfully crafted sword with a jeweled hilt.                                       |\n",
      "| 8        | Spellcaster&#39;s Wand       | A basic wooden wand with minor enchantments.                                          | A wand that can cast &quot;Magic Missile&quot; once per day.                                      | A powerful wand that can cast &quot;Magic Missile&quot; three times per day.                     |\n",
      "| 9        | Stolen Goods             | A small pouch of mixed coins (10 gp).                                                 | A medium pouch of mixed coins and a few gems (50 gp).                                   | A large pouch of coins, gems, and a small piece of jewelry (100 gp).                   |\n",
      "| 10       | Magical Artifact Amulet  | A simple amulet with faint magical properties.                                        | An amulet that grants +1 to Wisdom saving throws.                                       | An amulet that grants +2 to Wisdom saving throws and glows in the presence of danger.  |\n",
      "| 11       | Bandit Lieutenant&#39;s Armor| Basic leather armor, slightly worn.                                                   | Well-maintained leather armor with reinforced stitching.                                | High-quality leather armor with magical resistance (+1 to AC).                         |\n",
      "| 12       | Sealed Letter            | A letter with a broken seal, revealing some information about the bandits&#39; employer.  | A sealed letter with a wax seal, providing clues to a larger conspiracy.                | A sealed letter with a detailed map and instructions from the mysterious figure.       |\n",
      "| 13       | Healing Potion           | A basic healing potion that restores 1d4+1 HP.                                        | A standard healing potion that restores 2d4+2 HP.                                       | A superior healing potion that restores 4d4+4 HP.                                      |\n",
      "| 14       | Bandit Camp Map          | A rough sketch of the bandit camp layout.                                             | A detailed map of the bandit camp and surrounding area.                                 | A map with hidden paths and secret entrances marked.                                   |\n",
      "| 15       | Thieves&#39; Tools           | A basic set of thieves&#39; tools, slightly worn.                                         | A well-maintained set of thieves&#39; tools.                                                | A masterwork set of thieves&#39; tools, granting +1 to Dexterity checks.                   |\n",
      "| 16       | Bandit Leader&#39;s Ring     | A simple iron ring.                                                                   | A silver ring with the bandit leader&#39;s insignia.                                        | A gold ring with a hidden compartment for poison or small items.                       |\n",
      "| 17       | Spellbook                | A small, tattered spellbook with a few basic spells.                                  | A spellbook containing several useful spells.                                           | A spellbook with rare and powerful spells.                                             |\n",
      "| 18       | Bandit Scout&#39;s Bow       | A basic shortbow, slightly worn.                                                      | A well-crafted shortbow with good balance.                                              | A finely made shortbow with a +1 to attack rolls.                                      |\n",
      "| 19       | Forest Spirit&#39;s Blessing | A faint blessing that grants +1 to Nature checks for a day.                           | A blessing that grants +1 to all saving throws for a day.                               | A powerful blessing that grants +2 to all saving throws for a day.                     |\n",
      "| 20       | Hidden Treasure Chest    | A small chest with 50 gp worth of coins and trinkets.                                 | A medium chest with 100 gp worth of coins, gems, and a minor magical item.              | A large chest with 200 gp worth of coins, gems, and a valuable magical item.           |\n",
      "\n",
      "This rolltable provides a variety of items that are thematically linked to the dungeon and offer a mix of mundane and magical rewards.\r\n"
     ]
    }
   ],
   "source": [
    "#pragma warning disable SKEXP0060\n",
    "\n",
    "var executionPlanResult = await executionPlan.InvokeAsync(kernel, new KernelArguments());\n",
    "\n",
    "Console.WriteLine(executionPlanResult.ToString());"
   ]
  },
  {
   "attachments": {},
   "cell_type": "markdown",
   "metadata": {},
   "source": [
    "Save the output to the filesystem as `five-room-dungeon.md` in the `output` directory."
   ]
  },
  {
   "cell_type": "code",
   "execution_count": 24,
   "metadata": {
    "dotnet_interactive": {
     "language": "csharp"
    },
    "polyglot_notebook": {
     "kernelName": "csharp"
    }
   },
   "outputs": [],
   "source": [
    "// Delete all contents of the directory\n",
    "var outputDirectory = Path.Combine(System.IO.Directory.GetCurrentDirectory(), \"..\", \"output\");\n",
    "\n",
    "// Replace \"&#39;\"\" with \"'\"\n",
    "var markdownContent = executionPlanResult.Replace(\"&#39;\", \"'\");\n",
    "\n",
    "// Write the variable executionPlanResults to a file\n",
    "File.WriteAllText(Path.Combine(outputDirectory, \"five-room-dungeon.md\"), markdownContent);"
   ]
  },
  {
   "cell_type": "markdown",
   "metadata": {},
   "source": [
    "## Step 6 - Codify Data\n",
    "\n",
    "The generated content will be more useful to us if we can codify it into a data format that can be consumed by other systems."
   ]
  },
  {
   "cell_type": "code",
   "execution_count": 40,
   "metadata": {},
   "outputs": [],
   "source": [
    "// Construct arguments\n",
    "var arguments = new KernelArguments() { [\"input_context\"] = markdownContent };\n",
    "\n",
    "// Run the Function called Joke\n",
    "var jsonContent5RD = await kernel.InvokeAsync(pluginFunctions[\"JSONFormatFiveRoomDungeon\"], arguments);\n",
    "var jsonContentLoot = await kernel.InvokeAsync(pluginFunctions[\"JSONFormatLootTable\"], arguments);\n",
    "var jsonContentNPCs = await kernel.InvokeAsync(pluginFunctions[\"JSONFormatNPCs\"], arguments);\n",
    "\n",
    "// Save the codified content to file.\n",
    "File.WriteAllText(Path.Combine(outputDirectory, \"five-room-dungeon.json\"), jsonContent5RD.ToString());\n",
    "File.WriteAllText(Path.Combine(outputDirectory, \"loot-table.json\"), jsonContentLoot.ToString());\n",
    "File.WriteAllText(Path.Combine(outputDirectory, \"npcs.json\"), jsonContentNPCs.ToString());"
   ]
  },
  {
   "cell_type": "markdown",
   "metadata": {},
   "source": [
    "## Step 99 - Generate a Map (Experimental)\n",
    "\n",
    "Generate a map for the five-room dungeon."
   ]
  },
  {
   "cell_type": "code",
   "execution_count": null,
   "metadata": {
    "dotnet_interactive": {
     "language": "csharp"
    },
    "polyglot_notebook": {
     "kernelName": "csharp"
    }
   },
   "outputs": [],
   "source": [
    "#pragma warning disable SKEXP0001\n",
    "\n",
    "var prompt = @\"\n",
    "You are a map maker's assistant. You need to describe a map to a map maker who will then make it.\n",
    "Given the five-room dungeon outline provided below, describe the map that the map maker should create.\n",
    "Describe only the layout of the map.\n",
    "Do not include any details about the NPCs or monsters that the party will encounter.\n",
    "Do not include any details about the five-room dungeon plot.\n",
    "\n",
    "```\n",
    "{{$input_context}}\n",
    "```\n",
    "\";\n",
    "\n",
    "var executionSettings = new OpenAIPromptExecutionSettings \n",
    "{\n",
    "    MaxTokens = 1024,\n",
    "    Temperature = 1\n",
    "};\n",
    "\n",
    "// Create a semantic function that generate a random image description.\n",
    "var genImgDescription = kernel.CreateFunctionFromPrompt(prompt, executionSettings);\n",
    "\n",
    "var random = new Random().Next(0, 200);\n",
    "var imageDescriptionResult = await kernel.InvokeAsync(genImgDescription, new() { [\"input_context\"] = executionPlanResult.ToString() });\n",
    "var imageDescription = \"A TTRPG battle map for the following five-room dungeon:\\n\\n  \" + imageDescriptionResult.ToString();\n",
    "imageDescription = imageDescription.Substring(0, imageDescription.Length > 1000 ? 1000 : imageDescription.Length);\n",
    "Console.WriteLine(\"Generated Map Description:\");\n",
    "Console.WriteLine(imageDescription);\n",
    "\n",
    "// Use DALL-E 3 to generate an image. OpenAI in this case returns a URL (though you can ask to return a base64 image)\n",
    "var imageUrl = await dallE.GenerateImageAsync(imageDescription.Trim(), 1024, 1024);\n",
    "\n",
    "await SkiaUtils.ShowImage(imageUrl, 1024, 1024);"
   ]
  }
 ],
 "metadata": {
  "kernelspec": {
   "display_name": ".NET (C#)",
   "language": "C#",
   "name": ".net-csharp"
  },
  "language_info": {
   "name": "polyglot-notebook"
  },
  "polyglot_notebook": {
   "kernelInfo": {
    "defaultKernelName": "csharp",
    "items": [
     {
      "aliases": [],
      "name": "csharp"
     }
    ]
   }
  }
 },
 "nbformat": 4,
 "nbformat_minor": 2
}
