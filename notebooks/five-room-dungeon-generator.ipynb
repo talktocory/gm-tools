{
 "cells": [
  {
   "attachments": {},
   "cell_type": "markdown",
   "metadata": {},
   "source": [
    "# Introduction to the Planner\n",
    "\n",
    "The Planner is one of the fundamental concepts of the Semantic Kernel. It makes use of the collection of plugins that have been registered to the kernel and using AI, will formulate a plan to execute a given ask.\n",
    "\n",
    "Read more about it [here](https://aka.ms/sk/concepts/planner)."
   ]
  },
  {
   "cell_type": "code",
   "execution_count": 2,
   "metadata": {
    "dotnet_interactive": {
     "language": "csharp"
    },
    "polyglot_notebook": {
     "kernelName": "csharp"
    }
   },
   "outputs": [
    {
     "data": {
      "text/html": [
       "<div><div></div><div></div><div><strong>Installed Packages</strong><ul><li><span>Microsoft.SemanticKernel, 1.11.1</span></li><li><span>Microsoft.SemanticKernel.Planners.Handlebars, 1.11.1-preview</span></li></ul></div></div>"
      ]
     },
     "metadata": {},
     "output_type": "display_data"
    }
   ],
   "source": [
    "#r \"nuget: Microsoft.SemanticKernel, 1.11.1\"\n",
    "#r \"nuget: Microsoft.SemanticKernel.Planners.Handlebars, 1.11.1-preview\"\n",
    "\n",
    "#!import config/Settings.cs\n",
    "#!import config/Utils.cs\n",
    "\n",
    "using Microsoft.SemanticKernel;\n",
    "using Microsoft.SemanticKernel.Connectors.OpenAI;\n",
    "using Kernel = Microsoft.SemanticKernel.Kernel;\n",
    "\n",
    "var builder = Kernel.CreateBuilder();\n",
    "\n",
    "// Configure AI backend used by the kernel\n",
    "var (useAzureOpenAI, model, azureEndpoint, apiKey, orgId) = Settings.LoadFromFile();\n",
    "\n",
    "if (useAzureOpenAI)\n",
    "    builder.AddAzureOpenAIChatCompletion(model, azureEndpoint, apiKey);\n",
    "else\n",
    "    builder.AddOpenAIChatCompletion(model, apiKey, orgId);\n",
    "\n",
    "var kernel = builder.Build();"
   ]
  },
  {
   "attachments": {},
   "cell_type": "markdown",
   "metadata": {},
   "source": [
    "### Setting Up Handlebars Planner\n",
    "Handlebars Planner is located in the `Microsoft.SemanticKernel.Planning.Handlebars` package."
   ]
  },
  {
   "cell_type": "code",
   "execution_count": 3,
   "metadata": {
    "dotnet_interactive": {
     "language": "csharp"
    },
    "polyglot_notebook": {
     "kernelName": "csharp"
    }
   },
   "outputs": [],
   "source": [
    "using Microsoft.SemanticKernel.Planning.Handlebars;\n",
    "\n",
    "#pragma warning disable SKEXP0060\n",
    "\n",
    "var planner = new HandlebarsPlanner();"
   ]
  },
  {
   "attachments": {},
   "cell_type": "markdown",
   "metadata": {},
   "source": [
    "### Providing plugins to the planner\n",
    "The planner needs to know what plugins are available to it. Here we'll import the `SummarizePlugin` and `WriterPlugin` we have defined on disk."
   ]
  },
  {
   "cell_type": "code",
   "execution_count": 4,
   "metadata": {
    "dotnet_interactive": {
     "language": "csharp"
    },
    "polyglot_notebook": {
     "kernelName": "csharp"
    }
   },
   "outputs": [],
   "source": [
    "var pluginsDirectory = Path.Combine(System.IO.Directory.GetCurrentDirectory(), \"..\", \"plugins\");\n",
    "\n",
    "var kernel = builder.Build();\n",
    "kernel.ImportPluginFromPromptDirectory(Path.Combine(pluginsDirectory, \"GMToolsPlugin\"));\n"
   ]
  },
  {
   "attachments": {},
   "cell_type": "markdown",
   "metadata": {},
   "source": [
    "Define your ASK. What do you want the Kernel to do?"
   ]
  },
  {
   "cell_type": "code",
   "execution_count": 5,
   "metadata": {
    "dotnet_interactive": {
     "language": "csharp"
    },
    "polyglot_notebook": {
     "kernelName": "csharp"
    }
   },
   "outputs": [
    {
     "name": "stdout",
     "output_type": "stream",
     "text": [
      "Original plan:\n",
      "\n",
      "{{!-- Step 0: Extract key values --}}\n",
      "{{set \"gameSystem\" \"Dungeons and Dragons\"}}\n",
      "{{set \"partyContext\" \"A party of 4 level 5 characters consisting of a fighter, a wizard, a cleric, and a rogue, on a quest to retrieve a magical artifact from a bandit camp in a forest. The dungeon should be of medium difficulty.\"}}\n",
      "{{set \"roomNumbers\" (array \"1\" \"2\" \"3\" \"4\" \"5\")}}\n",
      "\n",
      "{{!-- Step 1: Generate the Five Room Dungeon outline --}}\n",
      "{{set \"dungeonOutline\" (GMToolsPlugin-FiveRoomDungeon game_system=gameSystem input_context=partyContext)}}\n",
      "\n",
      "{{!-- Step 2: Generate descriptive texts for each room --}}\n",
      "{{#each roomNumbers}}\n",
      "### Room #{{this}}\n",
      "{{set \"roomDescription\" (GMToolsPlugin-RoomDescription input_context=dungeonOutline room_number=this)}}\n",
      "{{json roomDescription}}\n",
      "{{/each}}\n"
     ]
    }
   ],
   "source": [
    "#pragma warning disable SKEXP0060\n",
    "\n",
    "var ask = @\"\n",
    "You are a game master for a Dungeons and Dragons campaign.\n",
    "Please create a five-room dungeon for a party of 4 level 5 characters.\n",
    "The five-room dungeon should be of medium difficulty and take place in a forest.\n",
    "The party consists of a fighter, a wizard, a cleric, and a rogue.\n",
    "The party is on a quest to retrieve a magical artifact from a bandit camp.\n",
    "Ensure that the output includes:\n",
    "* the five-room dungeon outline with appropriate markdown headers, and\n",
    "* descriptive text for each room with appropriate markdown headers.\n",
    "\";\n",
    "var originalPlan = await planner.CreatePlanAsync(kernel, ask);\n",
    "\n",
    "Console.WriteLine(\"Original plan:\\n\");\n",
    "Console.WriteLine(originalPlan);"
   ]
  },
  {
   "attachments": {},
   "cell_type": "markdown",
   "metadata": {},
   "source": [
    "As you can see in the above plan, the Planner has taken the user's ask and converted it into a Plan object detailing how the AI would go about solving this task.\n",
    "\n",
    "It makes use of the plugins that the Kernel has available to it and determines which functions to call in order to fulfill the user's ask."
   ]
  },
  {
   "attachments": {},
   "cell_type": "markdown",
   "metadata": {},
   "source": [
    "Let's also define an inline plugin and have it be available to the Planner.\n",
    "Be sure to give it a function name and plugin name."
   ]
  },
  {
   "attachments": {},
   "cell_type": "markdown",
   "metadata": {},
   "source": [
    "### Executing the plans\n",
    "\n",
    "Now that we have different plans, let's try to execute them! The Kernel can execute the plan using RunAsync."
   ]
  },
  {
   "cell_type": "code",
   "execution_count": 26,
   "metadata": {
    "dotnet_interactive": {
     "language": "csharp"
    },
    "polyglot_notebook": {
     "kernelName": "csharp"
    }
   },
   "outputs": [
    {
     "name": "stdout",
     "output_type": "stream",
     "text": [
      "Original Plan results:\n",
      "\n",
      "Five Room Dungeon Outline: ## Room 1: Entrance and Guardian\n",
      "* **Objective:** Create an initial challenge.\n",
      "* **Design:** The party arrives at the edge of the bandit camp, which is hidden deep within the forest. The entrance is guarded by two bandit sentries and a trained wolf. The sentries are alert and have set up a rudimentary alarm system using tripwires and bells.\n",
      "\n",
      "**Description:** The dense forest opens up to a small clearing where the bandit camp is located. The camp is surrounded by a makeshift wooden palisade, with a single entrance guarded by two bandits and a wolf. The air is tense, and the sounds of the forest are muted by the presence of danger.\n",
      "\n",
      "## Room 2: Puzzle or Roleplaying Challenge\n",
      "* **Objective:** Engage players with non-combat interaction.\n",
      "* **Design:** Inside the camp, the party encounters a bandit who is willing to negotiate. This bandit, disillusioned with the bandit leader, offers to help the party in exchange for safe passage out of the forest. The party must decide whether to trust the bandit and how to handle the situation diplomatically.\n",
      "\n",
      "**Description:** The camp is bustling with activity. In a secluded corner, a bandit with a wary expression approaches the party. He speaks in hushed tones, offering information about the camp&#39;s layout and the location of the artifact in exchange for his freedom. The party must navigate this delicate negotiation without alerting the other bandits.\n",
      "\n",
      "## Room 3: Trick or Setback\n",
      "* **Objective:** Introduce a complication or twist.\n",
      "* **Design:** As the party makes their way through the camp, they trigger a hidden trap set by the bandit leader. A net drops from the trees, ensnaring the party and alerting nearby bandits. The party must quickly free themselves and fend off the attacking bandits.\n",
      "\n",
      "**Description:** The path through the camp seems clear, but suddenly, a net drops from above, entangling the party. The sound of the trap triggers an alarm, and bandits rush to the scene, weapons drawn. The party must act swiftly to escape the net and defend themselves against the ambush.\n",
      "\n",
      "## Room 4: Climax, Big Battle, or Conflict\n",
      "* **Objective:** Present the main confrontation.\n",
      "* **Design:** The party reaches the bandit leader&#39;s tent, where the magical artifact is kept. The bandit leader, a formidable fighter with a few loyal henchmen, confronts the party. A fierce battle ensues, testing the party&#39;s combat skills and teamwork.\n",
      "\n",
      "**Description:** The bandit leader&#39;s tent is larger and more ornate than the others, with the magical artifact displayed on a pedestal. The leader, a burly and scarred warrior, stands ready with his henchmen. The air crackles with tension as the party prepares for the final showdown. The battle is intense, with the leader using both brute strength and cunning tactics to challenge the party.\n",
      "\n",
      "## Room 5: Reward, Revelation, Plot Twist\n",
      "* **Objective:** Resolve the dungeon with a satisfying conclusion.\n",
      "* **Design:** After defeating the bandit leader, the party claims the magical artifact. However, they discover a hidden compartment in the leader&#39;s tent containing a letter revealing a larger conspiracy involving a powerful noble who hired the bandits. This revelation sets the stage for the next part of their adventure.\n",
      "\n",
      "**Description:** The bandit leader lies defeated, and the party retrieves the magical artifact. As they search the tent, they find a hidden compartment containing a sealed letter. The letter details a plot orchestrated by a powerful noble who seeks to use the artifact for nefarious purposes. The party now has a new lead and a greater mission to uncover and thwart the noble&#39;s plans. The forest seems a little less dark as they prepare to continue their quest.\\n\\nRoom 1 Description: ## Room 1: Narrative\n",
      "\n",
      "As you push through the dense underbrush, the forest suddenly opens up into a small clearing. The air here is thick with tension, and the usual sounds of the forest—chirping birds, rustling leaves—seem eerily muted. Before you stands a makeshift wooden palisade, its rough-hewn logs forming a crude but effective barrier. The only entrance is a narrow gap, heavily guarded.\n",
      "\n",
      "Two bandit sentries stand at attention, their eyes scanning the surroundings with practiced vigilance. One is a burly man with a thick beard, his mismatched armor clinking softly as he shifts his weight. He leans casually against a post, but his eyes are sharp, missing nothing. The other sentry is a wiry figure with a scar running down his cheek, pacing back and forth with restless energy. His gaze darts from shadow to shadow, never lingering in one place for too long.\n",
      "\n",
      "Beside them, a large, menacing wolf sits on its haunches, its ears perked and nose twitching as it sniffs the air. The wolf&#39;s fur is a mottled gray, blending seamlessly with the shadows of the forest, and its eyes gleam with a predatory intelligence. A low growl rumbles from its throat, a clear warning to any who might dare approach.\n",
      "\n",
      "Strung between the trees and the palisade are thin tripwires, barely visible in the dim light. Small bells are attached to these wires, ready to jingle at the slightest disturbance and alert the camp to any intruders. The sentries seem confident, but not complacent; they know the dangers of their post and are prepared to respond to any threat.\n",
      "\n",
      "The path before you is fraught with peril. Will you attempt to sneak past the sentries, create a distraction, or engage them in combat? The choice is yours, but tread carefully—one wrong move could spell disaster.\\n\\nRoom 2 Description: ## Room 2: Narrative\n",
      "\n",
      "As you step deeper into the bandit camp, the atmosphere shifts from tense vigilance to a bustling, chaotic energy. Makeshift tents and ramshackle huts are scattered around, with bandits moving about, sharpening weapons, and tending to their gear. The air is thick with the smell of smoke from cooking fires and the earthy scent of damp wood. The sounds of rough laughter and clinking metal fill the air, creating a cacophony that contrasts sharply with the earlier silence of the forest.\n",
      "\n",
      "In a secluded corner of the camp, away from the main activity, you notice a bandit with a wary expression. His eyes dart around nervously as he approaches you, his movements cautious and deliberate. He is a lean man with unkempt hair and a scar running across his cheek, a testament to his rough life. He speaks in hushed tones, his voice barely above a whisper, &quot;I don&#39;t want any trouble. I can help you, but you have to promise me safe passage out of here.&quot;\n",
      "\n",
      "He glances over his shoulder, ensuring no one else is listening, before continuing, &quot;The leader... he&#39;s gone mad with power. I can tell you where the artifact is, how to avoid the traps, but you have to get me out of this place.&quot; His eyes plead with you, a mix of desperation and hope.\n",
      "\n",
      "The camp&#39;s activity continues around you, oblivious to the quiet negotiation taking place. The decision lies before you: trust this disillusioned bandit and navigate the delicate diplomacy, or find another way to proceed without alerting the rest of the camp. The choice you make here could shape the rest of your journey through the bandit stronghold.\\n\\nRoom 3 Description: ## Room 3: Narrative\n",
      "\n",
      "As you cautiously navigate through the camp, the atmosphere seems deceptively calm. The path ahead appears clear, with only the rustling of leaves and distant murmurs of bandit conversations breaking the silence. The ground beneath your feet is uneven, covered in a mix of dirt and fallen leaves, and the air carries the faint scent of wood smoke and damp earth.\n",
      "\n",
      "Suddenly, without warning, a net drops from the canopy above, ensnaring you and your companions in its coarse, tangled ropes. The net is heavy and smells of old, musty fibers, making it difficult to move. The abruptness of the trap sends a jolt of adrenaline through your veins, and the sound of the net hitting the ground triggers a series of bells and clattering noises.\n",
      "\n",
      "Within moments, the camp erupts into chaos. Bandits, alerted by the alarm, rush towards you with weapons drawn, their faces twisted in malicious glee. The clang of metal and the shouts of the bandits fill the air, creating a cacophony of impending danger. You can see the glint of their blades and the determined expressions on their faces as they close in.\n",
      "\n",
      "The net constricts your movements, its rough texture chafing against your skin. You must act swiftly to free yourselves from this predicament. The bandits are closing in fast, and you can feel the urgency of the situation pressing down on you. Every second counts as you struggle to escape the net and prepare to defend yourselves against the oncoming assault.\\n\\nRoom 4 Description: ## Room 4: Narrative\n",
      "\n",
      "As you approach the bandit leader&#39;s tent, the atmosphere grows thick with anticipation. The tent itself is larger and more ornate than the others, its canvas walls adorned with crude but intimidating symbols. The entrance flaps are drawn back, revealing the dimly lit interior where the magical artifact rests on a pedestal, its glow casting eerie shadows.\n",
      "\n",
      "Standing before the artifact is the bandit leader, a burly and scarred warrior whose presence exudes authority and menace. His eyes lock onto yours with a mixture of contempt and challenge. Clad in piecemeal armor that has clearly seen many battles, he grips a massive, wickedly sharp sword in one hand. Flanking him are his loyal henchmen, each one a seasoned fighter in their own right, their weapons at the ready.\n",
      "\n",
      "The air inside the tent is stifling, filled with the scent of sweat, leather, and the faint metallic tang of blood. The flickering light from a few scattered torches casts long, dancing shadows, making the space feel even more claustrophobic. You can hear the distant sounds of the camp outside, but they seem muted, as if the tent itself is a world apart.\n",
      "\n",
      "The bandit leader&#39;s voice breaks the tense silence, a low growl that reverberates through the space. &quot;So, you&#39;ve made it this far. Impressive. But this is where your journey ends.&quot; With a swift motion, he signals his henchmen to attack, and the battle begins.\n",
      "\n",
      "The clash of steel and the shouts of combat fill the tent, creating a chaotic symphony of violence. The bandit leader fights with a brutal efficiency, using both his immense strength and cunning tactics to keep you on the defensive. His henchmen are no less formidable, each one a skilled combatant who fights with a desperate ferocity.\n",
      "\n",
      "Every move you make is critical, every decision a matter of life and death. The magical artifact&#39;s glow pulses rhythmically, almost as if it is watching the battle unfold, waiting to see who will emerge victorious. The tension is palpable, the stakes higher than ever as you and your companions fight for your lives and the fate of the artifact.\n",
      "\n",
      "This is the climax of your journey through the bandit camp, a final test of your combat skills and teamwork. The outcome of this battle will determine not only your survival but also the future of the quest that brought you here.\\n\\nRoom 5 Description: ## Room 5: Narrative\n",
      "\n",
      "The bandit leader lies defeated at your feet, his once imposing figure now still and lifeless. The tent, which moments ago was a battleground, is now eerily quiet, save for the distant rustling of the forest outside. The air inside is thick with the scent of sweat and blood, mingling with the earthy aroma of the forest floor.\n",
      "\n",
      "As you catch your breath, your eyes are drawn to the magical artifact, now within your grasp. It rests on a simple wooden pedestal, its surface shimmering with an otherworldly light. The artifact pulses gently, as if acknowledging your presence and the trials you’ve overcome to reach it.\n",
      "\n",
      "But your victory is not yet complete. A thorough search of the tent reveals a hidden compartment beneath a loose floorboard. Inside, you find a sealed letter, its wax seal bearing the insignia of a powerful noble. The parchment is old but well-preserved, and as you break the seal and unfurl the letter, the weight of its contents becomes clear.\n",
      "\n",
      "The letter details a sinister plot orchestrated by the noble, who hired the bandits to retrieve the artifact for his own dark purposes. The words on the page hint at a larger conspiracy, one that threatens not just the forest, but the entire realm. The noble’s ambitions are vast, and his resources are formidable.\n",
      "\n",
      "As you absorb this revelation, the forest outside seems to grow quieter, as if holding its breath in anticipation of the challenges to come. The path ahead is fraught with danger, but also with the promise of greater rewards and deeper mysteries. The artifact in your possession is a key, not just to power, but to uncovering the truth behind the noble’s machinations.\n",
      "\n",
      "With the artifact secured and the letter in hand, you prepare to leave the bandit camp. The forest, once a place of peril, now feels like the starting point of a grander adventure. The shadows seem less menacing, and the path ahead, though uncertain, is illuminated by the knowledge you’ve gained and the resolve you’ve forged.\n",
      "\n",
      "As you step out of the tent, the forest canopy above parts slightly, allowing a beam of sunlight to pierce through, casting a hopeful glow on your path. The journey is far from over, but you are ready to face whatever lies ahead, armed with the artifact, the letter, and the unyielding spirit of adventurers who have triumphed over their first great challenge.\n"
     ]
    }
   ],
   "source": [
    "#pragma warning disable SKEXP0060\n",
    "\n",
    "var originalPlanResult = await originalPlan.InvokeAsync(kernel, new KernelArguments());\n",
    "\n",
    "Console.WriteLine(\"Original Plan results:\\n\");\n",
    "Console.WriteLine(originalPlanResult.ToString());"
   ]
  },
  {
   "attachments": {},
   "cell_type": "markdown",
   "metadata": {},
   "source": [
    "Now lets execute and print the new plan:"
   ]
  }
 ],
 "metadata": {
  "kernelspec": {
   "display_name": ".NET (C#)",
   "language": "C#",
   "name": ".net-csharp"
  },
  "language_info": {
   "name": "polyglot-notebook"
  },
  "polyglot_notebook": {
   "kernelInfo": {
    "defaultKernelName": "csharp",
    "items": [
     {
      "aliases": [],
      "name": "csharp"
     }
    ]
   }
  }
 },
 "nbformat": 4,
 "nbformat_minor": 2
}
