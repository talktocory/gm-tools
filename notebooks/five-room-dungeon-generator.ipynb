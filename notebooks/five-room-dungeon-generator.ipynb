{
 "cells": [
  {
   "attachments": {},
   "cell_type": "markdown",
   "metadata": {},
   "source": [
    "# Five-Room Dungeon Generator\n",
    "\n",
    "The Five-Room Dungeon Generator provides GMs with a way to quickly and easily generate a custom five-room dungeon that can be incorporated into their campaign.  Simply provide the notebook with a concept and the notebook will do the rest.\n",
    "\n",
    "> [!IMPORTANT]\n",
    "> You will need an [.NET 8 SDK](https://dotnet.microsoft.com/en-us/download/dotnet/8.0) and [Polyglot](https://marketplace.visualstudio.com/items?itemName=ms-dotnettools.dotnet-interactive-vscode) to get started with this notebook using .NET Interactive."
   ]
  },
  {
   "cell_type": "markdown",
   "metadata": {},
   "source": [
    "## Step 1 - Define Your Concept\n",
    "\n",
    "Define your five-room dungeon concept."
   ]
  },
  {
   "cell_type": "code",
   "execution_count": 83,
   "metadata": {
    "dotnet_interactive": {
     "language": "csharp"
    },
    "polyglot_notebook": {
     "kernelName": "csharp"
    }
   },
   "outputs": [],
   "source": [
    "var concept = @\"\n",
    "You are a game master for a Dungeons and Dragons campaign.\n",
    "Please create a five-room dungeon for a party of 5 level 3 characters.\n",
    "The five-room dungeon should be of medium difficulty and take place in the town of Hammersend.\n",
    "The party must deal with a powerful cult that has taken control of the town of Hammersend.\n",
    "The cult is comprised of acolytes and clerics who worship ancient sea witches.\n",
    "The cult has formed a partnership with one of the player's brothers, who has been corrupted by the cult's influence.\n",
    "The party must infiltrate the cult's evil lair, an abandoned lighthouse.\n",
    "The cult will summon a tentacle monster to destroy the party and the town if they are not stopped.\n",
    "\n",
    "Ensure that the output includes:\n",
    "* the five-room dungeon outline, \n",
    "* descriptive text for each room in the outline, \n",
    "* a list of NPCs and monsters that the party will encounter, \n",
    "* a rolltable of possible loot that the party can find.\n",
    "\n",
    "Output options:\n",
    "* Please output the generated information into a single consolidated markdown document.\n",
    "* please do not format results into json, csv, or other structured data formats\n",
    "\";"
   ]
  },
  {
   "cell_type": "markdown",
   "metadata": {},
   "source": [
    "## Step 2 - Initial Configuration"
   ]
  },
  {
   "cell_type": "markdown",
   "metadata": {},
   "source": [
    "\n",
    "Choose whether you wish to use the OpenAI or Azure OpenAI service."
   ]
  },
  {
   "cell_type": "code",
   "execution_count": 98,
   "metadata": {
    "dotnet_interactive": {
     "language": "csharp"
    },
    "polyglot_notebook": {
     "kernelName": "csharp"
    }
   },
   "outputs": [],
   "source": [
    "bool useAzureOpenAI = false;"
   ]
  },
  {
   "cell_type": "markdown",
   "metadata": {},
   "source": [
    "Execute the following code which will ask a few questions and save the settings to a local\n",
    "`settings.json` configuration file, under the [config](config) folder. You can\n",
    "also edit the file manually if you prefer. **Please keep the file safe.**"
   ]
  },
  {
   "cell_type": "code",
   "execution_count": 99,
   "metadata": {
    "dotnet_interactive": {
     "language": "csharp"
    },
    "polyglot_notebook": {
     "kernelName": "csharp"
    }
   },
   "outputs": [
    {
     "name": "stdout",
     "output_type": "stream",
     "text": [
      "Settings: OK: AI model configured [config/settings.json]\n",
      "Settings: OK: API key configured [config/settings.json]\n"
     ]
    }
   ],
   "source": [
    "#!import config/Settings.cs\n",
    "\n",
    "await Settings.AskAzureEndpoint(useAzureOpenAI);\n",
    "await Settings.AskModel(useAzureOpenAI);\n",
    "await Settings.AskApiKey(useAzureOpenAI);\n",
    "\n",
    "// Uncomment this if you're using OpenAI and need to set the Org Id\n",
    "await Settings.AskOrg(useAzureOpenAI);"
   ]
  },
  {
   "cell_type": "markdown",
   "metadata": {},
   "source": [
    "If you want to reset the configuration and start again, please uncomment and run the code below.\n",
    "You can also edit the [config/settings.json](config/settings.json) manually if you prefer."
   ]
  },
  {
   "cell_type": "code",
   "execution_count": 100,
   "metadata": {
    "dotnet_interactive": {
     "language": "csharp"
    },
    "polyglot_notebook": {
     "kernelName": "csharp"
    }
   },
   "outputs": [],
   "source": [
    "#!import config/Settings.cs\n",
    "\n",
    "// Uncomment this line to reset your settings and delete the file from disk.\n",
    "// Settings.Reset();"
   ]
  },
  {
   "cell_type": "markdown",
   "metadata": {},
   "source": [
    "## Step 3 - Instantiate Services\n",
    "\n",
    "Set up the Microsoft Semantic AI Kernel that will use for generative operations."
   ]
  },
  {
   "cell_type": "code",
   "execution_count": 101,
   "metadata": {
    "dotnet_interactive": {
     "language": "csharp"
    },
    "polyglot_notebook": {
     "kernelName": "csharp"
    }
   },
   "outputs": [
    {
     "data": {
      "text/html": [
       "<div><div></div><div></div><div><strong>Installed Packages</strong><ul><li><span>Microsoft.SemanticKernel, 1.11.1</span></li><li><span>Microsoft.SemanticKernel.Planners.Handlebars, 1.11.1-preview</span></li><li><span>SkiaSharp, 2.88.3</span></li><li><span>System.Numerics.Tensors, 8.0.0</span></li></ul></div></div>"
      ]
     },
     "metadata": {},
     "output_type": "display_data"
    }
   ],
   "source": [
    "\n",
    "#r \"nuget: Microsoft.SemanticKernel, 1.11.1\"\n",
    "#r \"nuget: Microsoft.SemanticKernel.Planners.Handlebars, 1.11.1-preview\"\n",
    "#r \"nuget: System.Numerics.Tensors, 8.0.0\"\n",
    "#r \"nuget: SkiaSharp, 2.88.3\"\n",
    "\n",
    "#!import config/Settings.cs\n",
    "#!import config/Utils.cs\n",
    "#!import config/SkiaUtils.cs\n",
    "\n",
    "using Microsoft.SemanticKernel;\n",
    "using Microsoft.SemanticKernel.TextToImage;\n",
    "using Microsoft.SemanticKernel.Embeddings;\n",
    "using Microsoft.SemanticKernel.Connectors.OpenAI;\n",
    "using System.Numerics.Tensors;\n",
    "\n",
    "#pragma warning disable SKEXP0001, SKEXP0010\n",
    "\n",
    "var builder = Microsoft.SemanticKernel.Kernel.CreateBuilder();\n",
    "\n",
    "// Configure AI backend used by the kernel\n",
    "var (useAzureOpenAI, model, azureEndpoint, apiKey, orgId) = Settings.LoadFromFile();\n",
    "\n",
    "if (useAzureOpenAI)\n",
    "{\n",
    "    builder.AddAzureOpenAITextEmbeddingGeneration(\"text-embedding-ada-002\", azureEndpoint, apiKey);\n",
    "    builder.AddAzureOpenAIChatCompletion(model, azureEndpoint, apiKey);\n",
    "    builder.AddAzureOpenAITextToImage(\"dall-e-3\", azureEndpoint, apiKey);\n",
    "}\n",
    "    \n",
    "else\n",
    "{\n",
    "    builder.AddOpenAITextEmbeddingGeneration(\"text-embedding-ada-002\", apiKey, orgId);\n",
    "    builder.AddOpenAIChatCompletion(model, apiKey, orgId);\n",
    "    builder.AddOpenAITextToImage(apiKey, orgId);\n",
    "}\n",
    "\n",
    "var kernel = builder.Build();\n",
    "\n",
    "// Get AI service instance used to generate images\n",
    "var dallE = kernel.GetRequiredService<ITextToImageService>();\n",
    "\n",
    "// Get AI service instance used to extract embedding from a text\n",
    "var textEmbedding = kernel.GetRequiredService<ITextEmbeddingGenerationService>();"
   ]
  },
  {
   "cell_type": "markdown",
   "metadata": {},
   "source": [
    "Import custom plugins from plugin directory."
   ]
  },
  {
   "cell_type": "code",
   "execution_count": 102,
   "metadata": {
    "dotnet_interactive": {
     "language": "csharp"
    },
    "polyglot_notebook": {
     "kernelName": "csharp"
    }
   },
   "outputs": [],
   "source": [
    "var pluginsDirectory = Path.Combine(System.IO.Directory.GetCurrentDirectory(), \"..\", \"plugins\");\n",
    "\n",
    "var kernel = builder.Build();\n",
    "var pluginFunctions = kernel.ImportPluginFromPromptDirectory(Path.Combine(pluginsDirectory, \"FiveRoomDungeonPlugin\"));"
   ]
  },
  {
   "attachments": {},
   "cell_type": "markdown",
   "metadata": {},
   "source": [
    "Set up the Handlebars Planner that will be used for orchestrating generative operations."
   ]
  },
  {
   "cell_type": "code",
   "execution_count": 103,
   "metadata": {
    "dotnet_interactive": {
     "language": "csharp"
    },
    "polyglot_notebook": {
     "kernelName": "csharp"
    }
   },
   "outputs": [],
   "source": [
    "using Microsoft.SemanticKernel.Planning.Handlebars;\n",
    "\n",
    "#pragma warning disable SKEXP0060\n",
    "\n",
    "var planner = new HandlebarsPlanner();"
   ]
  },
  {
   "cell_type": "markdown",
   "metadata": {},
   "source": [
    "## Step 4 - Develop an Execution Plan\n",
    "\n",
    "Have the planner generate an executiong plan based on the provided concept and kernel plugins."
   ]
  },
  {
   "cell_type": "code",
   "execution_count": 93,
   "metadata": {
    "dotnet_interactive": {
     "language": "csharp"
    },
    "polyglot_notebook": {
     "kernelName": "csharp"
    }
   },
   "outputs": [
    {
     "name": "stdout",
     "output_type": "stream",
     "text": [
      "{{!-- Step 0: Extract key values --}}\n",
      "{{set \"gameSystem\" \"Dungeons and Dragons\"}}\n",
      "{{set \"inputContext\" \"The town of Hammersend has been taken over by a cult that worships ancient sea witches. This cult consists of acolytes and clerics and has influenced one of the player's brothers. The lair is an abandoned lighthouse where they plan to summon a tentacle monster to destroy the town if not stopped.\"}}\n",
      "\n",
      "{{!-- Step 1: Generate a five-room dungeon outline --}}\n",
      "{{set \"dungeonOutline\" (FiveRoomDungeonPlugin-FiveRoomDungeon game_system=gameSystem input_context=inputContext)}}\n",
      "\n",
      "{{!-- Step 2: Generate descriptive text for each room --}}\n",
      "{{set \"descriptionRoom1\" (FiveRoomDungeonPlugin-RoomDescription room_number=\"1\" input_context=dungeonOutline)}}\n",
      "{{set \"descriptionRoom2\" (FiveRoomDungeonPlugin-RoomDescription room_number=\"2\" input_context=dungeonOutline)}}\n",
      "{{set \"descriptionRoom3\" (FiveRoomDungeonPlugin-RoomDescription room_number=\"3\" input_context=dungeonOutline)}}\n",
      "{{set \"descriptionRoom4\" (FiveRoomDungeonPlugin-RoomDescription room_number=\"4\" input_context=dungeonOutline)}}\n",
      "{{set \"descriptionRoom5\" (FiveRoomDungeonPlugin-RoomDescription room_number=\"5\" input_context=dungeonOutline)}}\n",
      "\n",
      "{{!-- Step 3: Generate a list of NPCs and monsters --}}\n",
      "{{set \"npcList\" (FiveRoomDungeonPlugin-NPC input_context=dungeonOutline)}}\n",
      "\n",
      "{{!-- Step 4: Generate a rolltable of possible loot --}}\n",
      "{{set \"lootTable\" (FiveRoomDungeonPlugin-LootTable input_context=dungeonOutline)}}\n",
      "\n",
      "{{!-- Step 5: Output the consolidated markdown document --}}\n",
      "# Five-Room Dungeon: Infiltrating the Cult of Ancient Sea Witches\n",
      "\n",
      "## Dungeon Outline\n",
      "{{dungeonOutline}}\n",
      "\n",
      "## Room Descriptions\n",
      "### Room #1: Entrance\n",
      "{{descriptionRoom1}}\n",
      "\n",
      "### Room #2: Puzzle or Roleplaying Challenge\n",
      "{{descriptionRoom2}}\n",
      "\n",
      "### Room #3: Trick or Setback\n",
      "{{descriptionRoom3}}\n",
      "\n",
      "### Room #4: Climax\n",
      "{{descriptionRoom4}}\n",
      "\n",
      "### Room #5: Reward or Revelation\n",
      "{{descriptionRoom5}}\n",
      "\n",
      "## NPCs and Monsters\n",
      "{{npcList}}\n",
      "\n",
      "## Loot Table\n",
      "{{lootTable}}\r\n"
     ]
    }
   ],
   "source": [
    "#pragma warning disable SKEXP0060\n",
    "\n",
    "// Generate a plan for the concept\n",
    "var executionPlan  = await planner.CreatePlanAsync(kernel, concept);\n",
    "Console.WriteLine(executionPlan);"
   ]
  },
  {
   "attachments": {},
   "cell_type": "markdown",
   "metadata": {},
   "source": [
    "## Step 5 - Execute the Plan\n",
    "Execute the plan and generate the five-room dungeon outline and room descriptions."
   ]
  },
  {
   "cell_type": "code",
   "execution_count": 94,
   "metadata": {
    "dotnet_interactive": {
     "language": "csharp"
    },
    "polyglot_notebook": {
     "kernelName": "csharp"
    }
   },
   "outputs": [
    {
     "name": "stdout",
     "output_type": "stream",
     "text": [
      "# Five-Room Dungeon: Infiltrating the Cult of Ancient Sea Witches\n",
      "\n",
      "## Dungeon Outline\n",
      "## Room 1: Entrance and Guardian\n",
      "* **Objective:** Create an initial challenge.\n",
      "* **Design:** The entrance to the abandoned lighthouse is guarded by two cultist acolytes and a magically sealed door. The acolytes are chanting an incantation that maintains the seal. Players must either defeat the acolytes or find a way to disrupt their chant to break the seal and gain entry.\n",
      "\n",
      "## Room 2: Puzzle or Roleplaying Challenge\n",
      "* **Objective:** Engage players with non-combat interaction.\n",
      "* **Design:** Inside the lighthouse, the players find a room filled with ancient nautical charts and a large, intricate model of the sea. To proceed, they must solve a puzzle involving the placement of miniature ships on the model to match a specific constellation pattern. Alternatively, they could find a hidden journal that provides clues to the correct arrangement.\n",
      "\n",
      "## Room 3: Trick or Setback\n",
      "* **Objective:** Introduce a complication or twist.\n",
      "* **Design:** After solving the puzzle, the players enter a room that appears to be a storage area. However, it is a trap set by the cult. The floor is rigged to collapse, dropping the players into a water-filled chamber below. They must quickly find a way to escape before the room floods completely, either by solving a secondary puzzle or finding a hidden lever.\n",
      "\n",
      "## Room 4: Climax, Big Battle, or Conflict\n",
      "* **Objective:** Present the main confrontation.\n",
      "* **Design:** The players reach the top of the lighthouse where the cult leader, a powerful cleric, is performing a ritual to summon the tentacle monster. The player&#39;s brother is present, seemingly under a spell. The players must engage in a fierce battle against the cult leader and his elite guards while trying to break the spell on the brother. The ritual is nearly complete, adding urgency to the fight.\n",
      "\n",
      "## Room 5: Reward, Revelation, Plot Twist\n",
      "* **Objective:** Resolve the dungeon with a satisfying conclusion.\n",
      "* **Design:** Upon defeating the cult leader and stopping the ritual, the players find a hidden chamber containing the cult&#39;s treasures and ancient tomes. Among the treasures is a powerful artifact that can aid them in future quests. Additionally, they discover a letter revealing that the cult was only a small part of a larger conspiracy involving other sea witch cults across the land, setting the stage for future adventures. The player&#39;s brother, now freed from the spell, provides valuable information about the cult&#39;s operations and pledges to help the party in their quest.\n",
      "\n",
      "## Room Descriptions\n",
      "### Room #1: Entrance\n",
      "As you approach the entrance to the abandoned lighthouse, the air grows thick with an eerie, almost palpable tension. The structure looms ahead, its once-proud silhouette now a crumbling relic against the stormy sky. Two cultist acolytes stand vigil at the base of the lighthouse, their dark robes fluttering in the wind. They chant in unison, their voices weaving a haunting melody that reverberates through the air, maintaining the magical seal on the heavy, iron-bound door behind them.\n",
      "\n",
      "The acolytes&#39; faces are obscured by deep hoods, but the intensity of their focus is unmistakable. One acolyte, a tall figure with skeletal hands emerging from his sleeves, clutches a weathered tome, his fingers tracing arcane symbols in the air. The other, shorter and more robust, holds a staff adorned with flickering, ghostly lights that pulse in rhythm with their chant.\n",
      "\n",
      "The scent of salt and decay mingles with the acrid tang of magic, creating a nauseating blend that assaults your senses. The ground beneath your feet is littered with broken shells and seaweed, remnants of the ocean&#39;s relentless assault on the lighthouse&#39;s foundation. The wind carries the distant cries of seabirds, their calls echoing like mournful wails.\n",
      "\n",
      "To gain entry, you must either confront these devoted guardians or find a way to disrupt their incantation. The seal on the door shimmers with a faint, otherworldly glow, a testament to the power of their spell. The challenge before you is clear: break the seal, and the secrets of the lighthouse will be yours to uncover.\n",
      "\n",
      "### Room #2: Puzzle or Roleplaying Challenge\n",
      "As you step into the lighthouse, the air is thick with the scent of salt and aged parchment. The room before you is dimly lit by a few flickering lanterns, casting long shadows that dance across the walls. The centerpiece of the room is a large, intricately detailed model of the sea, complete with miniature ships and tiny islands. Surrounding the model are ancient nautical charts, some pinned to the walls, others strewn across tables, their edges frayed and yellowed with age.\n",
      "\n",
      "The model itself is a marvel of craftsmanship, with each ship meticulously carved and painted. The sea is represented by a shimmering blue surface, and as you look closer, you notice faint lines forming a constellation pattern. It becomes clear that the placement of the ships is crucial to unlocking the next part of your journey.\n",
      "\n",
      "The room is eerily quiet, save for the distant sound of waves crashing against the lighthouse&#39;s base. The air is cool and carries a faint, musty odor, hinting at the room&#39;s long abandonment. As you move closer to the model, you notice a hidden journal tucked away on a nearby shelf. Its leather cover is worn, and the pages within might hold the key to solving the puzzle before you.\n",
      "\n",
      "The atmosphere is one of quiet anticipation, as if the room itself is holding its breath, waiting for you to uncover its secrets. The challenge is clear: arrange the ships to match the constellation pattern, or delve into the journal for clues. The fate of your quest hinges on your ability to decipher this ancient maritime enigma.\n",
      "\n",
      "### Room #3: Trick or Setback\n",
      "As you step into the next room, the air feels damp and cool, a stark contrast to the dry, musty atmosphere of the previous chamber. The room is dimly lit by flickering torches mounted on the stone walls, casting eerie shadows that dance across the space. At first glance, it appears to be a simple storage area, with wooden crates and barrels stacked haphazardly around the room. The scent of saltwater and mildew hangs heavy in the air, mingling with the faint, metallic tang of rust.\n",
      "\n",
      "However, something feels off. The floor beneath your feet creaks ominously with each step, and a closer inspection reveals subtle cracks running through the wooden planks. Suddenly, with a loud snap, the floor gives way, and you find yourselves plummeting into a hidden chamber below.\n",
      "\n",
      "You land with a splash in a water-filled room, the cold liquid quickly rising around you. The walls are slick with algae, and the sound of rushing water echoes ominously, indicating that the chamber is rapidly flooding. Panic sets in as you realize you must act quickly to avoid being submerged.\n",
      "\n",
      "In the dim light, you can make out a series of strange symbols carved into the walls, each glowing faintly with an otherworldly light. There are also several levers and mechanisms scattered around the room, some partially submerged. The water continues to rise, lapping at your waist now, and you know you must solve this secondary puzzle or find a hidden lever to escape before the chamber fills completely.\n",
      "\n",
      "The urgency of the situation heightens your senses, and you can hear the distant sound of water gushing in from unseen sources. The cold water numbs your limbs, making every movement feel sluggish. The room&#39;s atmosphere is tense, filled with the sound of your own frantic breaths and the relentless rise of the water. Time is running out, and your survival depends on your ability to think quickly and act decisively.\n",
      "\n",
      "### Room #4: Climax\n",
      "As you ascend the spiral staircase, the air grows colder and the sound of chanting becomes louder, echoing off the stone walls. You reach the top of the lighthouse, stepping into a large, circular chamber bathed in an eerie, flickering light. The source of the light is a massive, glowing sigil inscribed on the floor, pulsating with dark energy. \n",
      "\n",
      "At the center of the room stands the cult leader, a tall figure draped in tattered robes adorned with arcane symbols. His eyes burn with a malevolent intensity as he raises his staff, chanting in a guttural, ancient language. Surrounding him are his elite guards, their faces hidden behind masks, each holding a weapon ready for battle.\n",
      "\n",
      "To your horror, you see your brother standing near the cult leader, his eyes glazed over and his movements stiff, as if under a spell. He holds a dagger, poised to complete the ritual that will summon the tentacle monster from the depths.\n",
      "\n",
      "The air is thick with the smell of burning incense and the metallic tang of blood. The walls are lined with grotesque carvings depicting monstrous sea creatures, adding to the room&#39;s oppressive atmosphere. The sound of crashing waves from outside the lighthouse mingles with the cult leader&#39;s chants, creating a disorienting cacophony.\n",
      "\n",
      "You feel a sense of urgency as the sigil&#39;s glow intensifies, signaling that the ritual is nearly complete. The cult leader&#39;s voice rises to a fever pitch, and you know you must act quickly. The fate of your brother and the world hangs in the balance as you prepare to engage in a fierce battle against the cult leader and his guards.\n",
      "\n",
      "### Room #5: Reward or Revelation\n",
      "As you step into the hidden chamber, the air is thick with the scent of aged parchment and the faint, salty tang of the sea. The room is dimly lit by flickering lanterns, casting long shadows that dance across the walls lined with ancient tomes and scrolls. The atmosphere is one of quiet reverence, as if the very walls hold the secrets of centuries past.\n",
      "\n",
      "In the center of the chamber, a large, ornate chest sits atop a stone pedestal, its surface adorned with intricate carvings of sea creatures and arcane symbols. The chest is slightly ajar, revealing a glimpse of the treasures within—glittering jewels, gold coins, and a powerful artifact that seems to hum with latent energy. This artifact, a beautifully crafted trident, glows faintly with a soft, azure light, promising great power to those who wield it.\n",
      "\n",
      "As you take in the sight, your brother, now free from the cult&#39;s spell, steps forward. His eyes, once clouded with enchantment, are now clear and filled with determination. &quot;Thank you for saving me,&quot; he says, his voice steady. &quot;I remember everything now. The cult was just a small part of a much larger conspiracy. There are other sea witch cults out there, plotting and scheming. We must stop them.&quot;\n",
      "\n",
      "He gestures to a nearby table, where a letter lies open. The parchment is worn, but the ink is still legible, detailing the cult&#39;s plans and hinting at the existence of other, more powerful factions. &quot;This letter,&quot; your brother continues, &quot;reveals the locations of other cults. We have a long journey ahead of us, but with this information and the artifact, we stand a chance.&quot;\n",
      "\n",
      "The room falls silent for a moment, the weight of the revelation settling in. The treasures around you are a testament to the cult&#39;s reach and influence, but they are also a promise of the rewards that await those who dare to challenge the darkness. As you gather the treasures and prepare to leave, the sense of a new adventure looms on the horizon, filled with danger, mystery, and the promise of even greater rewards.\n",
      "\n",
      "## NPCs and Monsters\n",
      "**Name**: Acolyte Thalor\n",
      "**Appearance**: A gaunt man with sunken eyes and pale skin, wearing dark robes adorned with seaweed and barnacles.\n",
      "**Personality**: Fanatical and unwavering, Thalor is deeply devoted to the cult&#39;s cause and will stop at nothing to protect the ritual. He speaks in a low, eerie tone and often mutters incantations under his breath.\n",
      "**Role/Purpose**: One of the cultist acolytes guarding the entrance, Thalor&#39;s chanting maintains the magical seal on the door. Disrupting his chant or defeating him is crucial for the players to gain entry into the lighthouse.\n",
      "\n",
      "**Name**: Captain Elara\n",
      "**Appearance**: A tall woman with a commanding presence, dressed in a tattered naval uniform with a tricorn hat. Her eyes are sharp and calculating, and she carries a cutlass at her side.\n",
      "**Personality**: Intelligent and strategic, Elara is a former naval officer who now serves the cult. She is fiercely loyal to the cult leader but harbors a deep resentment for the navy that abandoned her.\n",
      "**Role/Purpose**: Elara is the mastermind behind the puzzle involving the nautical charts and model ships. She left behind a hidden journal with clues to the puzzle, providing an alternative way for players to solve it. Her knowledge of the sea and navigation is unparalleled.\n",
      "\n",
      "**Name**: Cult Leader Malakar\n",
      "**Appearance**: A tall, imposing figure with a bald head and intricate tattoos covering his face and arms. He wears elaborate robes that shimmer with an otherworldly light, and his eyes glow with a malevolent energy.\n",
      "**Personality**: Charismatic and ruthless, Malakar is a powerful cleric who commands absolute loyalty from his followers. He is driven by a desire to summon the tentacle monster and gain its power, believing it will grant him dominion over the seas.\n",
      "**Role/Purpose**: The main antagonist at the top of the lighthouse, Malakar is performing the ritual to summon the tentacle monster. He is a formidable opponent in combat, using both powerful spells and his elite guards to challenge the players. Stopping him is essential to prevent the summoning and save the player&#39;s brother.\n",
      "\n",
      "## Loot Table\n",
      "Here is a loot rolltable for the five-room dungeon described:\n",
      "\n",
      "| D20 Roll | Item Name                | Low Value Description                                                                 | Medium Value Description                                                                 | High Value Description                                                                 |\n",
      "|----------|--------------------------|---------------------------------------------------------------------------------------|-----------------------------------------------------------------------------------------|----------------------------------------------------------------------------------------|\n",
      "| 1        | Cultist&#39;s Dagger         | A simple, slightly rusted dagger used by the cultists.                                 | A well-crafted dagger with a faint magical aura, granting +1 to attack rolls.            | A finely crafted dagger with a strong magical aura, granting +2 to attack rolls.        |\n",
      "| 2        | Nautical Chart           | A worn and faded chart showing local waters.                                           | A detailed chart with notes on hidden coves and currents, useful for navigation.         | An ancient chart with magical properties, revealing hidden treasures when used.         |\n",
      "| 3        | Miniature Ship           | A small wooden ship model, part of the puzzle.                                         | A finely detailed ship model, valuable to collectors.                                    | A magical ship model that can transform into a real, small boat for a short duration.   |\n",
      "| 4        | Hidden Journal           | A journal with some cryptic notes and sketches.                                        | A journal with detailed notes on the cult&#39;s activities and some useful spells.           | A journal with powerful spells and detailed maps of the cult&#39;s hideouts.                |\n",
      "| 5        | Cultist Robes            | Simple, tattered robes worn by the cultists.                                           | Robes with minor enchantments, providing +1 to stealth checks.                           | Robes with strong enchantments, providing +2 to stealth checks and resistance to magic. |\n",
      "| 6        | Sealed Scroll            | A scroll with a basic spell, sealed with wax.                                          | A scroll with a useful spell, such as &quot;Water Breathing&quot; or &quot;Detect Magic.&quot;               | A scroll with a powerful spell, such as &quot;Teleport&quot; or &quot;Control Water.&quot;                  |\n",
      "| 7        | Hidden Lever             | A simple lever mechanism, part of the trap.                                            | A lever with intricate designs, valuable to collectors.                                  | A magical lever that can be used to disarm traps or open secret doors.                  |\n",
      "| 8        | Cult Leader&#39;s Amulet     | A tarnished amulet with the cult&#39;s symbol.                                             | An amulet with minor protective enchantments, granting +1 to saving throws.              | A powerful amulet with strong protective enchantments, granting +2 to saving throws.    |\n",
      "| 9        | Tentacle Monster Relic   | A small, eerie relic resembling a tentacle.                                            | A relic with minor magical properties, useful for summoning small creatures.             | A powerful relic that can summon a tentacle monster for a short duration.               |\n",
      "| 10       | Ancient Tome             | A dusty, old book with some historical information.                                    | A tome with detailed information on the cult and some useful spells.                     | A powerful tome with advanced spells and secrets about the cult&#39;s operations.           |\n",
      "| 11       | Ritual Components        | Basic components used in the cult&#39;s rituals.                                           | Rare components that can be used in powerful rituals or sold for a high price.           | Unique components with strong magical properties, highly sought after by mages.         |\n",
      "| 12       | Brother&#39;s Pendant        | A simple pendant worn by the player&#39;s brother.                                         | A pendant with minor protective enchantments, granting +1 to AC.                         | A powerful pendant with strong protective enchantments, granting +2 to AC.              |\n",
      "| 13       | Cultist&#39;s Staff          | A basic wooden staff used by the cultists.                                             | A staff with minor magical properties, granting +1 to spell attack rolls.                | A powerful staff with strong magical properties, granting +2 to spell attack rolls.     |\n",
      "| 14       | Hidden Treasure Chest    | A small chest with some coins and trinkets.                                            | A chest with valuable gems and coins.                                                    | A chest with rare artifacts and a significant amount of gold.                           |\n",
      "| 15       | Sea Witch&#39;s Letter       | A letter with some cryptic notes about the sea witch cults.                            | A detailed letter revealing important information about the sea witch cults.             | A letter with powerful spells and detailed plans of the sea witch cults&#39; operations.    |\n",
      "| 16       | Powerful Artifact        | A minor artifact with some magical properties.                                         | A valuable artifact with strong magical properties, useful in future quests.             | A legendary artifact with powerful magical properties, highly sought after by heroes.   |\n",
      "| 17       | Cultist&#39;s Potion         | A basic healing potion, restoring a small amount of health.                            | A potion with strong healing properties, restoring a significant amount of health.       | A powerful potion with advanced healing properties, fully restoring health.             |\n",
      "| 18       | Elite Guard&#39;s Armor      | Basic armor worn by the cult&#39;s elite guards.                                           | Armor with minor enchantments, providing +1 to AC.                                       | Armor with strong enchantments, providing +2 to AC and resistance to physical damage.   |\n",
      "| 19       | Map of Hidden Coves      | A simple map showing some hidden coves in the area.                                    | A detailed map with notes on hidden treasures and dangers in the coves.                  | A magical map that reveals hidden treasures and safe passages in the coves.             |\n",
      "| 20       | Sea Witch&#39;s Trident      | A basic trident with some decorative elements.                                         | A trident with minor magical properties, granting +1 to attack and damage rolls.         | A powerful trident with strong magical properties, granting +2 to attack and damage rolls. |\n",
      "\n",
      "This rolltable provides a variety of items that are thematically linked to the dungeon, offering a mix of mundane and magical items with varying levels of value.\r\n"
     ]
    }
   ],
   "source": [
    "#pragma warning disable SKEXP0060\n",
    "\n",
    "var executionPlanResult = await executionPlan.InvokeAsync(kernel, new KernelArguments());\n",
    "\n",
    "Console.WriteLine(executionPlanResult.ToString());"
   ]
  },
  {
   "cell_type": "markdown",
   "metadata": {},
   "source": [
    "## Step 6 - Structure the Data\n",
    "\n",
    "The generated content will be more useful to us if we can structure it into a data format that can be consumed by other systems."
   ]
  },
  {
   "cell_type": "code",
   "execution_count": 114,
   "metadata": {},
   "outputs": [],
   "source": [
    "// Construct arguments\n",
    "var arguments = new KernelArguments() { [\"input_context\"] = markdownContent };\n",
    "\n",
    "// Define the POCO classes\n",
    "public class NPC\n",
    "{\n",
    "    public string name { get; set; }\n",
    "    public string appearance { get; set; }\n",
    "    public string personality { get; set; }\n",
    "    public string role { get; set; }\n",
    "}\n",
    "\n",
    "public class Entry\n",
    "{\n",
    "    public int roll { get; set; }\n",
    "    public string item { get; set; }\n",
    "    public string description_basic { get; set; }\n",
    "    public string description_intermediate { get; set; }\n",
    "    public string description_advanced { get; set; }\n",
    "}\n",
    "\n",
    "public class RollTable\n",
    "{\n",
    "    public string description { get; set; }\n",
    "    public List<Entry> entries { get; set; }\n",
    "}\n",
    "\n",
    "public class LootTable\n",
    "{\n",
    "    public RollTable rolltable { get; set; }\n",
    "}\n",
    "\n",
    "public class FiveRoomDungeon\n",
    "{\n",
    "    public string title { get; set; }\n",
    "    public string introduction { get; set; }\n",
    "    public string plot_twist { get; set; }\n",
    "    public List<Room> rooms { get; set; }\n",
    "}\n",
    "\n",
    "public class Room\n",
    "{\n",
    "    public int room_number { get; set; }\n",
    "    public string title { get; set; }\n",
    "    public string objective { get; set; }\n",
    "    public string design { get; set; }\n",
    "    public string description { get; set; }\n",
    "}\n",
    "\n",
    "// Create the output directory\n",
    "var outputDirectory = Path.Combine(System.IO.Directory.GetCurrentDirectory(), \"..\", \"output\");\n",
    "if (!Directory.Exists(outputDirectory))\n",
    "{\n",
    "    Directory.CreateDirectory(outputDirectory);\n",
    "}\n",
    "\n",
    "// Parse the Five-Room Dungeon markdown content into JSON\n",
    "var jsonContent5RD = await kernel.InvokeAsync(pluginFunctions[\"JSONFormatFiveRoomDungeon\"], arguments);\n",
    "var jsonContent5RDString = jsonContent5RD.ToString().Replace(\"```json\", string.Empty).Replace(\"```\", string.Empty).Trim();\n",
    "File.WriteAllText(Path.Combine(outputDirectory, \"five-room-dungeon.json\"), jsonContent5RDString);\n",
    "FiveRoomDungeon fiveRoomDungeon = JsonSerializer.Deserialize<FiveRoomDungeon>(jsonContent5RDString);\n",
    "\n",
    "// Parse the Loot markdown content into JSON\n",
    "var jsonContentLoot = await kernel.InvokeAsync(pluginFunctions[\"JSONFormatLootTable\"], arguments);\n",
    "var jsonContentLootString = jsonContentLoot.ToString().Replace(\"```json\", string.Empty).Replace(\"```\", string.Empty).Trim();\n",
    "File.WriteAllText(Path.Combine(outputDirectory, \"loot-table.json\"), jsonContentLootString);\n",
    "LootTable lootTable = JsonSerializer.Deserialize<LootTable>(jsonContentLootString);\n",
    "\n",
    "// Parse the NPC markdown content into JSON\n",
    "var jsonContentNPCs = await kernel.InvokeAsync(pluginFunctions[\"JSONFormatNPCs\"], arguments);\n",
    "var jsonContentNPCsString = jsonContentNPCs.ToString().Replace(\"```json\", string.Empty).Replace(\"```\", string.Empty).Trim();\n",
    "File.WriteAllText(Path.Combine(outputDirectory, \"npcs.json\"), jsonContentNPCsString);\n",
    "List<NPC> npcs = JsonSerializer.Deserialize<List<NPC>>(jsonContentNPCsString);"
   ]
  },
  {
   "cell_type": "markdown",
   "metadata": {},
   "source": [
    "## Step 7 - Use the Structured Data\n",
    "\n",
    "Now that we have structured data, we can programmatically iterate through objects of interest and perform further action.  In this case, we'll be generating token images for each NPC."
   ]
  },
  {
   "cell_type": "code",
   "execution_count": 116,
   "metadata": {
    "dotnet_interactive": {
     "language": "csharp"
    },
    "polyglot_notebook": {
     "kernelName": "csharp"
    }
   },
   "outputs": [],
   "source": [
    "#pragma warning disable SKEXP0001\n",
    "\n",
    "var prompt = \"A photo-realistic portrait of an NPC with the following description: \";\n",
    "\n",
    "// Create an httpClient\n",
    "var httpClient = new HttpClient();\n",
    "\n",
    "// // Output the deserialized objects\n",
    "// foreach (var npc in npcs)\n",
    "// {\n",
    "//     // Use DALL-E 3 to generate an image. OpenAI in this case returns a URL (though you can ask to return a base64 image)\n",
    "//     var imageUrl = await dallE.GenerateImageAsync(prompt + npc.appearance, 1024, 1024);\n",
    "\n",
    "//     // Download the image to a local file\n",
    "//     using (Stream stream = await httpClient.GetStreamAsync(imageUrl))\n",
    "//     using (MemoryStream memStream = new MemoryStream())\n",
    "//     {\n",
    "//         await stream.CopyToAsync(memStream);\n",
    "//         File.WriteAllBytes(Path.Combine(outputDirectory, $\"{npc.name}.png\"), memStream.ToArray());\n",
    "//     };\n",
    "// }\n",
    "\n",
    "// Construct the markdown content\n",
    "var markdownContent = new StringBuilder();\n",
    "markdownContent.AppendLine($\"# {fiveRoomDungeon.title}\");\n",
    "markdownContent.AppendLine();\n",
    "markdownContent.AppendLine(fiveRoomDungeon.introduction);\n",
    "markdownContent.AppendLine();\n",
    "markdownContent.AppendLine(\"## Plot Twist\");\n",
    "markdownContent.AppendLine(fiveRoomDungeon.plot_twist);\n",
    "markdownContent.AppendLine();\n",
    "markdownContent.AppendLine(\"## Rooms\");\n",
    "foreach (var room in fiveRoomDungeon.rooms)\n",
    "{\n",
    "    markdownContent.AppendLine($\"### Room {room.room_number}: {room.title}\");\n",
    "    markdownContent.AppendLine();\n",
    "    markdownContent.AppendLine($\"**Objective**: {room.objective}\");\n",
    "    markdownContent.AppendLine();\n",
    "    markdownContent.AppendLine($\"**Design**: {room.design}\");\n",
    "    markdownContent.AppendLine();\n",
    "    markdownContent.AppendLine($\"**Description**: {room.description}\");\n",
    "    markdownContent.AppendLine();\n",
    "}\n",
    "markdownContent.AppendLine(\"## NPCs\");\n",
    "foreach (var npc in npcs)\n",
    "{\n",
    "    markdownContent.AppendLine($\"### {npc.name}\");\n",
    "    markdownContent.AppendLine();\n",
    "    markdownContent.AppendLine($\"**Appearance**: {npc.appearance}\");\n",
    "    markdownContent.AppendLine();\n",
    "    markdownContent.AppendLine($\"**Personality**: {npc.personality}\");\n",
    "    markdownContent.AppendLine();\n",
    "    markdownContent.AppendLine($\"**Role**: {npc.role}\");\n",
    "    markdownContent.AppendLine();\n",
    "    markdownContent.AppendLine($\"![{npc.name}](./{npc.name}.png)\");\n",
    "    markdownContent.AppendLine();\n",
    "}\n",
    "markdownContent.AppendLine(\"## Loot Table\");\n",
    "markdownContent.AppendLine(lootTable.rolltable.description);\n",
    "markdownContent.AppendLine();\n",
    "markdownContent.AppendLine(\"| Roll | Item | Basic Description | Intermediate Description | Advanced Description |\");\n",
    "markdownContent.AppendLine(\"|------|------|-------------------|-------------------------|----------------------|\");\n",
    "if (lootTable.rolltable.entries != null)\n",
    "{\n",
    "    foreach (var entry in lootTable.rolltable.entries)\n",
    "    {\n",
    "        markdownContent.AppendLine($\"| {entry.roll} | {entry.item} | {entry.description_basic} | {entry.description_intermediate} | {entry.description_advanced} |\");\n",
    "    }\n",
    "}\n",
    "\n",
    "// Output the markdown content to a file\n",
    "File.WriteAllText(Path.Combine(outputDirectory, \"five-room-dungeon.md\"), markdownContent.ToString());\n"
   ]
  }
 ],
 "metadata": {
  "kernelspec": {
   "display_name": ".NET (C#)",
   "language": "C#",
   "name": ".net-csharp"
  },
  "language_info": {
   "name": "polyglot-notebook"
  },
  "polyglot_notebook": {
   "kernelInfo": {
    "defaultKernelName": "csharp",
    "items": [
     {
      "aliases": [],
      "name": "csharp"
     }
    ]
   }
  }
 },
 "nbformat": 4,
 "nbformat_minor": 2
}
