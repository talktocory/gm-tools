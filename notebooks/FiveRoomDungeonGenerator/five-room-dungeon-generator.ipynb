{
 "cells": [
  {
   "attachments": {},
   "cell_type": "markdown",
   "metadata": {},
   "source": [
    "# Five-Room Dungeon Generator\n",
    "\n",
    "The Five-Room Dungeon Generator provides GMs with a way to quickly generate a custom five-room dungeon that can be incorporated into their campaign.  Simply provide the notebook with a concept and the notebook will do the rest.\n",
    "\n",
    "> [!IMPORTANT]\n",
    "> You will need an [.NET 8 SDK](https://dotnet.microsoft.com/en-us/download/dotnet/8.0) and [Polyglot](https://marketplace.visualstudio.com/items?itemName=ms-dotnettools.dotnet-interactive-vscode) to get started with this notebook using .NET Interactive.\n",
    "> \n",
    ">\n",
    "> To run the LLM prompts and semantic functions, make sure you have an\n",
    "> - [Azure OpenAI Service Key](https://learn.microsoft.com/azure/cognitive-services/openai/quickstart?pivots=rest-api) or\n",
    "> - [OpenAI API Key](https://platform.openai.com)."
   ]
  },
  {
   "cell_type": "markdown",
   "metadata": {},
   "source": [
    "## Step 1 - Configure Generative AI Settings\n",
    "\n",
    "Run the following cells to configure your AI generative settings."
   ]
  },
  {
   "cell_type": "markdown",
   "metadata": {},
   "source": [
    "\n",
    "Choose whether you wish to use the OpenAI or Azure OpenAI service."
   ]
  },
  {
   "cell_type": "code",
   "execution_count": 55,
   "metadata": {
    "dotnet_interactive": {
     "language": "csharp"
    },
    "polyglot_notebook": {
     "kernelName": "csharp"
    }
   },
   "outputs": [],
   "source": [
    "bool useAzureOpenAI = false;"
   ]
  },
  {
   "cell_type": "markdown",
   "metadata": {},
   "source": [
    "Execute the following code which will ask a few questions and save the settings to a local\n",
    "`settings.json` configuration file, under the [config](config) folder. You can\n",
    "also edit the file manually if you prefer. **Please keep the file safe.**"
   ]
  },
  {
   "cell_type": "code",
   "execution_count": 56,
   "metadata": {
    "dotnet_interactive": {
     "language": "csharp"
    },
    "polyglot_notebook": {
     "kernelName": "csharp"
    }
   },
   "outputs": [
    {
     "name": "stdout",
     "output_type": "stream",
     "text": [
      "Settings: OK: AI model configured [config/settings.json]\n",
      "Settings: OK: API key configured [config/settings.json]\n"
     ]
    }
   ],
   "source": [
    "#!import config/Settings.cs\n",
    "\n",
    "await Settings.AskAzureEndpoint(useAzureOpenAI);\n",
    "await Settings.AskModel(useAzureOpenAI);\n",
    "await Settings.AskApiKey(useAzureOpenAI);\n",
    "\n",
    "// Uncomment this if you're using OpenAI and need to set the Org Id\n",
    "await Settings.AskOrg(useAzureOpenAI);"
   ]
  },
  {
   "cell_type": "markdown",
   "metadata": {},
   "source": [
    "\n",
    "\n",
    "Define your five-room dungeon concept."
   ]
  },
  {
   "cell_type": "markdown",
   "metadata": {},
   "source": [
    "## Step 2 - Define your Input\n",
    "\n",
    "Provide your testing context information in `input/user_message.txt`."
   ]
  },
  {
   "cell_type": "code",
   "execution_count": 57,
   "metadata": {
    "dotnet_interactive": {
     "language": "csharp"
    },
    "polyglot_notebook": {
     "kernelName": "csharp"
    }
   },
   "outputs": [],
   "source": [
    "using System.IO;\n",
    "// Load all text in ../input/user_message.text\n",
    "string user_message = await System.IO.File.ReadAllTextAsync(\"input/user_message.txt\");\n",
    "\n",
    "// Load all text in ../input/system_message.text\n",
    "string system_message = await System.IO.File.ReadAllTextAsync(\"input/system_message.txt\");\n",
    "\n",
    "// Delete all existing files in ../output\n",
    "System.IO.DirectoryInfo di = new System.IO.DirectoryInfo(\"output\");\n",
    "foreach (System.IO.FileInfo file in di.GetFiles())\n",
    "{\n",
    "    file.Delete(); \n",
    "}"
   ]
  },
  {
   "cell_type": "markdown",
   "metadata": {},
   "source": [
    "## Step 3 - Generate the Content\n",
    "\n",
    "All generated output will be found in the `output` folder.  If no files exist in this folder post execution, expand this section and review the code execution results for failure."
   ]
  },
  {
   "cell_type": "code",
   "execution_count": 58,
   "metadata": {
    "dotnet_interactive": {
     "language": "csharp"
    },
    "polyglot_notebook": {
     "kernelName": "csharp"
    }
   },
   "outputs": [
    {
     "data": {
      "text/html": [
       "<div><div></div><div></div><div><strong>Installed Packages</strong><ul><li><span>Microsoft.SemanticKernel, 1.16.0</span></li><li><span>SkiaSharp, 2.88.8</span></li><li><span>System.Numerics.Tensors, 8.0.0</span></li></ul></div></div>"
      ]
     },
     "metadata": {},
     "output_type": "display_data"
    }
   ],
   "source": [
    "// Remove previously installed nuget packages\n",
    "#r \"nuget: Microsoft.SemanticKernel\"\n",
    "#r \"nuget: System.Numerics.Tensors\"\n",
    "#r \"nuget: SkiaSharp\"\n",
    "\n",
    "#!import config/Settings.cs\n",
    "#!import config/Utils.cs\n",
    "#!import config/SkiaUtils.cs\n",
    "\n",
    "#!import models/Entry.cs\n",
    "#!import models/Room.cs\n",
    "#!import models/NPC.cs\n",
    "#!import models/RollTable.cs\n",
    "#!import models/LootTable.cs\n",
    "#!import models/FiveRoomDungeon.cs\n",
    "\n",
    "using System.ComponentModel;\n",
    "using System.Numerics.Tensors;\n",
    "using Microsoft.SemanticKernel;\n",
    "using Microsoft.SemanticKernel.ChatCompletion;\n",
    "using Microsoft.SemanticKernel.Connectors.OpenAI;\n",
    "using Microsoft.SemanticKernel.Embeddings;\n",
    "using Microsoft.SemanticKernel.TextToImage;\n",
    "\n",
    "#pragma warning disable SKEXP0001, SKEXP0010\n",
    "\n",
    "var builder = Microsoft.SemanticKernel.Kernel.CreateBuilder();\n",
    "\n",
    "// Configure AI backend used by the kernel\n",
    "var (useAzureOpenAI, model, azureEndpoint, apiKey, orgId) = Settings.LoadFromFile();\n",
    "\n",
    "var httpClient = new HttpClient\n",
    "{\n",
    "    Timeout = TimeSpan.FromMinutes(10),\n",
    "};\n",
    "\n",
    "\n",
    "if (useAzureOpenAI)\n",
    "{\n",
    "    builder.AddAzureOpenAITextEmbeddingGeneration(\"text-embedding-ada-002\", azureEndpoint, apiKey);\n",
    "    builder.AddAzureOpenAIChatCompletion(model, azureEndpoint, apiKey, httpClient: httpClient);\n",
    "    builder.AddAzureOpenAITextToImage(\"dall-e-3\", azureEndpoint, apiKey);\n",
    "}\n",
    "    \n",
    "else\n",
    "{\n",
    "    builder.AddOpenAITextEmbeddingGeneration(\"text-embedding-ada-002\", apiKey, orgId);\n",
    "    builder.AddOpenAIChatCompletion(model, apiKey, orgId, httpClient: httpClient);\n",
    "    builder.AddOpenAITextToImage(apiKey, orgId);\n",
    "}\n",
    "\n",
    "var pluginsDirectory = Path.Combine(System.IO.Directory.GetCurrentDirectory(), \"..\", \"..\", \"plugins\");\n",
    "\n",
    "var kernel = builder.Build();\n",
    "\n",
    "// Get plugin functions\n",
    "var pluginFunctions = kernel.ImportPluginFromPromptDirectory(Path.Combine(pluginsDirectory, \"FiveRoomDungeonPlugin\"));\n",
    "\n",
    "// Create the output directory\n",
    "var outputDirectory = Path.Combine(System.IO.Directory.GetCurrentDirectory(), \"output\");\n",
    "if (!Directory.Exists(outputDirectory))\n",
    "{\n",
    "    Directory.CreateDirectory(outputDirectory);\n",
    "}\n",
    "\n",
    "// Get chat completion service instance\n",
    "var chatCompletionService = kernel.GetRequiredService<IChatCompletionService>();\n",
    "\n",
    "// Get AI service instance used to generate images\n",
    "var dallE = kernel.GetRequiredService<ITextToImageService>();\n",
    "\n",
    "// Get AI service instance used to extract embedding from a text\n",
    "var textEmbedding = kernel.GetRequiredService<ITextEmbeddingGenerationService>();\n",
    "\n",
    "OpenAIPromptExecutionSettings openAIPromptExecutionSettings = new() \n",
    "{\n",
    "    ToolCallBehavior = ToolCallBehavior.AutoInvokeKernelFunctions\n",
    "};\n",
    "\n",
    "var history = new ChatHistory();\n"
   ]
  },
  {
   "cell_type": "markdown",
   "metadata": {},
   "source": [
    "Generate the five-room dungeon outline, room descriptions and loot table."
   ]
  },
  {
   "cell_type": "code",
   "execution_count": 59,
   "metadata": {
    "dotnet_interactive": {
     "language": "csharp"
    },
    "polyglot_notebook": {
     "kernelName": "csharp"
    }
   },
   "outputs": [],
   "source": [
    "#pragma warning disable SKEXP0001\n",
    "\n",
    "// Add the system message to the chat history\n",
    "history.AddSystemMessage(system_message);\n",
    "\n",
    "// Add the user message to the chat history\n",
    "history.AddUserMessage(user_message);\n",
    "\n",
    "// 1. Get the response from the AI with automatic function calling\n",
    "var result = await chatCompletionService.GetChatMessageContentAsync(\n",
    "    history,\n",
    "    executionSettings: openAIPromptExecutionSettings,\n",
    "    kernel: kernel);\n",
    "\n",
    "// Add the message from the agent to the chat history\n",
    "history.AddMessage(result.Role, result.Content ?? string.Empty);\n",
    "\n",
    "// Examine the chat history and output a summary to the console\n",
    "foreach (var message in history.ToArray<ChatMessageContent>())\n",
    "{\n",
    "    // Limit the output to 500 characters\n",
    "    var formattedMessage = (message.Content?.Length > 100 ? message.Content.Substring(0, 100) + \"...\" : message.Content ?? string.Empty).Replace(\"\\n\", \" \").Replace(\"\\r\", \" \").Replace(\"\\t\", \" \");\n",
    "\n",
    "    if (message.Role == AuthorRole.Tool)\n",
    "    {\n",
    "        var functionResult = (FunctionResultContent) message.Items.Where<KernelContent>(x => x is Microsoft.SemanticKernel.FunctionResultContent).FirstOrDefault();\n",
    "        Console.WriteLine($\"{functionResult?.PluginName ?? string.Empty}/{functionResult?.FunctionName ?? string.Empty}:\");\n",
    "        Console.WriteLine($\"\\t{formattedMessage}\");\n",
    "    }\n",
    "    else if (message.Role == AuthorRole.System)\n",
    "    {\n",
    "        Console.WriteLine(\"System: \");\n",
    "        Console.WriteLine($\"\\t{formattedMessage}\");\n",
    "    }\n",
    "    else if (message.Role == AuthorRole.User)\n",
    "    {\n",
    "        Console.WriteLine(\"User: \");\n",
    "        Console.WriteLine($\"\\t{formattedMessage}\");\n",
    "    }\n",
    "    else if (message.Role == AuthorRole.Assistant)\n",
    "    {\n",
    "        Console.WriteLine(\"Assistant: \");\n",
    "        foreach (var item in message.Items.ToArray<KernelContent>())\n",
    "        {\n",
    "            if (item is FunctionCallContent functionResult)\n",
    "            {\n",
    "                functionResult = (FunctionCallContent) item;\n",
    "                Console.WriteLine($\"\\tCalling {functionResult.PluginName}/{functionResult.FunctionName}\");\n",
    "            }\n",
    "            else if (!string.IsNullOrEmpty(formattedMessage))\n",
    "            {\n",
    "                Console.WriteLine($\"\\t{formattedMessage}\");\n",
    "            }\n",
    "        }\n",
    "    }\n",
    "    else\n",
    "    {\n",
    "        Console.WriteLine($\"Unknown: {formattedMessage}\");\n",
    "    }\n",
    "}"
   ]
  },
  {
   "cell_type": "markdown",
   "metadata": {},
   "source": [
    "The generated content will be more useful to us if we can structure it into a data format that can be consumed by other systems."
   ]
  },
  {
   "cell_type": "code",
   "execution_count": 63,
   "metadata": {
    "dotnet_interactive": {
     "language": "csharp"
    },
    "polyglot_notebook": {
     "kernelName": "csharp"
    }
   },
   "outputs": [],
   "source": [
    "// Construct arguments\n",
    "var arguments = new KernelArguments() { [\"input_context\"] = result.Content };\n",
    "\n",
    "// Parse the Five-Room Dungeon markdown content into JSON\n",
    "var jsonContent5RD = await kernel.InvokeAsync(pluginFunctions[\"JSONFormatFiveRoomDungeon\"], arguments);\n",
    "var jsonContent5RDString = jsonContent5RD.ToString().Replace(\"```json\", string.Empty).Replace(\"```\", string.Empty).Trim();\n",
    "File.WriteAllText(Path.Combine(outputDirectory, \"five-room-dungeon.json\"), jsonContent5RDString);\n",
    "FiveRoomDungeon fiveRoomDungeon = JsonSerializer.Deserialize<FiveRoomDungeon>(jsonContent5RDString);\n",
    "\n",
    "// Parse the Loot markdown content into JSON\n",
    "var jsonContentLoot = await kernel.InvokeAsync(pluginFunctions[\"JSONFormatLootTable\"], arguments);\n",
    "var jsonContentLootString = jsonContentLoot.ToString().Replace(\"```json\", string.Empty).Replace(\"```\", string.Empty).Trim();\n",
    "File.WriteAllText(Path.Combine(outputDirectory, \"loot-table.json\"), jsonContentLootString);\n",
    "LootTable lootTable = JsonSerializer.Deserialize<LootTable>(jsonContentLootString);\n",
    "\n",
    "// Parse the NPC markdown content into JSON\n",
    "var jsonContentNPCs = await kernel.InvokeAsync(pluginFunctions[\"JSONFormatNPCs\"], arguments);\n",
    "var jsonContentNPCsString = jsonContentNPCs.ToString().Replace(\"```json\", string.Empty).Replace(\"```\", string.Empty).Trim();\n",
    "File.WriteAllText(Path.Combine(outputDirectory, \"npcs.json\"), jsonContentNPCsString);\n",
    "List<NPC> npcs = JsonSerializer.Deserialize<List<NPC>>(jsonContentNPCsString);"
   ]
  },
  {
   "cell_type": "markdown",
   "metadata": {},
   "source": [
    "Now that we have structured data, we can programmatically iterate through objects of interest and perform further action.  In this case, we'll be generating token images for each NPC and consolidate the generated content into a single markdown document."
   ]
  },
  {
   "cell_type": "code",
   "execution_count": 64,
   "metadata": {
    "dotnet_interactive": {
     "language": "csharp"
    },
    "polyglot_notebook": {
     "kernelName": "csharp"
    }
   },
   "outputs": [],
   "source": [
    "#pragma warning disable SKEXP0001\n",
    "\n",
    "var prompt = \"A photo-realistic portrait of an NPC with the following description: \";\n",
    "\n",
    "// Create an httpClient\n",
    "var httpClient = new HttpClient();\n",
    "\n",
    "// Output the deserialized objects\n",
    "foreach (var npc in npcs)\n",
    "{\n",
    "    // Use DALL-E 3 to generate an image. OpenAI in this case returns a URL (though you can ask to return a base64 image)\n",
    "    var imageUrl = await dallE.GenerateImageAsync(prompt + npc.appearance, 256, 256);\n",
    "\n",
    "    // Download the image to a local file\n",
    "    using (Stream stream = await httpClient.GetStreamAsync(imageUrl))\n",
    "    using (MemoryStream memStream = new MemoryStream())\n",
    "    {\n",
    "        await stream.CopyToAsync(memStream);\n",
    "        File.WriteAllBytes(Path.Combine(outputDirectory, $\"{npc.name}.png\"), memStream.ToArray());\n",
    "    };\n",
    "}\n",
    "\n",
    "// Construct the markdown content\n",
    "var markdownContent = new StringBuilder();\n",
    "markdownContent.AppendLine($\"# {fiveRoomDungeon.title}\");\n",
    "markdownContent.AppendLine();\n",
    "markdownContent.AppendLine(fiveRoomDungeon.introduction);\n",
    "markdownContent.AppendLine();\n",
    "markdownContent.AppendLine(\"## Plot Twist\");\n",
    "markdownContent.AppendLine(fiveRoomDungeon.plot_twist);\n",
    "markdownContent.AppendLine();\n",
    "markdownContent.AppendLine(\"## Rooms\");\n",
    "foreach (var room in fiveRoomDungeon.rooms)\n",
    "{\n",
    "    markdownContent.AppendLine($\"### Room {room.room_number}: {room.title}\");\n",
    "    markdownContent.AppendLine();\n",
    "    markdownContent.AppendLine($\"**Objective**: {room.objective}\");\n",
    "    markdownContent.AppendLine();\n",
    "    markdownContent.AppendLine($\"**Design**: {room.design}\");\n",
    "    markdownContent.AppendLine();\n",
    "    markdownContent.AppendLine($\"**Description**: {room.description}\");\n",
    "    markdownContent.AppendLine();\n",
    "}\n",
    "markdownContent.AppendLine(\"## NPCs\");\n",
    "foreach (var npc in npcs)\n",
    "{\n",
    "    markdownContent.AppendLine($\"### {npc.name}\");\n",
    "    markdownContent.AppendLine();\n",
    "    markdownContent.AppendLine($\"**Appearance**: {npc.appearance}\");\n",
    "    markdownContent.AppendLine();\n",
    "    markdownContent.AppendLine($\"**Personality**: {npc.personality}\");\n",
    "    markdownContent.AppendLine();\n",
    "    markdownContent.AppendLine($\"**Role**: {npc.role}\");\n",
    "    markdownContent.AppendLine();\n",
    "    markdownContent.AppendLine($\"![{npc.name}](./{npc.name}.png)\");\n",
    "    markdownContent.AppendLine();\n",
    "}\n",
    "markdownContent.AppendLine(\"## Loot Table\");\n",
    "markdownContent.AppendLine(lootTable.rolltable.description);\n",
    "markdownContent.AppendLine();\n",
    "markdownContent.AppendLine(\"| Roll | Item | Basic Description | Intermediate Description | Advanced Description |\");\n",
    "markdownContent.AppendLine(\"|------|------|-------------------|-------------------------|----------------------|\");\n",
    "if (lootTable.rolltable.entries != null)\n",
    "{\n",
    "    foreach (var entry in lootTable.rolltable.entries)\n",
    "    {\n",
    "        markdownContent.AppendLine($\"| {entry.roll} | {entry.item} | {entry.description_basic} | {entry.description_intermediate} | {entry.description_advanced} |\");\n",
    "    }\n",
    "}\n",
    "\n",
    "// Output the markdown content to a file\n",
    "File.WriteAllText(Path.Combine(outputDirectory, \"five-room-dungeon.md\"), markdownContent.ToString());\n"
   ]
  }
 ],
 "metadata": {
  "kernelspec": {
   "display_name": ".NET (C#)",
   "language": "C#",
   "name": ".net-csharp"
  },
  "language_info": {
   "name": "polyglot-notebook"
  },
  "polyglot_notebook": {
   "kernelInfo": {
    "defaultKernelName": "csharp",
    "items": [
     {
      "aliases": [],
      "name": "csharp"
     }
    ]
   }
  }
 },
 "nbformat": 4,
 "nbformat_minor": 2
}
